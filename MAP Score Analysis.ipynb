{
 "cells": [
  {
   "cell_type": "code",
   "execution_count": 122,
   "metadata": {},
   "outputs": [
    {
     "name": "stdout",
     "output_type": "stream",
     "text": [
      "The autoreload extension is already loaded. To reload it, use:\n",
      "  %reload_ext autoreload\n"
     ]
    }
   ],
   "source": [
    "%load_ext autoreload\n",
    "%autoreload 2"
   ]
  },
  {
   "cell_type": "code",
   "execution_count": 123,
   "metadata": {},
   "outputs": [],
   "source": [
    "import pandas as pd  "
   ]
  },
  {
   "cell_type": "code",
   "execution_count": 124,
   "metadata": {
    "scrolled": true
   },
   "outputs": [],
   "source": [
    "from functions import *"
   ]
  },
  {
   "cell_type": "code",
   "execution_count": 18,
   "metadata": {
    "scrolled": false
   },
   "outputs": [],
   "source": [
    "# BOY MAP Data \n",
    "boy = pd.read_csv(\"Data/MAP_BOY_2020-21.csv\") \n",
    "\n",
    "# MOY MAP Data \n",
    "moy = pd.read_csv(\"Data/MAP_MOY_2020-21.csv\") \n",
    "\n",
    "# student demographic data\n",
    "demographics = pd.read_csv(\"Data/Student_Demographics_2020-21.csv\")"
   ]
  },
  {
   "cell_type": "markdown",
   "metadata": {},
   "source": [
    "# EDA "
   ]
  },
  {
   "cell_type": "markdown",
   "metadata": {},
   "source": [
    "## BOY MAP DATA"
   ]
  },
  {
   "cell_type": "code",
   "execution_count": 19,
   "metadata": {},
   "outputs": [
    {
     "data": {
      "text/html": [
       "<div>\n",
       "<style scoped>\n",
       "    .dataframe tbody tr th:only-of-type {\n",
       "        vertical-align: middle;\n",
       "    }\n",
       "\n",
       "    .dataframe tbody tr th {\n",
       "        vertical-align: top;\n",
       "    }\n",
       "\n",
       "    .dataframe thead th {\n",
       "        text-align: right;\n",
       "    }\n",
       "</style>\n",
       "<table border=\"1\" class=\"dataframe\">\n",
       "  <thead>\n",
       "    <tr style=\"text-align: right;\">\n",
       "      <th></th>\n",
       "      <th>Fake_Student_ID</th>\n",
       "      <th>TermName</th>\n",
       "      <th>DistrictName</th>\n",
       "      <th>SchoolName</th>\n",
       "      <th>StudentDateOfBirth</th>\n",
       "      <th>Grade</th>\n",
       "      <th>Subject</th>\n",
       "      <th>Course</th>\n",
       "      <th>TestType</th>\n",
       "      <th>TestName</th>\n",
       "      <th>TestStartDate</th>\n",
       "      <th>TestStartTime</th>\n",
       "      <th>TestDurationMinutes</th>\n",
       "      <th>TestRITScore</th>\n",
       "      <th>TestStandardError</th>\n",
       "      <th>TestPercentile</th>\n",
       "      <th>AchievementQuintile</th>\n",
       "      <th>PercentCorrect</th>\n",
       "    </tr>\n",
       "  </thead>\n",
       "  <tbody>\n",
       "    <tr>\n",
       "      <th>0</th>\n",
       "      <td>2115893</td>\n",
       "      <td>Fall 2020-2021</td>\n",
       "      <td>Dallas Independent School District (DISD)</td>\n",
       "      <td>Harry C Withers Elementary School</td>\n",
       "      <td>9/12/2012</td>\n",
       "      <td>2</td>\n",
       "      <td>Mathematics</td>\n",
       "      <td>Math K-12</td>\n",
       "      <td>Survey With Goals</td>\n",
       "      <td>Growth: Math 2-5 TX 2012</td>\n",
       "      <td>9/29/2020</td>\n",
       "      <td>9:04:36</td>\n",
       "      <td>38</td>\n",
       "      <td>187</td>\n",
       "      <td>3.0</td>\n",
       "      <td>82</td>\n",
       "      <td>High</td>\n",
       "      <td>50</td>\n",
       "    </tr>\n",
       "    <tr>\n",
       "      <th>1</th>\n",
       "      <td>2115893</td>\n",
       "      <td>Fall 2020-2021</td>\n",
       "      <td>Dallas Independent School District (DISD)</td>\n",
       "      <td>Harry C Withers Elementary School</td>\n",
       "      <td>9/12/2012</td>\n",
       "      <td>2</td>\n",
       "      <td>Language Arts</td>\n",
       "      <td>Reading</td>\n",
       "      <td>Survey With Goals</td>\n",
       "      <td>Growth: Reading 2-5 TX 2017</td>\n",
       "      <td>9/22/2020</td>\n",
       "      <td>8:45:17</td>\n",
       "      <td>94</td>\n",
       "      <td>197</td>\n",
       "      <td>3.5</td>\n",
       "      <td>95</td>\n",
       "      <td>High</td>\n",
       "      <td>60</td>\n",
       "    </tr>\n",
       "    <tr>\n",
       "      <th>2</th>\n",
       "      <td>5090051</td>\n",
       "      <td>Fall 2020-2021</td>\n",
       "      <td>Dallas Independent School District (DISD)</td>\n",
       "      <td>Louise Wolff Kahn Elementary School</td>\n",
       "      <td>5/14/2014</td>\n",
       "      <td>1</td>\n",
       "      <td>Mathematics</td>\n",
       "      <td>Math K-12</td>\n",
       "      <td>Survey With Goals</td>\n",
       "      <td>Growth: Math K-2 TX 2012</td>\n",
       "      <td>9/21/2020</td>\n",
       "      <td>9:19:13</td>\n",
       "      <td>37</td>\n",
       "      <td>153</td>\n",
       "      <td>3.2</td>\n",
       "      <td>29</td>\n",
       "      <td>LoAvg</td>\n",
       "      <td>49</td>\n",
       "    </tr>\n",
       "    <tr>\n",
       "      <th>3</th>\n",
       "      <td>5090051</td>\n",
       "      <td>Fall 2020-2021</td>\n",
       "      <td>Dallas Independent School District (DISD)</td>\n",
       "      <td>Louise Wolff Kahn Elementary School</td>\n",
       "      <td>5/14/2014</td>\n",
       "      <td>1</td>\n",
       "      <td>Language Arts</td>\n",
       "      <td>Reading (Spanish)</td>\n",
       "      <td>Survey With Goals</td>\n",
       "      <td>Growth: Spanish Reading K-2 TX 2017</td>\n",
       "      <td>9/21/2020</td>\n",
       "      <td>10:57:10</td>\n",
       "      <td>18</td>\n",
       "      <td>132</td>\n",
       "      <td>3.5</td>\n",
       "      <td>9</td>\n",
       "      <td>Low</td>\n",
       "      <td>37</td>\n",
       "    </tr>\n",
       "    <tr>\n",
       "      <th>4</th>\n",
       "      <td>8221829</td>\n",
       "      <td>Fall 2020-2021</td>\n",
       "      <td>Dallas Independent School District (DISD)</td>\n",
       "      <td>Stephen C Foster Elementary School</td>\n",
       "      <td>10/5/2012</td>\n",
       "      <td>2</td>\n",
       "      <td>Mathematics</td>\n",
       "      <td>Math K-12</td>\n",
       "      <td>Survey With Goals</td>\n",
       "      <td>Growth: Math 2-5 TX 2012</td>\n",
       "      <td>9/21/2020</td>\n",
       "      <td>9:07:44</td>\n",
       "      <td>41</td>\n",
       "      <td>142</td>\n",
       "      <td>3.3</td>\n",
       "      <td>1</td>\n",
       "      <td>Low</td>\n",
       "      <td>30</td>\n",
       "    </tr>\n",
       "  </tbody>\n",
       "</table>\n",
       "</div>"
      ],
      "text/plain": [
       "   Fake_Student_ID        TermName                               DistrictName  \\\n",
       "0          2115893  Fall 2020-2021  Dallas Independent School District (DISD)   \n",
       "1          2115893  Fall 2020-2021  Dallas Independent School District (DISD)   \n",
       "2          5090051  Fall 2020-2021  Dallas Independent School District (DISD)   \n",
       "3          5090051  Fall 2020-2021  Dallas Independent School District (DISD)   \n",
       "4          8221829  Fall 2020-2021  Dallas Independent School District (DISD)   \n",
       "\n",
       "                            SchoolName StudentDateOfBirth  Grade  \\\n",
       "0    Harry C Withers Elementary School          9/12/2012      2   \n",
       "1    Harry C Withers Elementary School          9/12/2012      2   \n",
       "2  Louise Wolff Kahn Elementary School          5/14/2014      1   \n",
       "3  Louise Wolff Kahn Elementary School          5/14/2014      1   \n",
       "4   Stephen C Foster Elementary School          10/5/2012      2   \n",
       "\n",
       "         Subject             Course           TestType  \\\n",
       "0    Mathematics          Math K-12  Survey With Goals   \n",
       "1  Language Arts            Reading  Survey With Goals   \n",
       "2    Mathematics          Math K-12  Survey With Goals   \n",
       "3  Language Arts  Reading (Spanish)  Survey With Goals   \n",
       "4    Mathematics          Math K-12  Survey With Goals   \n",
       "\n",
       "                              TestName TestStartDate TestStartTime  \\\n",
       "0             Growth: Math 2-5 TX 2012     9/29/2020       9:04:36   \n",
       "1          Growth: Reading 2-5 TX 2017     9/22/2020       8:45:17   \n",
       "2             Growth: Math K-2 TX 2012     9/21/2020       9:19:13   \n",
       "3  Growth: Spanish Reading K-2 TX 2017     9/21/2020      10:57:10   \n",
       "4             Growth: Math 2-5 TX 2012     9/21/2020       9:07:44   \n",
       "\n",
       "   TestDurationMinutes  TestRITScore  TestStandardError  TestPercentile  \\\n",
       "0                   38           187                3.0              82   \n",
       "1                   94           197                3.5              95   \n",
       "2                   37           153                3.2              29   \n",
       "3                   18           132                3.5               9   \n",
       "4                   41           142                3.3               1   \n",
       "\n",
       "  AchievementQuintile  PercentCorrect  \n",
       "0                High              50  \n",
       "1                High              60  \n",
       "2               LoAvg              49  \n",
       "3                 Low              37  \n",
       "4                 Low              30  "
      ]
     },
     "execution_count": 19,
     "metadata": {},
     "output_type": "execute_result"
    }
   ],
   "source": [
    "boy.head()"
   ]
  },
  {
   "cell_type": "code",
   "execution_count": 20,
   "metadata": {},
   "outputs": [
    {
     "data": {
      "text/plain": [
       "Index(['Fake_Student_ID', 'TermName', 'DistrictName', 'SchoolName',\n",
       "       'StudentDateOfBirth', 'Grade', 'Subject', 'Course', 'TestType',\n",
       "       'TestName', 'TestStartDate', 'TestStartTime', 'TestDurationMinutes',\n",
       "       'TestRITScore', 'TestStandardError', 'TestPercentile',\n",
       "       'AchievementQuintile', 'PercentCorrect'],\n",
       "      dtype='object')"
      ]
     },
     "execution_count": 20,
     "metadata": {},
     "output_type": "execute_result"
    }
   ],
   "source": [
    "#columns in dataframe\n",
    "boy.columns"
   ]
  },
  {
   "cell_type": "code",
   "execution_count": 21,
   "metadata": {},
   "outputs": [
    {
     "data": {
      "text/plain": [
       "array([2, 1])"
      ]
     },
     "execution_count": 21,
     "metadata": {},
     "output_type": "execute_result"
    }
   ],
   "source": [
    "#total number of grades represented \n",
    "boy['Grade'].unique()"
   ]
  },
  {
   "cell_type": "markdown",
   "metadata": {},
   "source": [
    "Data is from students in 1st & 2nd grade."
   ]
  },
  {
   "cell_type": "code",
   "execution_count": 22,
   "metadata": {},
   "outputs": [
    {
     "data": {
      "text/plain": [
       "array(['Dallas Independent School District (DISD)'], dtype=object)"
      ]
     },
     "execution_count": 22,
     "metadata": {},
     "output_type": "execute_result"
    }
   ],
   "source": [
    "#Districts \n",
    "boy['DistrictName'].unique()"
   ]
  },
  {
   "cell_type": "code",
   "execution_count": 23,
   "metadata": {
    "collapsed": true
   },
   "outputs": [
    {
     "name": "stdout",
     "output_type": "stream",
     "text": [
      "Number of Schools 149\n",
      "['Harry C Withers Elementary School' 'Louise Wolff Kahn Elementary School'\n",
      " 'Stephen C Foster Elementary School' 'Ida B. Wells Academy'\n",
      " 'KB Polk Center for Academically Talented & Gifted'\n",
      " 'William Lipscomb Elementary School' 'Chapel Hill Preparatory'\n",
      " 'Mockingbird Elementary School' 'Obadiah Knight Elementary School'\n",
      " 'Maple Lawn Elementary School'\n",
      " 'Celestino Mauricio Soto Jr Elementary School'\n",
      " 'S S Conner Elementary School' 'L L Hotchkiss Elementary School'\n",
      " 'Edna Rowe Elementary School' 'Central Elementary School'\n",
      " 'Charles Rice Learning Center' 'Anson Jones Elementary School'\n",
      " 'James Bowie Elementary School' 'Arturo Salazar Elementary School'\n",
      " 'Casa View Elementary School' 'Winnetka Elementary School'\n",
      " 'Arthur Kramer Elementary School'\n",
      " 'Thomas L Marsalis Elementary STEAM Academy'\n",
      " 'Lee A McShan Jr Elementary School' 'Edwin J Kiest Elementary School'\n",
      " 'Larry G Smith Elementary School' 'George Peabody Elementary School'\n",
      " 'W W Bushman Elementary School' 'Daniel Webster Elementary School'\n",
      " 'Solar Prep for Boys at John F. Kennedy'\n",
      " 'John F Peeler Elementary School'\n",
      " 'Henry B Gonzalez Personalized Learning Academy'\n",
      " 'John Neely Bryan Elementary School' 'Charles A Gill Elementary School'\n",
      " 'Frank Guzick Elementary School' 'J N Ervin Elementary School'\n",
      " 'Jose Joe May Elementary School' 'Martin Weiss Elementary School'\n",
      " 'Lakewood Elementary School' 'Nancy Moseley Elementary School'\n",
      " 'Seagoville Elementary School' 'John W Runyon Elementary School'\n",
      " 'Dan D Rogers Elementary School' 'Mount Auburn STEAM Academy'\n",
      " 'F P Caillet Elementary School' 'Seagoville North Elementary School'\n",
      " 'Herbert Marcus Elementary School' 'Elisha M Pease Elementary School'\n",
      " 'Mark Twain Leadership Vanguard'\n",
      " 'Hall Personalized Learning Academy at Oak Cliff'\n",
      " 'Thomas Tolbert Elementary School' 'Leslie A Stemmons Elementary School'\n",
      " 'Clara Oliver Elementary School' 'William M Anderson Elementary School'\n",
      " 'Richard Lagow Elementary School' 'Ronald E McNair Elementary School'\n",
      " 'Highland Meadows Elementary School' 'Wilmer-Hutchins Elementary School'\n",
      " 'George W Truett Elementary School' 'Geneva Heights Elementary School'\n",
      " 'C A Tatum Jr Elementary School' 'John Ireland Elementary School'\n",
      " 'Martha Turner Reilly Elementary School'\n",
      " 'Rosemont Lower - Chris V Semos Building'\n",
      " 'Adelfa Botello Callejo Elementary School'\n",
      " 'Cedar Crest Elementary School'\n",
      " 'H.I. Holland Elementary School at Lisbon'\n",
      " 'George Herbert Walker Bush Elementary School' 'Bayles Elementary School'\n",
      " 'Urban Park Elementary School' 'Mary McLeod Bethune Elementary School'\n",
      " 'Frederick Douglass Elementary School'\n",
      " 'Everette Lee Degolyer Elementary School' 'Walnut Hill Elementary School'\n",
      " 'Gabe P Allen Charter School' 'Harry Stone Montessori Academy'\n",
      " 'Eduardo Mata Montessori School' 'Joseph J Rhoads Elementary School'\n",
      " 'Solar Prep School for Girls at James B Bonham'\n",
      " 'Cesar Chavez Learning Center' 'L O Donald Elementary School'\n",
      " 'Trinity Heights Gifted and Talented School'\n",
      " 'Ben Milam Elementary School' 'W A Blair Elementary School'\n",
      " 'San Jacinto Elementary School'\n",
      " 'Thelma Elizabeth Page Richardson Elementary School'\n",
      " 'John J Pershing Elementary School' 'N W Harllee Early Childhood Center'\n",
      " 'B H Macon Elementary School'\n",
      " 'Leonides Gonzalez Cigarroa MD Elementary School'\n",
      " 'Barbara Jordan Elementary School' 'Leila P Cowart Elementary School'\n",
      " 'Eladio R Martinez Learning Center' 'Rufus C Burleson Elementary School'\n",
      " 'Esperanza Hope Medrano Elementary School' 'Anne Frank Elementary School'\n",
      " 'Tom C Gooch Elementary School' 'George B. Dealey Montessori Academy'\n",
      " 'Gilbert Cuellar Sr Elementary School' 'John Q Adams Elementary School'\n",
      " 'Nathan Adams Elementary School' 'Ebby Halliday Elementary School'\n",
      " 'Clinton P Russell Elementary School'\n",
      " 'Margaret B Henderson Elementary School'\n",
      " 'Julian T Saldivar Elementary School' 'Kleberg Elementary School'\n",
      " 'Arcadia Park Elementary School'\n",
      " 'Montessori Academy at Onesimo Hernandez'\n",
      " 'Ignacio Zaragoza Elementary School'\n",
      " 'Felix G Botello Personalized Learning Elementary'\n",
      " 'Ascher Silberstein Elementary School' 'Julius Dorsey Elementary School'\n",
      " 'Jimmie Tyler Brashear Elementary School' 'T G Terry Elementary School'\n",
      " 'Lida Hooe Elementary School' 'Nancy J Cochran Elementary School'\n",
      " 'Annie Webb Blanton Elementary School'\n",
      " 'Jerry R Junkins Elementary School' 'Reinhardt Elementary School'\n",
      " 'Victor H Hexter Elementary School'\n",
      " 'Martin Luther King Jr Learning Center'\n",
      " 'Lorenzo De Zavala Elementary School' 'Oran M Roberts Elementary School'\n",
      " 'David G Burnet Elementary School' 'Edward Titche Elementary School'\n",
      " 'Sidney Lanier Expressive Arts Vanguard' 'Stevens Park Elementary School'\n",
      " 'Hogg New Tech Center' 'John H Reagan Elementary School'\n",
      " 'Pleasant Grove Elementary School'\n",
      " 'Nathaniel Hawthorne Elementary School'\n",
      " 'Birdie Alexander Elementary School' 'Preston Hollow Elementary School'\n",
      " 'Maria Moreno STEAM Academy' 'Umphrey Lee Elementary School'\n",
      " 'J P Starks Elementary School' 'Jack Lowe Sr Elementary School'\n",
      " 'Whitney M Young Jr Elementary School'\n",
      " 'Eddie Bernice Johnson Elementary School'\n",
      " 'Alex Sanger Preparatory School' 'Paul L Dunbar Learning Center'\n",
      " 'C F Carr Elementary School' 'R L Thornton Elementary School'\n",
      " 'Houston Personalized Learning' 'Harrell Budd Elementary School'\n",
      " 'Adelle Turner Elementary School' 'John W Carpenter Elementary School'\n",
      " 'William B Miller Elementary School'\n",
      " 'Jill Stone Elementary School at Vickery Meadow']\n"
     ]
    }
   ],
   "source": [
    "#schools represented  \n",
    "print(f\"Number of Schools {len(boy['SchoolName'].unique())}\")\n",
    "print(boy['SchoolName'].unique())"
   ]
  },
  {
   "cell_type": "markdown",
   "metadata": {},
   "source": [
    "All data is from DISD School, there are 149 schools represented in this data set. "
   ]
  },
  {
   "cell_type": "markdown",
   "metadata": {
    "heading_collapsed": true
   },
   "source": [
    "## MOY MAP Data"
   ]
  },
  {
   "cell_type": "code",
   "execution_count": 25,
   "metadata": {
    "collapsed": true,
    "hidden": true
   },
   "outputs": [
    {
     "data": {
      "text/html": [
       "<div>\n",
       "<style scoped>\n",
       "    .dataframe tbody tr th:only-of-type {\n",
       "        vertical-align: middle;\n",
       "    }\n",
       "\n",
       "    .dataframe tbody tr th {\n",
       "        vertical-align: top;\n",
       "    }\n",
       "\n",
       "    .dataframe thead th {\n",
       "        text-align: right;\n",
       "    }\n",
       "</style>\n",
       "<table border=\"1\" class=\"dataframe\">\n",
       "  <thead>\n",
       "    <tr style=\"text-align: right;\">\n",
       "      <th></th>\n",
       "      <th>Fake_Student_ID</th>\n",
       "      <th>TermName</th>\n",
       "      <th>DistrictName</th>\n",
       "      <th>SchoolName</th>\n",
       "      <th>StudentDateOfBirth</th>\n",
       "      <th>Grade</th>\n",
       "      <th>Subject</th>\n",
       "      <th>Course</th>\n",
       "      <th>TestType</th>\n",
       "      <th>TestName</th>\n",
       "      <th>TestStartDate</th>\n",
       "      <th>TestStartTime</th>\n",
       "      <th>TestDurationMinutes</th>\n",
       "      <th>TestRITScore</th>\n",
       "      <th>TestStandardError</th>\n",
       "      <th>TestPercentile</th>\n",
       "      <th>AchievementQuintile</th>\n",
       "      <th>PercentCorrect</th>\n",
       "    </tr>\n",
       "  </thead>\n",
       "  <tbody>\n",
       "    <tr>\n",
       "      <th>0</th>\n",
       "      <td>2115893</td>\n",
       "      <td>Winter 2020-2021</td>\n",
       "      <td>Dallas Independent School District (DISD)</td>\n",
       "      <td>Harry C Withers Elementary School</td>\n",
       "      <td>9/12/2012</td>\n",
       "      <td>2</td>\n",
       "      <td>Mathematics</td>\n",
       "      <td>Math K-12</td>\n",
       "      <td>Survey With Goals</td>\n",
       "      <td>Growth: Math 2-5 TX 2012</td>\n",
       "      <td>1/20/2021</td>\n",
       "      <td>8:28:13</td>\n",
       "      <td>40</td>\n",
       "      <td>192</td>\n",
       "      <td>3.0</td>\n",
       "      <td>75</td>\n",
       "      <td>HiAvg</td>\n",
       "      <td>47</td>\n",
       "    </tr>\n",
       "    <tr>\n",
       "      <th>1</th>\n",
       "      <td>2115893</td>\n",
       "      <td>Winter 2020-2021</td>\n",
       "      <td>Dallas Independent School District (DISD)</td>\n",
       "      <td>Harry C Withers Elementary School</td>\n",
       "      <td>9/12/2012</td>\n",
       "      <td>2</td>\n",
       "      <td>Language Arts</td>\n",
       "      <td>Reading</td>\n",
       "      <td>Survey With Goals</td>\n",
       "      <td>Growth: Reading 2-5 TX 2017</td>\n",
       "      <td>1/21/2021</td>\n",
       "      <td>8:07:32</td>\n",
       "      <td>70</td>\n",
       "      <td>207</td>\n",
       "      <td>3.8</td>\n",
       "      <td>96</td>\n",
       "      <td>High</td>\n",
       "      <td>42</td>\n",
       "    </tr>\n",
       "    <tr>\n",
       "      <th>2</th>\n",
       "      <td>8221829</td>\n",
       "      <td>Winter 2020-2021</td>\n",
       "      <td>Dallas Independent School District (DISD)</td>\n",
       "      <td>Stephen C Foster Elementary School</td>\n",
       "      <td>10/5/2012</td>\n",
       "      <td>2</td>\n",
       "      <td>Mathematics</td>\n",
       "      <td>Math K-12</td>\n",
       "      <td>Survey With Goals</td>\n",
       "      <td>Growth: Math 2-5 TX 2012</td>\n",
       "      <td>1/11/2021</td>\n",
       "      <td>8:41:52</td>\n",
       "      <td>45</td>\n",
       "      <td>159</td>\n",
       "      <td>3.0</td>\n",
       "      <td>3</td>\n",
       "      <td>Low</td>\n",
       "      <td>51</td>\n",
       "    </tr>\n",
       "    <tr>\n",
       "      <th>3</th>\n",
       "      <td>8221829</td>\n",
       "      <td>Winter 2020-2021</td>\n",
       "      <td>Dallas Independent School District (DISD)</td>\n",
       "      <td>Stephen C Foster Elementary School</td>\n",
       "      <td>10/5/2012</td>\n",
       "      <td>2</td>\n",
       "      <td>Language Arts</td>\n",
       "      <td>Reading (Spanish)</td>\n",
       "      <td>Survey With Goals</td>\n",
       "      <td>Growth: Spanish Reading 2-5 TX 2017</td>\n",
       "      <td>1/12/2021</td>\n",
       "      <td>8:38:44</td>\n",
       "      <td>49</td>\n",
       "      <td>161</td>\n",
       "      <td>3.6</td>\n",
       "      <td>13</td>\n",
       "      <td>Low</td>\n",
       "      <td>30</td>\n",
       "    </tr>\n",
       "    <tr>\n",
       "      <th>4</th>\n",
       "      <td>8261570</td>\n",
       "      <td>Winter 2020-2021</td>\n",
       "      <td>Dallas Independent School District (DISD)</td>\n",
       "      <td>Ida B. Wells Academy</td>\n",
       "      <td>2/27/2012</td>\n",
       "      <td>2</td>\n",
       "      <td>Mathematics</td>\n",
       "      <td>Math K-12</td>\n",
       "      <td>Survey With Goals</td>\n",
       "      <td>Growth: Math 2-5 TX 2012</td>\n",
       "      <td>1/8/2021</td>\n",
       "      <td>12:41:22</td>\n",
       "      <td>32</td>\n",
       "      <td>199</td>\n",
       "      <td>2.9</td>\n",
       "      <td>89</td>\n",
       "      <td>High</td>\n",
       "      <td>44</td>\n",
       "    </tr>\n",
       "  </tbody>\n",
       "</table>\n",
       "</div>"
      ],
      "text/plain": [
       "   Fake_Student_ID          TermName  \\\n",
       "0          2115893  Winter 2020-2021   \n",
       "1          2115893  Winter 2020-2021   \n",
       "2          8221829  Winter 2020-2021   \n",
       "3          8221829  Winter 2020-2021   \n",
       "4          8261570  Winter 2020-2021   \n",
       "\n",
       "                                DistrictName  \\\n",
       "0  Dallas Independent School District (DISD)   \n",
       "1  Dallas Independent School District (DISD)   \n",
       "2  Dallas Independent School District (DISD)   \n",
       "3  Dallas Independent School District (DISD)   \n",
       "4  Dallas Independent School District (DISD)   \n",
       "\n",
       "                           SchoolName StudentDateOfBirth  Grade  \\\n",
       "0   Harry C Withers Elementary School          9/12/2012      2   \n",
       "1   Harry C Withers Elementary School          9/12/2012      2   \n",
       "2  Stephen C Foster Elementary School          10/5/2012      2   \n",
       "3  Stephen C Foster Elementary School          10/5/2012      2   \n",
       "4                Ida B. Wells Academy          2/27/2012      2   \n",
       "\n",
       "         Subject             Course           TestType  \\\n",
       "0    Mathematics          Math K-12  Survey With Goals   \n",
       "1  Language Arts            Reading  Survey With Goals   \n",
       "2    Mathematics          Math K-12  Survey With Goals   \n",
       "3  Language Arts  Reading (Spanish)  Survey With Goals   \n",
       "4    Mathematics          Math K-12  Survey With Goals   \n",
       "\n",
       "                              TestName TestStartDate TestStartTime  \\\n",
       "0             Growth: Math 2-5 TX 2012     1/20/2021       8:28:13   \n",
       "1          Growth: Reading 2-5 TX 2017     1/21/2021       8:07:32   \n",
       "2             Growth: Math 2-5 TX 2012     1/11/2021       8:41:52   \n",
       "3  Growth: Spanish Reading 2-5 TX 2017     1/12/2021       8:38:44   \n",
       "4             Growth: Math 2-5 TX 2012      1/8/2021      12:41:22   \n",
       "\n",
       "   TestDurationMinutes  TestRITScore  TestStandardError  TestPercentile  \\\n",
       "0                   40           192                3.0              75   \n",
       "1                   70           207                3.8              96   \n",
       "2                   45           159                3.0               3   \n",
       "3                   49           161                3.6              13   \n",
       "4                   32           199                2.9              89   \n",
       "\n",
       "  AchievementQuintile  PercentCorrect  \n",
       "0               HiAvg              47  \n",
       "1                High              42  \n",
       "2                 Low              51  \n",
       "3                 Low              30  \n",
       "4                High              44  "
      ]
     },
     "execution_count": 25,
     "metadata": {},
     "output_type": "execute_result"
    }
   ],
   "source": [
    "#preview\n",
    "moy.head()"
   ]
  },
  {
   "cell_type": "code",
   "execution_count": 26,
   "metadata": {
    "hidden": true
   },
   "outputs": [
    {
     "data": {
      "text/plain": [
       "Index(['Fake_Student_ID', 'TermName', 'DistrictName', 'SchoolName',\n",
       "       'StudentDateOfBirth', 'Grade', 'Subject', 'Course', 'TestType',\n",
       "       'TestName', 'TestStartDate', 'TestStartTime', 'TestDurationMinutes',\n",
       "       'TestRITScore', 'TestStandardError', 'TestPercentile',\n",
       "       'AchievementQuintile', 'PercentCorrect'],\n",
       "      dtype='object')"
      ]
     },
     "execution_count": 26,
     "metadata": {},
     "output_type": "execute_result"
    }
   ],
   "source": [
    "#columns in dataframe\n",
    "moy.columns"
   ]
  },
  {
   "cell_type": "code",
   "execution_count": 29,
   "metadata": {
    "hidden": true
   },
   "outputs": [
    {
     "data": {
      "text/plain": [
       "array([2, 1])"
      ]
     },
     "execution_count": 29,
     "metadata": {},
     "output_type": "execute_result"
    }
   ],
   "source": [
    "#total number of grades represented \n",
    "moy['Grade'].unique()"
   ]
  },
  {
   "cell_type": "code",
   "execution_count": 31,
   "metadata": {
    "hidden": true
   },
   "outputs": [
    {
     "data": {
      "text/plain": [
       "array(['Dallas Independent School District (DISD)'], dtype=object)"
      ]
     },
     "execution_count": 31,
     "metadata": {},
     "output_type": "execute_result"
    }
   ],
   "source": [
    "#Districts \n",
    "moy['DistrictName'].unique()"
   ]
  },
  {
   "cell_type": "code",
   "execution_count": 32,
   "metadata": {
    "collapsed": true,
    "hidden": true
   },
   "outputs": [
    {
     "name": "stdout",
     "output_type": "stream",
     "text": [
      "Number of Schools 149\n",
      "['Harry C Withers Elementary School' 'Stephen C Foster Elementary School'\n",
      " 'Ida B. Wells Academy'\n",
      " 'KB Polk Center for Academically Talented & Gifted'\n",
      " 'William Lipscomb Elementary School' 'Chapel Hill Preparatory'\n",
      " 'Mockingbird Elementary School' 'Obadiah Knight Elementary School'\n",
      " 'Maple Lawn Elementary School' 'R L Thornton Elementary School'\n",
      " 'Celestino Mauricio Soto Jr Elementary School'\n",
      " 'S S Conner Elementary School' 'L L Hotchkiss Elementary School'\n",
      " 'Edna Rowe Elementary School' 'Central Elementary School'\n",
      " 'Anson Jones Elementary School' 'James Bowie Elementary School'\n",
      " 'Arturo Salazar Elementary School' 'Casa View Elementary School'\n",
      " 'Winnetka Elementary School' 'Arthur Kramer Elementary School'\n",
      " 'Thomas L Marsalis Elementary STEAM Academy'\n",
      " 'Lee A McShan Jr Elementary School' 'Edwin J Kiest Elementary School'\n",
      " 'Larry G Smith Elementary School' 'George Peabody Elementary School'\n",
      " 'Ronald E McNair Elementary School' 'Daniel Webster Elementary School'\n",
      " 'Solar Prep for Boys at John F. Kennedy'\n",
      " 'John F Peeler Elementary School' 'Stevens Park Elementary School'\n",
      " 'Henry B Gonzalez Personalized Learning Academy'\n",
      " 'John Neely Bryan Elementary School' 'Charles A Gill Elementary School'\n",
      " 'Frank Guzick Elementary School' 'J N Ervin Elementary School'\n",
      " 'Lakewood Elementary School' 'Nancy Moseley Elementary School'\n",
      " 'Seagoville Elementary School' 'John W Runyon Elementary School'\n",
      " 'Dan D Rogers Elementary School' 'Mount Auburn STEAM Academy'\n",
      " 'F P Caillet Elementary School' 'Seagoville North Elementary School'\n",
      " 'Herbert Marcus Elementary School' 'Elisha M Pease Elementary School'\n",
      " 'Mark Twain School for the Talented and Gifted'\n",
      " 'Hall Personalized Learning Academy at Oak Cliff'\n",
      " 'Anne Frank Elementary School' 'Leslie A Stemmons Elementary School'\n",
      " 'Clara Oliver Elementary School' 'William M Anderson Elementary School'\n",
      " 'Louise Wolff Kahn Elementary School' 'Richard Lagow Elementary School'\n",
      " 'Wilmer-Hutchins Elementary School' 'George W Truett Elementary School'\n",
      " 'Geneva Heights Elementary School' 'C A Tatum Jr Elementary School'\n",
      " 'Lorenzo De Zavala Elementary School' 'John Ireland Elementary School'\n",
      " 'Martha Turner Reilly Elementary School'\n",
      " 'Rosemont Lower - Chris V Semos Building'\n",
      " 'Adelfa Botello Callejo Elementary School'\n",
      " 'Cedar Crest Elementary School'\n",
      " 'H.I. Holland Elementary School at Lisbon'\n",
      " 'George Herbert Walker Bush Elementary School' 'Bayles Elementary School'\n",
      " 'Mary McLeod Bethune Elementary School'\n",
      " 'Frederick Douglass Elementary School'\n",
      " 'Everette Lee Degolyer Elementary School' 'Walnut Hill Elementary School'\n",
      " 'Gabe P Allen Charter School' 'Harry Stone Montessori Academy'\n",
      " 'Eduardo Mata Montessori School' 'Joseph J Rhoads Elementary School'\n",
      " 'Solar Prep School for Girls at James B Bonham'\n",
      " 'Highland Meadows Elementary School' 'Cesar Chavez Learning Center'\n",
      " 'Trinity Heights Gifted and Talented School'\n",
      " 'W A Blair Elementary School' 'San Jacinto Elementary School'\n",
      " 'Thelma Elizabeth Page Richardson Elementary School'\n",
      " 'John J Pershing Elementary School' 'Leila P Cowart Elementary School'\n",
      " 'N W Harllee Early Childhood Center' 'Umphrey Lee Elementary School'\n",
      " 'B H Macon Elementary School'\n",
      " 'Leonides Gonzalez Cigarroa MD Elementary School'\n",
      " 'Barbara Jordan Elementary School' 'Eladio R Martinez Learning Center'\n",
      " 'Rufus C Burleson Elementary School'\n",
      " 'Esperanza Hope Medrano Elementary School'\n",
      " 'Tom C Gooch Elementary School' 'George B. Dealey Montessori Academy'\n",
      " 'Gilbert Cuellar Sr Elementary School' 'Jose Joe May Elementary School'\n",
      " 'John Q Adams Elementary School' 'Nathan Adams Elementary School'\n",
      " 'Ebby Halliday Elementary School' 'Alex Sanger Preparatory School'\n",
      " 'Clinton P Russell Elementary School' 'L O Donald Elementary School'\n",
      " 'Margaret B Henderson Elementary School'\n",
      " 'Julian T Saldivar Elementary School' 'Kleberg Elementary School'\n",
      " 'John H Reagan Elementary School' 'Arcadia Park Elementary School'\n",
      " 'Montessori Academy at Onesimo Hernandez'\n",
      " 'Ignacio Zaragoza Elementary School'\n",
      " 'Felix G Botello Personalized Learning Elementary'\n",
      " 'Ascher Silberstein Elementary School' 'Julius Dorsey Elementary School'\n",
      " 'Jimmie Tyler Brashear Elementary School' 'T G Terry Elementary School'\n",
      " 'Lida Hooe Elementary School' 'Nancy J Cochran Elementary School'\n",
      " 'Annie Webb Blanton Elementary School'\n",
      " 'Jerry R Junkins Elementary School' 'Reinhardt Elementary School'\n",
      " 'Whitney M Young Jr Elementary School'\n",
      " 'Victor H Hexter Elementary School' 'Martin Luther King Jr Arts Academy'\n",
      " 'Oran M Roberts Elementary School' 'David G Burnet Elementary School'\n",
      " 'Edward Titche Elementary School'\n",
      " 'Sidney Lanier Expressive Arts Vanguard' 'Hogg New Tech Center'\n",
      " 'Pleasant Grove Elementary School'\n",
      " 'Nathaniel Hawthorne Elementary School'\n",
      " 'Birdie Alexander Elementary School' 'Preston Hollow Elementary School'\n",
      " 'Maria Moreno STEAM Academy' 'J P Starks Elementary School'\n",
      " 'Martin Weiss Elementary School' 'Jack Lowe Sr Elementary School'\n",
      " 'Ben Milam Elementary School' 'Eddie Bernice Johnson Elementary School'\n",
      " 'Urban Park Elementary School' 'Paul L Dunbar Learning Center'\n",
      " 'W W Bushman Elementary School' 'C F Carr Elementary School'\n",
      " 'Charles Rice Learning Center' 'Thomas Tolbert Elementary School'\n",
      " 'Houston Personalized Learning' 'William B Miller Elementary School'\n",
      " 'John W Carpenter Elementary School' 'Adelle Turner Elementary School'\n",
      " 'Harrell Budd Elementary School'\n",
      " 'Jill Stone Elementary School at Vickery Meadow']\n"
     ]
    }
   ],
   "source": [
    "#schools represented  \n",
    "print(f\"Number of Schools {len(moy['SchoolName'].unique())}\")\n",
    "print(moy['SchoolName'].unique())"
   ]
  },
  {
   "cell_type": "markdown",
   "metadata": {},
   "source": [
    "## BOY / MOY Basic Descriptive Qualitative Analysis"
   ]
  },
  {
   "cell_type": "code",
   "execution_count": 40,
   "metadata": {},
   "outputs": [
    {
     "data": {
      "text/html": [
       "<div>\n",
       "<style scoped>\n",
       "    .dataframe tbody tr th:only-of-type {\n",
       "        vertical-align: middle;\n",
       "    }\n",
       "\n",
       "    .dataframe tbody tr th {\n",
       "        vertical-align: top;\n",
       "    }\n",
       "\n",
       "    .dataframe thead th {\n",
       "        text-align: right;\n",
       "    }\n",
       "</style>\n",
       "<table border=\"1\" class=\"dataframe\">\n",
       "  <thead>\n",
       "    <tr style=\"text-align: right;\">\n",
       "      <th></th>\n",
       "      <th>TestDurationMinutes</th>\n",
       "      <th>TestRITScore</th>\n",
       "      <th>TestStandardError</th>\n",
       "      <th>TestPercentile</th>\n",
       "      <th>PercentCorrect</th>\n",
       "    </tr>\n",
       "  </thead>\n",
       "  <tbody>\n",
       "    <tr>\n",
       "      <th>count</th>\n",
       "      <td>38648.000000</td>\n",
       "      <td>38648.000000</td>\n",
       "      <td>38648.000000</td>\n",
       "      <td>38648.000000</td>\n",
       "      <td>38648.000000</td>\n",
       "    </tr>\n",
       "    <tr>\n",
       "      <th>mean</th>\n",
       "      <td>41.486416</td>\n",
       "      <td>162.801671</td>\n",
       "      <td>3.281049</td>\n",
       "      <td>45.061374</td>\n",
       "      <td>47.387032</td>\n",
       "    </tr>\n",
       "    <tr>\n",
       "      <th>std</th>\n",
       "      <td>27.827051</td>\n",
       "      <td>18.215424</td>\n",
       "      <td>0.289124</td>\n",
       "      <td>31.295397</td>\n",
       "      <td>8.821543</td>\n",
       "    </tr>\n",
       "    <tr>\n",
       "      <th>min</th>\n",
       "      <td>6.000000</td>\n",
       "      <td>102.000000</td>\n",
       "      <td>2.900000</td>\n",
       "      <td>1.000000</td>\n",
       "      <td>8.000000</td>\n",
       "    </tr>\n",
       "    <tr>\n",
       "      <th>25%</th>\n",
       "      <td>23.000000</td>\n",
       "      <td>150.000000</td>\n",
       "      <td>3.100000</td>\n",
       "      <td>17.000000</td>\n",
       "      <td>44.000000</td>\n",
       "    </tr>\n",
       "    <tr>\n",
       "      <th>50%</th>\n",
       "      <td>34.000000</td>\n",
       "      <td>162.000000</td>\n",
       "      <td>3.200000</td>\n",
       "      <td>41.000000</td>\n",
       "      <td>49.000000</td>\n",
       "    </tr>\n",
       "    <tr>\n",
       "      <th>75%</th>\n",
       "      <td>51.000000</td>\n",
       "      <td>174.000000</td>\n",
       "      <td>3.400000</td>\n",
       "      <td>72.000000</td>\n",
       "      <td>53.000000</td>\n",
       "    </tr>\n",
       "    <tr>\n",
       "      <th>max</th>\n",
       "      <td>339.000000</td>\n",
       "      <td>259.000000</td>\n",
       "      <td>13.400000</td>\n",
       "      <td>99.000000</td>\n",
       "      <td>100.000000</td>\n",
       "    </tr>\n",
       "  </tbody>\n",
       "</table>\n",
       "</div>"
      ],
      "text/plain": [
       "       TestDurationMinutes  TestRITScore  TestStandardError  TestPercentile  \\\n",
       "count         38648.000000  38648.000000       38648.000000    38648.000000   \n",
       "mean             41.486416    162.801671           3.281049       45.061374   \n",
       "std              27.827051     18.215424           0.289124       31.295397   \n",
       "min               6.000000    102.000000           2.900000        1.000000   \n",
       "25%              23.000000    150.000000           3.100000       17.000000   \n",
       "50%              34.000000    162.000000           3.200000       41.000000   \n",
       "75%              51.000000    174.000000           3.400000       72.000000   \n",
       "max             339.000000    259.000000          13.400000       99.000000   \n",
       "\n",
       "       PercentCorrect  \n",
       "count    38648.000000  \n",
       "mean        47.387032  \n",
       "std          8.821543  \n",
       "min          8.000000  \n",
       "25%         44.000000  \n",
       "50%         49.000000  \n",
       "75%         53.000000  \n",
       "max        100.000000  "
      ]
     },
     "execution_count": 40,
     "metadata": {},
     "output_type": "execute_result"
    }
   ],
   "source": [
    "#descriptive statistics for quantitative columns\n",
    "boy[['TestDurationMinutes', 'TestRITScore', 'TestStandardError', 'TestPercentile','PercentCorrect']].describe()"
   ]
  },
  {
   "cell_type": "code",
   "execution_count": 41,
   "metadata": {},
   "outputs": [
    {
     "data": {
      "text/plain": [
       "TestDurationMinutes     34.0\n",
       "TestRITScore           162.0\n",
       "TestStandardError        3.2\n",
       "TestPercentile          41.0\n",
       "PercentCorrect          49.0\n",
       "dtype: float64"
      ]
     },
     "execution_count": 41,
     "metadata": {},
     "output_type": "execute_result"
    }
   ],
   "source": [
    "boy[['TestDurationMinutes', 'TestRITScore', 'TestStandardError', 'TestPercentile','PercentCorrect']].median()"
   ]
  },
  {
   "cell_type": "code",
   "execution_count": 37,
   "metadata": {
    "scrolled": true
   },
   "outputs": [
    {
     "data": {
      "text/html": [
       "<div>\n",
       "<style scoped>\n",
       "    .dataframe tbody tr th:only-of-type {\n",
       "        vertical-align: middle;\n",
       "    }\n",
       "\n",
       "    .dataframe tbody tr th {\n",
       "        vertical-align: top;\n",
       "    }\n",
       "\n",
       "    .dataframe thead th {\n",
       "        text-align: right;\n",
       "    }\n",
       "</style>\n",
       "<table border=\"1\" class=\"dataframe\">\n",
       "  <thead>\n",
       "    <tr style=\"text-align: right;\">\n",
       "      <th></th>\n",
       "      <th>TestDurationMinutes</th>\n",
       "      <th>TestRITScore</th>\n",
       "      <th>TestStandardError</th>\n",
       "      <th>TestPercentile</th>\n",
       "      <th>PercentCorrect</th>\n",
       "    </tr>\n",
       "  </thead>\n",
       "  <tbody>\n",
       "    <tr>\n",
       "      <th>count</th>\n",
       "      <td>40355.000000</td>\n",
       "      <td>40355.000000</td>\n",
       "      <td>40355.000000</td>\n",
       "      <td>40355.000000</td>\n",
       "      <td>40355.000000</td>\n",
       "    </tr>\n",
       "    <tr>\n",
       "      <th>mean</th>\n",
       "      <td>45.553413</td>\n",
       "      <td>171.489208</td>\n",
       "      <td>3.253515</td>\n",
       "      <td>45.832982</td>\n",
       "      <td>50.109776</td>\n",
       "    </tr>\n",
       "    <tr>\n",
       "      <th>std</th>\n",
       "      <td>31.414773</td>\n",
       "      <td>18.406504</td>\n",
       "      <td>0.307376</td>\n",
       "      <td>31.762049</td>\n",
       "      <td>8.110031</td>\n",
       "    </tr>\n",
       "    <tr>\n",
       "      <th>min</th>\n",
       "      <td>6.000000</td>\n",
       "      <td>103.000000</td>\n",
       "      <td>2.900000</td>\n",
       "      <td>1.000000</td>\n",
       "      <td>9.000000</td>\n",
       "    </tr>\n",
       "    <tr>\n",
       "      <th>25%</th>\n",
       "      <td>25.000000</td>\n",
       "      <td>159.000000</td>\n",
       "      <td>3.100000</td>\n",
       "      <td>17.000000</td>\n",
       "      <td>47.000000</td>\n",
       "    </tr>\n",
       "    <tr>\n",
       "      <th>50%</th>\n",
       "      <td>37.000000</td>\n",
       "      <td>171.000000</td>\n",
       "      <td>3.200000</td>\n",
       "      <td>44.000000</td>\n",
       "      <td>51.000000</td>\n",
       "    </tr>\n",
       "    <tr>\n",
       "      <th>75%</th>\n",
       "      <td>55.000000</td>\n",
       "      <td>183.000000</td>\n",
       "      <td>3.400000</td>\n",
       "      <td>73.000000</td>\n",
       "      <td>53.000000</td>\n",
       "    </tr>\n",
       "    <tr>\n",
       "      <th>max</th>\n",
       "      <td>363.000000</td>\n",
       "      <td>259.000000</td>\n",
       "      <td>13.500000</td>\n",
       "      <td>99.000000</td>\n",
       "      <td>100.000000</td>\n",
       "    </tr>\n",
       "  </tbody>\n",
       "</table>\n",
       "</div>"
      ],
      "text/plain": [
       "       TestDurationMinutes  TestRITScore  TestStandardError  TestPercentile  \\\n",
       "count         40355.000000  40355.000000       40355.000000    40355.000000   \n",
       "mean             45.553413    171.489208           3.253515       45.832982   \n",
       "std              31.414773     18.406504           0.307376       31.762049   \n",
       "min               6.000000    103.000000           2.900000        1.000000   \n",
       "25%              25.000000    159.000000           3.100000       17.000000   \n",
       "50%              37.000000    171.000000           3.200000       44.000000   \n",
       "75%              55.000000    183.000000           3.400000       73.000000   \n",
       "max             363.000000    259.000000          13.500000       99.000000   \n",
       "\n",
       "       PercentCorrect  \n",
       "count    40355.000000  \n",
       "mean        50.109776  \n",
       "std          8.110031  \n",
       "min          9.000000  \n",
       "25%         47.000000  \n",
       "50%         51.000000  \n",
       "75%         53.000000  \n",
       "max        100.000000  "
      ]
     },
     "execution_count": 37,
     "metadata": {},
     "output_type": "execute_result"
    }
   ],
   "source": [
    "#descriptive statistics for quantitative columns\n",
    "moy[['TestDurationMinutes', 'TestRITScore', 'TestStandardError', 'TestPercentile','PercentCorrect']].describe()"
   ]
  },
  {
   "cell_type": "code",
   "execution_count": 38,
   "metadata": {},
   "outputs": [
    {
     "data": {
      "text/plain": [
       "TestDurationMinutes     37.0\n",
       "TestRITScore           171.0\n",
       "TestStandardError        3.2\n",
       "TestPercentile          44.0\n",
       "PercentCorrect          51.0\n",
       "dtype: float64"
      ]
     },
     "execution_count": 38,
     "metadata": {},
     "output_type": "execute_result"
    }
   ],
   "source": [
    "moy[['TestDurationMinutes', 'TestRITScore', 'TestStandardError', 'TestPercentile','PercentCorrect']].median()"
   ]
  },
  {
   "cell_type": "markdown",
   "metadata": {},
   "source": [
    "Basic Data Call Outs:  \n",
    "\n",
    "**Test Duration**\n",
    "1. BOY Mean 41.5 / MOY 45.6 - Test time increased \n",
    "2. BOY STD 27.9 / MOY 31.4 - Greater variation in the amount of time that students were taking \n",
    "3. BOY Min 6 / MOY 6 - No change in the fastest test taker \n",
    "4. BOY Max 339 / MOY 363 - The longest test takers took 24 minutes longer on the MOY test  \n",
    "5. The longest test takers took 6 hours to take the test?   \n",
    "6. BOY Median 34/ MOY 37 - Median increased by 3 minutes \n",
    "\n",
    "**Test RIT Score**  \n",
    "1. BOY Mean  162.8 / MOY 171.5 - RIT Score increase of 8.7 \n",
    "2. BOY STD 18.2 / MOY - 18.4 - Greater variation in the RIT score in the MOY testing session \n",
    "3. BOY Min 102 / MOY 103 - Very little change in bottom RIT score between BOY & MOY \n",
    "4. BOY Max 259 / MOY 259 - Very little change in the top RIT score between BOY & MOY \n",
    "5. BOY Median 162 / MOY 171 - Mean & Median similarities indicate a very even distribution \n",
    "\n",
    "**Test Standard Error** \n",
    "1. BOY Mean 3.3 / MOY Mean 3.2 similar test errors BOY / MOY  \n",
    "2. BOY STD 0.29 / MOY STD .3 - very similar spread of error rate BOY / MOY \n",
    "3. BOY Min 2.9 / MOY Min 2.9 - consistent minimum error \n",
    "4. BOY Max 13.4 / MOY Max 13/5 - consistent max error \n",
    "5. BOY Median 3.2 / MOY 3.2 \n",
    "6. Error rate consistent between BOY & MOY\n",
    "\n",
    "**Test Percentile**  \n",
    "1. BOY Mean 1 / MOY Mean 1 - consistent mean percentile \n",
    "2. BOY STD 31.3 / MOY STD 31.7 - consistent deviation  \n",
    "3. BOY Min 1 / MOY 1 - consistent deviation  \n",
    "4. BOY Max 99 / MOY 99 - consistent deviation \n",
    "4. BOY Median 41 / MOY 44 \n",
    "\n",
    "**Percent Correct** \n",
    "1. BOY Mean 47.4 / MOY 50.1 \n",
    "2. BOY STD 8.8 / MOY 8.8 - consistent deviation \n",
    "3. BOY Min 8 / MOY 9 - minimum up one percent \n",
    "4. BOY Max 100 / MOY 100 - students are reaching the max percentile in both the beginning and middle of the year \n",
    "5. BOY Median 49 / 51 - 3 point increase in the median BOY to MOY "
   ]
  },
  {
   "cell_type": "markdown",
   "metadata": {
    "heading_collapsed": true
   },
   "source": [
    "## Demographic Data"
   ]
  },
  {
   "cell_type": "code",
   "execution_count": 27,
   "metadata": {
    "hidden": true
   },
   "outputs": [
    {
     "data": {
      "text/html": [
       "<div>\n",
       "<style scoped>\n",
       "    .dataframe tbody tr th:only-of-type {\n",
       "        vertical-align: middle;\n",
       "    }\n",
       "\n",
       "    .dataframe tbody tr th {\n",
       "        vertical-align: top;\n",
       "    }\n",
       "\n",
       "    .dataframe thead th {\n",
       "        text-align: right;\n",
       "    }\n",
       "</style>\n",
       "<table border=\"1\" class=\"dataframe\">\n",
       "  <thead>\n",
       "    <tr style=\"text-align: right;\">\n",
       "      <th></th>\n",
       "      <th>Fake_Student_ID</th>\n",
       "      <th>Race</th>\n",
       "      <th>Ethnicity</th>\n",
       "      <th>Sex</th>\n",
       "      <th>LEP</th>\n",
       "      <th>HomeLanguage</th>\n",
       "      <th>SpEdFlag</th>\n",
       "      <th>TAGFlag</th>\n",
       "      <th>Econ_Disadvantage</th>\n",
       "      <th>Migrant</th>\n",
       "      <th>DyslexiaFlag</th>\n",
       "    </tr>\n",
       "  </thead>\n",
       "  <tbody>\n",
       "    <tr>\n",
       "      <th>0</th>\n",
       "      <td>2115893</td>\n",
       "      <td>White</td>\n",
       "      <td>N</td>\n",
       "      <td>F</td>\n",
       "      <td>F</td>\n",
       "      <td>English</td>\n",
       "      <td>F</td>\n",
       "      <td>T</td>\n",
       "      <td>F</td>\n",
       "      <td>N</td>\n",
       "      <td>F</td>\n",
       "    </tr>\n",
       "    <tr>\n",
       "      <th>1</th>\n",
       "      <td>5090051</td>\n",
       "      <td>Hispanic</td>\n",
       "      <td>H</td>\n",
       "      <td>M</td>\n",
       "      <td>T</td>\n",
       "      <td>English</td>\n",
       "      <td>F</td>\n",
       "      <td>F</td>\n",
       "      <td>T</td>\n",
       "      <td>N</td>\n",
       "      <td>F</td>\n",
       "    </tr>\n",
       "    <tr>\n",
       "      <th>2</th>\n",
       "      <td>8221829</td>\n",
       "      <td>Hispanic</td>\n",
       "      <td>H</td>\n",
       "      <td>F</td>\n",
       "      <td>T</td>\n",
       "      <td>Spanish</td>\n",
       "      <td>F</td>\n",
       "      <td>F</td>\n",
       "      <td>T</td>\n",
       "      <td>N</td>\n",
       "      <td>F</td>\n",
       "    </tr>\n",
       "    <tr>\n",
       "      <th>3</th>\n",
       "      <td>8261570</td>\n",
       "      <td>Black or African American</td>\n",
       "      <td>N</td>\n",
       "      <td>F</td>\n",
       "      <td>F</td>\n",
       "      <td>English</td>\n",
       "      <td>F</td>\n",
       "      <td>F</td>\n",
       "      <td>T</td>\n",
       "      <td>N</td>\n",
       "      <td>F</td>\n",
       "    </tr>\n",
       "    <tr>\n",
       "      <th>4</th>\n",
       "      <td>8298452</td>\n",
       "      <td>Hispanic</td>\n",
       "      <td>H</td>\n",
       "      <td>M</td>\n",
       "      <td>T</td>\n",
       "      <td>Spanish</td>\n",
       "      <td>T</td>\n",
       "      <td>F</td>\n",
       "      <td>F</td>\n",
       "      <td>N</td>\n",
       "      <td>F</td>\n",
       "    </tr>\n",
       "  </tbody>\n",
       "</table>\n",
       "</div>"
      ],
      "text/plain": [
       "   Fake_Student_ID                       Race Ethnicity Sex LEP HomeLanguage  \\\n",
       "0          2115893                      White         N   F   F      English   \n",
       "1          5090051                   Hispanic         H   M   T      English   \n",
       "2          8221829                   Hispanic         H   F   T      Spanish   \n",
       "3          8261570  Black or African American         N   F   F      English   \n",
       "4          8298452                   Hispanic         H   M   T      Spanish   \n",
       "\n",
       "  SpEdFlag TAGFlag Econ_Disadvantage Migrant DyslexiaFlag  \n",
       "0        F       T                 F       N            F  \n",
       "1        F       F                 T       N            F  \n",
       "2        F       F                 T       N            F  \n",
       "3        F       F                 T       N            F  \n",
       "4        T       F                 F       N            F  "
      ]
     },
     "execution_count": 27,
     "metadata": {},
     "output_type": "execute_result"
    }
   ],
   "source": [
    "#preview \n",
    "demographics.head()"
   ]
  },
  {
   "cell_type": "code",
   "execution_count": 28,
   "metadata": {
    "hidden": true
   },
   "outputs": [
    {
     "data": {
      "text/plain": [
       "Index(['Fake_Student_ID', 'Race', 'Ethnicity', 'Sex', 'LEP', 'HomeLanguage',\n",
       "       'SpEdFlag', 'TAGFlag', 'Econ_Disadvantage', 'Migrant', 'DyslexiaFlag'],\n",
       "      dtype='object')"
      ]
     },
     "execution_count": 28,
     "metadata": {},
     "output_type": "execute_result"
    }
   ],
   "source": [
    "#columns in dataframe\n",
    "demographics.columns"
   ]
  },
  {
   "cell_type": "code",
   "execution_count": null,
   "metadata": {
    "hidden": true
   },
   "outputs": [],
   "source": []
  },
  {
   "cell_type": "markdown",
   "metadata": {},
   "source": [
    "# Data Distribution Visualizations "
   ]
  },
  {
   "cell_type": "markdown",
   "metadata": {},
   "source": [
    "## BOY / MOY Histograms"
   ]
  },
  {
   "cell_type": "code",
   "execution_count": 87,
   "metadata": {},
   "outputs": [],
   "source": [
    "hist_columns = ['TestDurationMinutes', 'TestRITScore', \n",
    "               'TestPercentile','PercentCorrect']"
   ]
  },
  {
   "cell_type": "code",
   "execution_count": 137,
   "metadata": {},
   "outputs": [
    {
     "data": {
      "image/png": "[encoded data removed]",
      "text/plain": [
       "<Figure size 864x576 with 1 Axes>"
      ]
     },
     "metadata": {
      "needs_background": "light"
     },
     "output_type": "display_data"
    }
   ],
   "source": [
    "#'TestDurationMinutes' histogram \n",
    "historgram(boy, moy, 'TestDurationMinutes')"
   ]
  },
  {
   "cell_type": "markdown",
   "metadata": {},
   "source": [
    "There is a slight shift in the distribution of test taking time from BOY to MOY but overall the majority of students took < 75 minutes to take the test in both testing periods. There is a long right tail on the test taking time that may indicate an outlying data point of a student that had extended time on the exam. "
   ]
  },
  {
   "cell_type": "code",
   "execution_count": 138,
   "metadata": {},
   "outputs": [
    {
     "data": {
      "image/png": "[encoded data removed]",
      "text/plain": [
       "<Figure size 864x576 with 1 Axes>"
      ]
     },
     "metadata": {
      "needs_background": "light"
     },
     "output_type": "display_data"
    }
   ],
   "source": [
    "#'TestRITScore' histogram \n",
    "historgram(boy, moy, 'TestRITScore')"
   ]
  },
  {
   "cell_type": "markdown",
   "metadata": {},
   "source": [
    "Both distributions BOY/MOY have normal distributions the largest number of RIT scores falling in the middle range of scores. In the MOY test there is a right shift in distribution signaling a higher average RIT score."
   ]
  },
  {
   "cell_type": "code",
   "execution_count": 139,
   "metadata": {
    "scrolled": false
   },
   "outputs": [
    {
     "data": {
      "image/png": "[encoded data removed]",
      "text/plain": [
       "<Figure size 864x576 with 1 Axes>"
      ]
     },
     "metadata": {
      "needs_background": "light"
     },
     "output_type": "display_data"
    }
   ],
   "source": [
    "#'TestPercentile' histogram \n",
    "historgram(boy, moy, 'TestPercentile')"
   ]
  },
  {
   "cell_type": "markdown",
   "metadata": {},
   "source": [
    "The MOY distribution at the ends of the distribution (0, 100) both grew in value, indicating that while more students achieved perfect scores in the MOY test than they did in BOY tests more children also landed in the lowest possible test percentile than in the BOY. There is an overall shift right from BOY to MOY in score distribution (seen especially clearly at 30%/ 45%/ 55% and 70% spikes indicating that more students scored in those ranges in the MOY test than they did in the BOY test. Further analysis is needed to be able to say with certainty if this is all a positive shift."
   ]
  },
  {
   "cell_type": "markdown",
   "metadata": {},
   "source": [
    "## MOY "
   ]
  },
  {
   "cell_type": "code",
   "execution_count": 89,
   "metadata": {
    "scrolled": false
   },
   "outputs": [
    {
     "data": {
      "image/png": "[encoded data removed]",
      "text/plain": [
       "<Figure size 864x576 with 1 Axes>"
      ]
     },
     "metadata": {
      "needs_background": "light"
     },
     "output_type": "display_data"
    },
    {
     "data": {
      "image/png": "[encoded data removed]",
      "text/plain": [
       "<Figure size 864x576 with 1 Axes>"
      ]
     },
     "metadata": {
      "needs_background": "light"
     },
     "output_type": "display_data"
    },
    {
     "data": {
      "image/png": "[encoded data removed]",
      "text/plain": [
       "<Figure size 864x576 with 1 Axes>"
      ]
     },
     "metadata": {
      "needs_background": "light"
     },
     "output_type": "display_data"
    },
    {
     "data": {
      "image/png": "[encoded data removed]",
      "text/plain": [
       "<Figure size 864x576 with 1 Axes>"
      ]
     },
     "metadata": {
      "needs_background": "light"
     },
     "output_type": "display_data"
    }
   ],
   "source": [
    "for col in hist_columns: \n",
    "    historgram(moy, col)"
   ]
  },
  {
   "cell_type": "markdown",
   "metadata": {},
   "source": [
    "## Demographic "
   ]
  },
  {
   "cell_type": "code",
   "execution_count": null,
   "metadata": {},
   "outputs": [],
   "source": []
  }
 ],
 "metadata": {
  "kernelspec": {
   "display_name": "Python 3",
   "language": "python",
   "name": "python3"
  },
  "language_info": {
   "codemirror_mode": {
    "name": "ipython",
    "version": 3
   },
   "file_extension": ".py",
   "mimetype": "text/x-python",
   "name": "python",
   "nbconvert_exporter": "python",
   "pygments_lexer": "ipython3",
   "version": "3.8.3"
  },
  "toc": {
   "base_numbering": 1,
   "nav_menu": {},
   "number_sections": true,
   "sideBar": true,
   "skip_h1_title": false,
   "title_cell": "Table of Contents",
   "title_sidebar": "Contents",
   "toc_cell": false,
   "toc_position": {},
   "toc_section_display": true,
   "toc_window_display": false
  }
 },
 "nbformat": 4,
 "nbformat_minor": 4
}
