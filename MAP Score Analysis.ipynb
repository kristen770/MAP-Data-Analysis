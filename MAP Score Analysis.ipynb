{
 "cells": [
  {
   "cell_type": "code",
   "execution_count": 122,
   "metadata": {},
   "outputs": [
    {
     "name": "stdout",
     "output_type": "stream",
     "text": [
      "The autoreload extension is already loaded. To reload it, use:\n",
      "  %reload_ext autoreload\n"
     ]
    }
   ],
   "source": [
    "%load_ext autoreload\n",
    "%autoreload 2"
   ]
  },
  {
   "cell_type": "code",
   "execution_count": 123,
   "metadata": {},
   "outputs": [],
   "source": [
    "import pandas as pd   \n",
    "\n",
    "#custom functions \n",
    "from functions import *"
   ]
  },
  {
   "cell_type": "markdown",
   "metadata": {},
   "source": [
    "# EDA "
   ]
  },
  {
   "cell_type": "code",
   "execution_count": 18,
   "metadata": {
    "scrolled": false
   },
   "outputs": [],
   "source": [
    "# BOY MAP Data \n",
    "boy = pd.read_csv(\"Data/MAP_BOY_2020-21.csv\") \n",
    "\n",
    "# MOY MAP Data \n",
    "moy = pd.read_csv(\"Data/MAP_MOY_2020-21.csv\") \n",
    "\n",
    "# student demographic data\n",
    "demographics = pd.read_csv(\"Data/Student_Demographics_2020-21.csv\")"
   ]
  },
  {
   "cell_type": "markdown",
   "metadata": {
    "heading_collapsed": true
   },
   "source": [
    "## BOY MAP Data"
   ]
  },
  {
   "cell_type": "code",
   "execution_count": 19,
   "metadata": {
    "hidden": true
   },
   "outputs": [
    {
     "data": {
      "text/html": [
       "<div>\n",
       "<style scoped>\n",
       "    .dataframe tbody tr th:only-of-type {\n",
       "        vertical-align: middle;\n",
       "    }\n",
       "\n",
       "    .dataframe tbody tr th {\n",
       "        vertical-align: top;\n",
       "    }\n",
       "\n",
       "    .dataframe thead th {\n",
       "        text-align: right;\n",
       "    }\n",
       "</style>\n",
       "<table border=\"1\" class=\"dataframe\">\n",
       "  <thead>\n",
       "    <tr style=\"text-align: right;\">\n",
       "      <th></th>\n",
       "      <th>Fake_Student_ID</th>\n",
       "      <th>TermName</th>\n",
       "      <th>DistrictName</th>\n",
       "      <th>SchoolName</th>\n",
       "      <th>StudentDateOfBirth</th>\n",
       "      <th>Grade</th>\n",
       "      <th>Subject</th>\n",
       "      <th>Course</th>\n",
       "      <th>TestType</th>\n",
       "      <th>TestName</th>\n",
       "      <th>TestStartDate</th>\n",
       "      <th>TestStartTime</th>\n",
       "      <th>TestDurationMinutes</th>\n",
       "      <th>TestRITScore</th>\n",
       "      <th>TestStandardError</th>\n",
       "      <th>TestPercentile</th>\n",
       "      <th>AchievementQuintile</th>\n",
       "      <th>PercentCorrect</th>\n",
       "    </tr>\n",
       "  </thead>\n",
       "  <tbody>\n",
       "    <tr>\n",
       "      <th>0</th>\n",
       "      <td>2115893</td>\n",
       "      <td>Fall 2020-2021</td>\n",
       "      <td>Dallas Independent School District (DISD)</td>\n",
       "      <td>Harry C Withers Elementary School</td>\n",
       "      <td>9/12/2012</td>\n",
       "      <td>2</td>\n",
       "      <td>Mathematics</td>\n",
       "      <td>Math K-12</td>\n",
       "      <td>Survey With Goals</td>\n",
       "      <td>Growth: Math 2-5 TX 2012</td>\n",
       "      <td>9/29/2020</td>\n",
       "      <td>9:04:36</td>\n",
       "      <td>38</td>\n",
       "      <td>187</td>\n",
       "      <td>3.0</td>\n",
       "      <td>82</td>\n",
       "      <td>High</td>\n",
       "      <td>50</td>\n",
       "    </tr>\n",
       "    <tr>\n",
       "      <th>1</th>\n",
       "      <td>2115893</td>\n",
       "      <td>Fall 2020-2021</td>\n",
       "      <td>Dallas Independent School District (DISD)</td>\n",
       "      <td>Harry C Withers Elementary School</td>\n",
       "      <td>9/12/2012</td>\n",
       "      <td>2</td>\n",
       "      <td>Language Arts</td>\n",
       "      <td>Reading</td>\n",
       "      <td>Survey With Goals</td>\n",
       "      <td>Growth: Reading 2-5 TX 2017</td>\n",
       "      <td>9/22/2020</td>\n",
       "      <td>8:45:17</td>\n",
       "      <td>94</td>\n",
       "      <td>197</td>\n",
       "      <td>3.5</td>\n",
       "      <td>95</td>\n",
       "      <td>High</td>\n",
       "      <td>60</td>\n",
       "    </tr>\n",
       "    <tr>\n",
       "      <th>2</th>\n",
       "      <td>5090051</td>\n",
       "      <td>Fall 2020-2021</td>\n",
       "      <td>Dallas Independent School District (DISD)</td>\n",
       "      <td>Louise Wolff Kahn Elementary School</td>\n",
       "      <td>5/14/2014</td>\n",
       "      <td>1</td>\n",
       "      <td>Mathematics</td>\n",
       "      <td>Math K-12</td>\n",
       "      <td>Survey With Goals</td>\n",
       "      <td>Growth: Math K-2 TX 2012</td>\n",
       "      <td>9/21/2020</td>\n",
       "      <td>9:19:13</td>\n",
       "      <td>37</td>\n",
       "      <td>153</td>\n",
       "      <td>3.2</td>\n",
       "      <td>29</td>\n",
       "      <td>LoAvg</td>\n",
       "      <td>49</td>\n",
       "    </tr>\n",
       "    <tr>\n",
       "      <th>3</th>\n",
       "      <td>5090051</td>\n",
       "      <td>Fall 2020-2021</td>\n",
       "      <td>Dallas Independent School District (DISD)</td>\n",
       "      <td>Louise Wolff Kahn Elementary School</td>\n",
       "      <td>5/14/2014</td>\n",
       "      <td>1</td>\n",
       "      <td>Language Arts</td>\n",
       "      <td>Reading (Spanish)</td>\n",
       "      <td>Survey With Goals</td>\n",
       "      <td>Growth: Spanish Reading K-2 TX 2017</td>\n",
       "      <td>9/21/2020</td>\n",
       "      <td>10:57:10</td>\n",
       "      <td>18</td>\n",
       "      <td>132</td>\n",
       "      <td>3.5</td>\n",
       "      <td>9</td>\n",
       "      <td>Low</td>\n",
       "      <td>37</td>\n",
       "    </tr>\n",
       "    <tr>\n",
       "      <th>4</th>\n",
       "      <td>8221829</td>\n",
       "      <td>Fall 2020-2021</td>\n",
       "      <td>Dallas Independent School District (DISD)</td>\n",
       "      <td>Stephen C Foster Elementary School</td>\n",
       "      <td>10/5/2012</td>\n",
       "      <td>2</td>\n",
       "      <td>Mathematics</td>\n",
       "      <td>Math K-12</td>\n",
       "      <td>Survey With Goals</td>\n",
       "      <td>Growth: Math 2-5 TX 2012</td>\n",
       "      <td>9/21/2020</td>\n",
       "      <td>9:07:44</td>\n",
       "      <td>41</td>\n",
       "      <td>142</td>\n",
       "      <td>3.3</td>\n",
       "      <td>1</td>\n",
       "      <td>Low</td>\n",
       "      <td>30</td>\n",
       "    </tr>\n",
       "  </tbody>\n",
       "</table>\n",
       "</div>"
      ],
      "text/plain": [
       "   Fake_Student_ID        TermName                               DistrictName  \\\n",
       "0          2115893  Fall 2020-2021  Dallas Independent School District (DISD)   \n",
       "1          2115893  Fall 2020-2021  Dallas Independent School District (DISD)   \n",
       "2          5090051  Fall 2020-2021  Dallas Independent School District (DISD)   \n",
       "3          5090051  Fall 2020-2021  Dallas Independent School District (DISD)   \n",
       "4          8221829  Fall 2020-2021  Dallas Independent School District (DISD)   \n",
       "\n",
       "                            SchoolName StudentDateOfBirth  Grade  \\\n",
       "0    Harry C Withers Elementary School          9/12/2012      2   \n",
       "1    Harry C Withers Elementary School          9/12/2012      2   \n",
       "2  Louise Wolff Kahn Elementary School          5/14/2014      1   \n",
       "3  Louise Wolff Kahn Elementary School          5/14/2014      1   \n",
       "4   Stephen C Foster Elementary School          10/5/2012      2   \n",
       "\n",
       "         Subject             Course           TestType  \\\n",
       "0    Mathematics          Math K-12  Survey With Goals   \n",
       "1  Language Arts            Reading  Survey With Goals   \n",
       "2    Mathematics          Math K-12  Survey With Goals   \n",
       "3  Language Arts  Reading (Spanish)  Survey With Goals   \n",
       "4    Mathematics          Math K-12  Survey With Goals   \n",
       "\n",
       "                              TestName TestStartDate TestStartTime  \\\n",
       "0             Growth: Math 2-5 TX 2012     9/29/2020       9:04:36   \n",
       "1          Growth: Reading 2-5 TX 2017     9/22/2020       8:45:17   \n",
       "2             Growth: Math K-2 TX 2012     9/21/2020       9:19:13   \n",
       "3  Growth: Spanish Reading K-2 TX 2017     9/21/2020      10:57:10   \n",
       "4             Growth: Math 2-5 TX 2012     9/21/2020       9:07:44   \n",
       "\n",
       "   TestDurationMinutes  TestRITScore  TestStandardError  TestPercentile  \\\n",
       "0                   38           187                3.0              82   \n",
       "1                   94           197                3.5              95   \n",
       "2                   37           153                3.2              29   \n",
       "3                   18           132                3.5               9   \n",
       "4                   41           142                3.3               1   \n",
       "\n",
       "  AchievementQuintile  PercentCorrect  \n",
       "0                High              50  \n",
       "1                High              60  \n",
       "2               LoAvg              49  \n",
       "3                 Low              37  \n",
       "4                 Low              30  "
      ]
     },
     "execution_count": 19,
     "metadata": {},
     "output_type": "execute_result"
    }
   ],
   "source": [
    "boy.head()"
   ]
  },
  {
   "cell_type": "code",
   "execution_count": 20,
   "metadata": {
    "hidden": true
   },
   "outputs": [
    {
     "data": {
      "text/plain": [
       "Index(['Fake_Student_ID', 'TermName', 'DistrictName', 'SchoolName',\n",
       "       'StudentDateOfBirth', 'Grade', 'Subject', 'Course', 'TestType',\n",
       "       'TestName', 'TestStartDate', 'TestStartTime', 'TestDurationMinutes',\n",
       "       'TestRITScore', 'TestStandardError', 'TestPercentile',\n",
       "       'AchievementQuintile', 'PercentCorrect'],\n",
       "      dtype='object')"
      ]
     },
     "execution_count": 20,
     "metadata": {},
     "output_type": "execute_result"
    }
   ],
   "source": [
    "#columns in dataframe\n",
    "boy.columns"
   ]
  },
  {
   "cell_type": "code",
   "execution_count": 21,
   "metadata": {
    "hidden": true
   },
   "outputs": [
    {
     "data": {
      "text/plain": [
       "array([2, 1])"
      ]
     },
     "execution_count": 21,
     "metadata": {},
     "output_type": "execute_result"
    }
   ],
   "source": [
    "#total number of grades represented \n",
    "boy['Grade'].unique()"
   ]
  },
  {
   "cell_type": "markdown",
   "metadata": {
    "hidden": true
   },
   "source": [
    "Data is from students in 1st & 2nd grade."
   ]
  },
  {
   "cell_type": "code",
   "execution_count": 22,
   "metadata": {
    "hidden": true
   },
   "outputs": [
    {
     "data": {
      "text/plain": [
       "array(['Dallas Independent School District (DISD)'], dtype=object)"
      ]
     },
     "execution_count": 22,
     "metadata": {},
     "output_type": "execute_result"
    }
   ],
   "source": [
    "#Districts \n",
    "boy['DistrictName'].unique()"
   ]
  },
  {
   "cell_type": "code",
   "execution_count": 23,
   "metadata": {
    "collapsed": true,
    "hidden": true
   },
   "outputs": [
    {
     "name": "stdout",
     "output_type": "stream",
     "text": [
      "Number of Schools 149\n",
      "['Harry C Withers Elementary School' 'Louise Wolff Kahn Elementary School'\n",
      " 'Stephen C Foster Elementary School' 'Ida B. Wells Academy'\n",
      " 'KB Polk Center for Academically Talented & Gifted'\n",
      " 'William Lipscomb Elementary School' 'Chapel Hill Preparatory'\n",
      " 'Mockingbird Elementary School' 'Obadiah Knight Elementary School'\n",
      " 'Maple Lawn Elementary School'\n",
      " 'Celestino Mauricio Soto Jr Elementary School'\n",
      " 'S S Conner Elementary School' 'L L Hotchkiss Elementary School'\n",
      " 'Edna Rowe Elementary School' 'Central Elementary School'\n",
      " 'Charles Rice Learning Center' 'Anson Jones Elementary School'\n",
      " 'James Bowie Elementary School' 'Arturo Salazar Elementary School'\n",
      " 'Casa View Elementary School' 'Winnetka Elementary School'\n",
      " 'Arthur Kramer Elementary School'\n",
      " 'Thomas L Marsalis Elementary STEAM Academy'\n",
      " 'Lee A McShan Jr Elementary School' 'Edwin J Kiest Elementary School'\n",
      " 'Larry G Smith Elementary School' 'George Peabody Elementary School'\n",
      " 'W W Bushman Elementary School' 'Daniel Webster Elementary School'\n",
      " 'Solar Prep for Boys at John F. Kennedy'\n",
      " 'John F Peeler Elementary School'\n",
      " 'Henry B Gonzalez Personalized Learning Academy'\n",
      " 'John Neely Bryan Elementary School' 'Charles A Gill Elementary School'\n",
      " 'Frank Guzick Elementary School' 'J N Ervin Elementary School'\n",
      " 'Jose Joe May Elementary School' 'Martin Weiss Elementary School'\n",
      " 'Lakewood Elementary School' 'Nancy Moseley Elementary School'\n",
      " 'Seagoville Elementary School' 'John W Runyon Elementary School'\n",
      " 'Dan D Rogers Elementary School' 'Mount Auburn STEAM Academy'\n",
      " 'F P Caillet Elementary School' 'Seagoville North Elementary School'\n",
      " 'Herbert Marcus Elementary School' 'Elisha M Pease Elementary School'\n",
      " 'Mark Twain Leadership Vanguard'\n",
      " 'Hall Personalized Learning Academy at Oak Cliff'\n",
      " 'Thomas Tolbert Elementary School' 'Leslie A Stemmons Elementary School'\n",
      " 'Clara Oliver Elementary School' 'William M Anderson Elementary School'\n",
      " 'Richard Lagow Elementary School' 'Ronald E McNair Elementary School'\n",
      " 'Highland Meadows Elementary School' 'Wilmer-Hutchins Elementary School'\n",
      " 'George W Truett Elementary School' 'Geneva Heights Elementary School'\n",
      " 'C A Tatum Jr Elementary School' 'John Ireland Elementary School'\n",
      " 'Martha Turner Reilly Elementary School'\n",
      " 'Rosemont Lower - Chris V Semos Building'\n",
      " 'Adelfa Botello Callejo Elementary School'\n",
      " 'Cedar Crest Elementary School'\n",
      " 'H.I. Holland Elementary School at Lisbon'\n",
      " 'George Herbert Walker Bush Elementary School' 'Bayles Elementary School'\n",
      " 'Urban Park Elementary School' 'Mary McLeod Bethune Elementary School'\n",
      " 'Frederick Douglass Elementary School'\n",
      " 'Everette Lee Degolyer Elementary School' 'Walnut Hill Elementary School'\n",
      " 'Gabe P Allen Charter School' 'Harry Stone Montessori Academy'\n",
      " 'Eduardo Mata Montessori School' 'Joseph J Rhoads Elementary School'\n",
      " 'Solar Prep School for Girls at James B Bonham'\n",
      " 'Cesar Chavez Learning Center' 'L O Donald Elementary School'\n",
      " 'Trinity Heights Gifted and Talented School'\n",
      " 'Ben Milam Elementary School' 'W A Blair Elementary School'\n",
      " 'San Jacinto Elementary School'\n",
      " 'Thelma Elizabeth Page Richardson Elementary School'\n",
      " 'John J Pershing Elementary School' 'N W Harllee Early Childhood Center'\n",
      " 'B H Macon Elementary School'\n",
      " 'Leonides Gonzalez Cigarroa MD Elementary School'\n",
      " 'Barbara Jordan Elementary School' 'Leila P Cowart Elementary School'\n",
      " 'Eladio R Martinez Learning Center' 'Rufus C Burleson Elementary School'\n",
      " 'Esperanza Hope Medrano Elementary School' 'Anne Frank Elementary School'\n",
      " 'Tom C Gooch Elementary School' 'George B. Dealey Montessori Academy'\n",
      " 'Gilbert Cuellar Sr Elementary School' 'John Q Adams Elementary School'\n",
      " 'Nathan Adams Elementary School' 'Ebby Halliday Elementary School'\n",
      " 'Clinton P Russell Elementary School'\n",
      " 'Margaret B Henderson Elementary School'\n",
      " 'Julian T Saldivar Elementary School' 'Kleberg Elementary School'\n",
      " 'Arcadia Park Elementary School'\n",
      " 'Montessori Academy at Onesimo Hernandez'\n",
      " 'Ignacio Zaragoza Elementary School'\n",
      " 'Felix G Botello Personalized Learning Elementary'\n",
      " 'Ascher Silberstein Elementary School' 'Julius Dorsey Elementary School'\n",
      " 'Jimmie Tyler Brashear Elementary School' 'T G Terry Elementary School'\n",
      " 'Lida Hooe Elementary School' 'Nancy J Cochran Elementary School'\n",
      " 'Annie Webb Blanton Elementary School'\n",
      " 'Jerry R Junkins Elementary School' 'Reinhardt Elementary School'\n",
      " 'Victor H Hexter Elementary School'\n",
      " 'Martin Luther King Jr Learning Center'\n",
      " 'Lorenzo De Zavala Elementary School' 'Oran M Roberts Elementary School'\n",
      " 'David G Burnet Elementary School' 'Edward Titche Elementary School'\n",
      " 'Sidney Lanier Expressive Arts Vanguard' 'Stevens Park Elementary School'\n",
      " 'Hogg New Tech Center' 'John H Reagan Elementary School'\n",
      " 'Pleasant Grove Elementary School'\n",
      " 'Nathaniel Hawthorne Elementary School'\n",
      " 'Birdie Alexander Elementary School' 'Preston Hollow Elementary School'\n",
      " 'Maria Moreno STEAM Academy' 'Umphrey Lee Elementary School'\n",
      " 'J P Starks Elementary School' 'Jack Lowe Sr Elementary School'\n",
      " 'Whitney M Young Jr Elementary School'\n",
      " 'Eddie Bernice Johnson Elementary School'\n",
      " 'Alex Sanger Preparatory School' 'Paul L Dunbar Learning Center'\n",
      " 'C F Carr Elementary School' 'R L Thornton Elementary School'\n",
      " 'Houston Personalized Learning' 'Harrell Budd Elementary School'\n",
      " 'Adelle Turner Elementary School' 'John W Carpenter Elementary School'\n",
      " 'William B Miller Elementary School'\n",
      " 'Jill Stone Elementary School at Vickery Meadow']\n"
     ]
    }
   ],
   "source": [
    "#schools represented  \n",
    "print(f\"Number of Schools {len(boy['SchoolName'].unique())}\")\n",
    "print(boy['SchoolName'].unique())"
   ]
  },
  {
   "cell_type": "markdown",
   "metadata": {
    "hidden": true
   },
   "source": [
    "All data is from DISD School, there are 149 schools represented in this data set. "
   ]
  },
  {
   "cell_type": "markdown",
   "metadata": {
    "heading_collapsed": true
   },
   "source": [
    "## MOY MAP Data"
   ]
  },
  {
   "cell_type": "code",
   "execution_count": 25,
   "metadata": {
    "hidden": true
   },
   "outputs": [
    {
     "data": {
      "text/html": [
       "<div>\n",
       "<style scoped>\n",
       "    .dataframe tbody tr th:only-of-type {\n",
       "        vertical-align: middle;\n",
       "    }\n",
       "\n",
       "    .dataframe tbody tr th {\n",
       "        vertical-align: top;\n",
       "    }\n",
       "\n",
       "    .dataframe thead th {\n",
       "        text-align: right;\n",
       "    }\n",
       "</style>\n",
       "<table border=\"1\" class=\"dataframe\">\n",
       "  <thead>\n",
       "    <tr style=\"text-align: right;\">\n",
       "      <th></th>\n",
       "      <th>Fake_Student_ID</th>\n",
       "      <th>TermName</th>\n",
       "      <th>DistrictName</th>\n",
       "      <th>SchoolName</th>\n",
       "      <th>StudentDateOfBirth</th>\n",
       "      <th>Grade</th>\n",
       "      <th>Subject</th>\n",
       "      <th>Course</th>\n",
       "      <th>TestType</th>\n",
       "      <th>TestName</th>\n",
       "      <th>TestStartDate</th>\n",
       "      <th>TestStartTime</th>\n",
       "      <th>TestDurationMinutes</th>\n",
       "      <th>TestRITScore</th>\n",
       "      <th>TestStandardError</th>\n",
       "      <th>TestPercentile</th>\n",
       "      <th>AchievementQuintile</th>\n",
       "      <th>PercentCorrect</th>\n",
       "    </tr>\n",
       "  </thead>\n",
       "  <tbody>\n",
       "    <tr>\n",
       "      <th>0</th>\n",
       "      <td>2115893</td>\n",
       "      <td>Winter 2020-2021</td>\n",
       "      <td>Dallas Independent School District (DISD)</td>\n",
       "      <td>Harry C Withers Elementary School</td>\n",
       "      <td>9/12/2012</td>\n",
       "      <td>2</td>\n",
       "      <td>Mathematics</td>\n",
       "      <td>Math K-12</td>\n",
       "      <td>Survey With Goals</td>\n",
       "      <td>Growth: Math 2-5 TX 2012</td>\n",
       "      <td>1/20/2021</td>\n",
       "      <td>8:28:13</td>\n",
       "      <td>40</td>\n",
       "      <td>192</td>\n",
       "      <td>3.0</td>\n",
       "      <td>75</td>\n",
       "      <td>HiAvg</td>\n",
       "      <td>47</td>\n",
       "    </tr>\n",
       "    <tr>\n",
       "      <th>1</th>\n",
       "      <td>2115893</td>\n",
       "      <td>Winter 2020-2021</td>\n",
       "      <td>Dallas Independent School District (DISD)</td>\n",
       "      <td>Harry C Withers Elementary School</td>\n",
       "      <td>9/12/2012</td>\n",
       "      <td>2</td>\n",
       "      <td>Language Arts</td>\n",
       "      <td>Reading</td>\n",
       "      <td>Survey With Goals</td>\n",
       "      <td>Growth: Reading 2-5 TX 2017</td>\n",
       "      <td>1/21/2021</td>\n",
       "      <td>8:07:32</td>\n",
       "      <td>70</td>\n",
       "      <td>207</td>\n",
       "      <td>3.8</td>\n",
       "      <td>96</td>\n",
       "      <td>High</td>\n",
       "      <td>42</td>\n",
       "    </tr>\n",
       "    <tr>\n",
       "      <th>2</th>\n",
       "      <td>8221829</td>\n",
       "      <td>Winter 2020-2021</td>\n",
       "      <td>Dallas Independent School District (DISD)</td>\n",
       "      <td>Stephen C Foster Elementary School</td>\n",
       "      <td>10/5/2012</td>\n",
       "      <td>2</td>\n",
       "      <td>Mathematics</td>\n",
       "      <td>Math K-12</td>\n",
       "      <td>Survey With Goals</td>\n",
       "      <td>Growth: Math 2-5 TX 2012</td>\n",
       "      <td>1/11/2021</td>\n",
       "      <td>8:41:52</td>\n",
       "      <td>45</td>\n",
       "      <td>159</td>\n",
       "      <td>3.0</td>\n",
       "      <td>3</td>\n",
       "      <td>Low</td>\n",
       "      <td>51</td>\n",
       "    </tr>\n",
       "    <tr>\n",
       "      <th>3</th>\n",
       "      <td>8221829</td>\n",
       "      <td>Winter 2020-2021</td>\n",
       "      <td>Dallas Independent School District (DISD)</td>\n",
       "      <td>Stephen C Foster Elementary School</td>\n",
       "      <td>10/5/2012</td>\n",
       "      <td>2</td>\n",
       "      <td>Language Arts</td>\n",
       "      <td>Reading (Spanish)</td>\n",
       "      <td>Survey With Goals</td>\n",
       "      <td>Growth: Spanish Reading 2-5 TX 2017</td>\n",
       "      <td>1/12/2021</td>\n",
       "      <td>8:38:44</td>\n",
       "      <td>49</td>\n",
       "      <td>161</td>\n",
       "      <td>3.6</td>\n",
       "      <td>13</td>\n",
       "      <td>Low</td>\n",
       "      <td>30</td>\n",
       "    </tr>\n",
       "    <tr>\n",
       "      <th>4</th>\n",
       "      <td>8261570</td>\n",
       "      <td>Winter 2020-2021</td>\n",
       "      <td>Dallas Independent School District (DISD)</td>\n",
       "      <td>Ida B. Wells Academy</td>\n",
       "      <td>2/27/2012</td>\n",
       "      <td>2</td>\n",
       "      <td>Mathematics</td>\n",
       "      <td>Math K-12</td>\n",
       "      <td>Survey With Goals</td>\n",
       "      <td>Growth: Math 2-5 TX 2012</td>\n",
       "      <td>1/8/2021</td>\n",
       "      <td>12:41:22</td>\n",
       "      <td>32</td>\n",
       "      <td>199</td>\n",
       "      <td>2.9</td>\n",
       "      <td>89</td>\n",
       "      <td>High</td>\n",
       "      <td>44</td>\n",
       "    </tr>\n",
       "  </tbody>\n",
       "</table>\n",
       "</div>"
      ],
      "text/plain": [
       "   Fake_Student_ID          TermName  \\\n",
       "0          2115893  Winter 2020-2021   \n",
       "1          2115893  Winter 2020-2021   \n",
       "2          8221829  Winter 2020-2021   \n",
       "3          8221829  Winter 2020-2021   \n",
       "4          8261570  Winter 2020-2021   \n",
       "\n",
       "                                DistrictName  \\\n",
       "0  Dallas Independent School District (DISD)   \n",
       "1  Dallas Independent School District (DISD)   \n",
       "2  Dallas Independent School District (DISD)   \n",
       "3  Dallas Independent School District (DISD)   \n",
       "4  Dallas Independent School District (DISD)   \n",
       "\n",
       "                           SchoolName StudentDateOfBirth  Grade  \\\n",
       "0   Harry C Withers Elementary School          9/12/2012      2   \n",
       "1   Harry C Withers Elementary School          9/12/2012      2   \n",
       "2  Stephen C Foster Elementary School          10/5/2012      2   \n",
       "3  Stephen C Foster Elementary School          10/5/2012      2   \n",
       "4                Ida B. Wells Academy          2/27/2012      2   \n",
       "\n",
       "         Subject             Course           TestType  \\\n",
       "0    Mathematics          Math K-12  Survey With Goals   \n",
       "1  Language Arts            Reading  Survey With Goals   \n",
       "2    Mathematics          Math K-12  Survey With Goals   \n",
       "3  Language Arts  Reading (Spanish)  Survey With Goals   \n",
       "4    Mathematics          Math K-12  Survey With Goals   \n",
       "\n",
       "                              TestName TestStartDate TestStartTime  \\\n",
       "0             Growth: Math 2-5 TX 2012     1/20/2021       8:28:13   \n",
       "1          Growth: Reading 2-5 TX 2017     1/21/2021       8:07:32   \n",
       "2             Growth: Math 2-5 TX 2012     1/11/2021       8:41:52   \n",
       "3  Growth: Spanish Reading 2-5 TX 2017     1/12/2021       8:38:44   \n",
       "4             Growth: Math 2-5 TX 2012      1/8/2021      12:41:22   \n",
       "\n",
       "   TestDurationMinutes  TestRITScore  TestStandardError  TestPercentile  \\\n",
       "0                   40           192                3.0              75   \n",
       "1                   70           207                3.8              96   \n",
       "2                   45           159                3.0               3   \n",
       "3                   49           161                3.6              13   \n",
       "4                   32           199                2.9              89   \n",
       "\n",
       "  AchievementQuintile  PercentCorrect  \n",
       "0               HiAvg              47  \n",
       "1                High              42  \n",
       "2                 Low              51  \n",
       "3                 Low              30  \n",
       "4                High              44  "
      ]
     },
     "execution_count": 25,
     "metadata": {},
     "output_type": "execute_result"
    }
   ],
   "source": [
    "#preview\n",
    "moy.head()"
   ]
  },
  {
   "cell_type": "code",
   "execution_count": 26,
   "metadata": {
    "hidden": true
   },
   "outputs": [
    {
     "data": {
      "text/plain": [
       "Index(['Fake_Student_ID', 'TermName', 'DistrictName', 'SchoolName',\n",
       "       'StudentDateOfBirth', 'Grade', 'Subject', 'Course', 'TestType',\n",
       "       'TestName', 'TestStartDate', 'TestStartTime', 'TestDurationMinutes',\n",
       "       'TestRITScore', 'TestStandardError', 'TestPercentile',\n",
       "       'AchievementQuintile', 'PercentCorrect'],\n",
       "      dtype='object')"
      ]
     },
     "execution_count": 26,
     "metadata": {},
     "output_type": "execute_result"
    }
   ],
   "source": [
    "#columns in dataframe\n",
    "moy.columns"
   ]
  },
  {
   "cell_type": "code",
   "execution_count": 29,
   "metadata": {
    "hidden": true
   },
   "outputs": [
    {
     "data": {
      "text/plain": [
       "array([2, 1])"
      ]
     },
     "execution_count": 29,
     "metadata": {},
     "output_type": "execute_result"
    }
   ],
   "source": [
    "#total number of grades represented \n",
    "moy['Grade'].unique()"
   ]
  },
  {
   "cell_type": "code",
   "execution_count": 31,
   "metadata": {
    "hidden": true
   },
   "outputs": [
    {
     "data": {
      "text/plain": [
       "array(['Dallas Independent School District (DISD)'], dtype=object)"
      ]
     },
     "execution_count": 31,
     "metadata": {},
     "output_type": "execute_result"
    }
   ],
   "source": [
    "#Districts \n",
    "moy['DistrictName'].unique()"
   ]
  },
  {
   "cell_type": "code",
   "execution_count": 32,
   "metadata": {
    "hidden": true
   },
   "outputs": [
    {
     "name": "stdout",
     "output_type": "stream",
     "text": [
      "Number of Schools 149\n",
      "['Harry C Withers Elementary School' 'Stephen C Foster Elementary School'\n",
      " 'Ida B. Wells Academy'\n",
      " 'KB Polk Center for Academically Talented & Gifted'\n",
      " 'William Lipscomb Elementary School' 'Chapel Hill Preparatory'\n",
      " 'Mockingbird Elementary School' 'Obadiah Knight Elementary School'\n",
      " 'Maple Lawn Elementary School' 'R L Thornton Elementary School'\n",
      " 'Celestino Mauricio Soto Jr Elementary School'\n",
      " 'S S Conner Elementary School' 'L L Hotchkiss Elementary School'\n",
      " 'Edna Rowe Elementary School' 'Central Elementary School'\n",
      " 'Anson Jones Elementary School' 'James Bowie Elementary School'\n",
      " 'Arturo Salazar Elementary School' 'Casa View Elementary School'\n",
      " 'Winnetka Elementary School' 'Arthur Kramer Elementary School'\n",
      " 'Thomas L Marsalis Elementary STEAM Academy'\n",
      " 'Lee A McShan Jr Elementary School' 'Edwin J Kiest Elementary School'\n",
      " 'Larry G Smith Elementary School' 'George Peabody Elementary School'\n",
      " 'Ronald E McNair Elementary School' 'Daniel Webster Elementary School'\n",
      " 'Solar Prep for Boys at John F. Kennedy'\n",
      " 'John F Peeler Elementary School' 'Stevens Park Elementary School'\n",
      " 'Henry B Gonzalez Personalized Learning Academy'\n",
      " 'John Neely Bryan Elementary School' 'Charles A Gill Elementary School'\n",
      " 'Frank Guzick Elementary School' 'J N Ervin Elementary School'\n",
      " 'Lakewood Elementary School' 'Nancy Moseley Elementary School'\n",
      " 'Seagoville Elementary School' 'John W Runyon Elementary School'\n",
      " 'Dan D Rogers Elementary School' 'Mount Auburn STEAM Academy'\n",
      " 'F P Caillet Elementary School' 'Seagoville North Elementary School'\n",
      " 'Herbert Marcus Elementary School' 'Elisha M Pease Elementary School'\n",
      " 'Mark Twain School for the Talented and Gifted'\n",
      " 'Hall Personalized Learning Academy at Oak Cliff'\n",
      " 'Anne Frank Elementary School' 'Leslie A Stemmons Elementary School'\n",
      " 'Clara Oliver Elementary School' 'William M Anderson Elementary School'\n",
      " 'Louise Wolff Kahn Elementary School' 'Richard Lagow Elementary School'\n",
      " 'Wilmer-Hutchins Elementary School' 'George W Truett Elementary School'\n",
      " 'Geneva Heights Elementary School' 'C A Tatum Jr Elementary School'\n",
      " 'Lorenzo De Zavala Elementary School' 'John Ireland Elementary School'\n",
      " 'Martha Turner Reilly Elementary School'\n",
      " 'Rosemont Lower - Chris V Semos Building'\n",
      " 'Adelfa Botello Callejo Elementary School'\n",
      " 'Cedar Crest Elementary School'\n",
      " 'H.I. Holland Elementary School at Lisbon'\n",
      " 'George Herbert Walker Bush Elementary School' 'Bayles Elementary School'\n",
      " 'Mary McLeod Bethune Elementary School'\n",
      " 'Frederick Douglass Elementary School'\n",
      " 'Everette Lee Degolyer Elementary School' 'Walnut Hill Elementary School'\n",
      " 'Gabe P Allen Charter School' 'Harry Stone Montessori Academy'\n",
      " 'Eduardo Mata Montessori School' 'Joseph J Rhoads Elementary School'\n",
      " 'Solar Prep School for Girls at James B Bonham'\n",
      " 'Highland Meadows Elementary School' 'Cesar Chavez Learning Center'\n",
      " 'Trinity Heights Gifted and Talented School'\n",
      " 'W A Blair Elementary School' 'San Jacinto Elementary School'\n",
      " 'Thelma Elizabeth Page Richardson Elementary School'\n",
      " 'John J Pershing Elementary School' 'Leila P Cowart Elementary School'\n",
      " 'N W Harllee Early Childhood Center' 'Umphrey Lee Elementary School'\n",
      " 'B H Macon Elementary School'\n",
      " 'Leonides Gonzalez Cigarroa MD Elementary School'\n",
      " 'Barbara Jordan Elementary School' 'Eladio R Martinez Learning Center'\n",
      " 'Rufus C Burleson Elementary School'\n",
      " 'Esperanza Hope Medrano Elementary School'\n",
      " 'Tom C Gooch Elementary School' 'George B. Dealey Montessori Academy'\n",
      " 'Gilbert Cuellar Sr Elementary School' 'Jose Joe May Elementary School'\n",
      " 'John Q Adams Elementary School' 'Nathan Adams Elementary School'\n",
      " 'Ebby Halliday Elementary School' 'Alex Sanger Preparatory School'\n",
      " 'Clinton P Russell Elementary School' 'L O Donald Elementary School'\n",
      " 'Margaret B Henderson Elementary School'\n",
      " 'Julian T Saldivar Elementary School' 'Kleberg Elementary School'\n",
      " 'John H Reagan Elementary School' 'Arcadia Park Elementary School'\n",
      " 'Montessori Academy at Onesimo Hernandez'\n",
      " 'Ignacio Zaragoza Elementary School'\n",
      " 'Felix G Botello Personalized Learning Elementary'\n",
      " 'Ascher Silberstein Elementary School' 'Julius Dorsey Elementary School'\n",
      " 'Jimmie Tyler Brashear Elementary School' 'T G Terry Elementary School'\n",
      " 'Lida Hooe Elementary School' 'Nancy J Cochran Elementary School'\n",
      " 'Annie Webb Blanton Elementary School'\n",
      " 'Jerry R Junkins Elementary School' 'Reinhardt Elementary School'\n",
      " 'Whitney M Young Jr Elementary School'\n",
      " 'Victor H Hexter Elementary School' 'Martin Luther King Jr Arts Academy'\n",
      " 'Oran M Roberts Elementary School' 'David G Burnet Elementary School'\n",
      " 'Edward Titche Elementary School'\n",
      " 'Sidney Lanier Expressive Arts Vanguard' 'Hogg New Tech Center'\n",
      " 'Pleasant Grove Elementary School'\n",
      " 'Nathaniel Hawthorne Elementary School'\n",
      " 'Birdie Alexander Elementary School' 'Preston Hollow Elementary School'\n",
      " 'Maria Moreno STEAM Academy' 'J P Starks Elementary School'\n",
      " 'Martin Weiss Elementary School' 'Jack Lowe Sr Elementary School'\n",
      " 'Ben Milam Elementary School' 'Eddie Bernice Johnson Elementary School'\n",
      " 'Urban Park Elementary School' 'Paul L Dunbar Learning Center'\n",
      " 'W W Bushman Elementary School' 'C F Carr Elementary School'\n",
      " 'Charles Rice Learning Center' 'Thomas Tolbert Elementary School'\n",
      " 'Houston Personalized Learning' 'William B Miller Elementary School'\n",
      " 'John W Carpenter Elementary School' 'Adelle Turner Elementary School'\n",
      " 'Harrell Budd Elementary School'\n",
      " 'Jill Stone Elementary School at Vickery Meadow']\n"
     ]
    }
   ],
   "source": [
    "#schools represented  \n",
    "print(f\"Number of Schools {len(moy['SchoolName'].unique())}\")\n",
    "print(moy['SchoolName'].unique())"
   ]
  },
  {
   "cell_type": "code",
   "execution_count": 165,
   "metadata": {
    "hidden": true
   },
   "outputs": [],
   "source": [
    "hist_columns = ['TestDurationMinutes', 'TestRITScore', \n",
    "               'TestPercentile','PercentCorrect']"
   ]
  },
  {
   "cell_type": "markdown",
   "metadata": {
    "heading_collapsed": true
   },
   "source": [
    "## Demographic Data"
   ]
  },
  {
   "cell_type": "code",
   "execution_count": null,
   "metadata": {
    "hidden": true
   },
   "outputs": [],
   "source": [
    "#preview \n",
    "demographics.head()"
   ]
  },
  {
   "cell_type": "code",
   "execution_count": null,
   "metadata": {
    "hidden": true
   },
   "outputs": [],
   "source": [
    "#columns in dataframe\n",
    "demographics.columns"
   ]
  },
  {
   "cell_type": "markdown",
   "metadata": {},
   "source": [
    "# Large Picture Trend Analysis"
   ]
  },
  {
   "cell_type": "markdown",
   "metadata": {},
   "source": [
    "## BOY / MOY Basic Descriptive Qualitative Analysis"
   ]
  },
  {
   "cell_type": "code",
   "execution_count": 156,
   "metadata": {},
   "outputs": [],
   "source": [
    "quant_columns = ['TestDurationMinutes', 'TestRITScore', 'TestStandardError', 'TestPercentile','PercentCorrect']"
   ]
  },
  {
   "cell_type": "code",
   "execution_count": 40,
   "metadata": {},
   "outputs": [
    {
     "data": {
      "text/html": [
       "<div>\n",
       "<style scoped>\n",
       "    .dataframe tbody tr th:only-of-type {\n",
       "        vertical-align: middle;\n",
       "    }\n",
       "\n",
       "    .dataframe tbody tr th {\n",
       "        vertical-align: top;\n",
       "    }\n",
       "\n",
       "    .dataframe thead th {\n",
       "        text-align: right;\n",
       "    }\n",
       "</style>\n",
       "<table border=\"1\" class=\"dataframe\">\n",
       "  <thead>\n",
       "    <tr style=\"text-align: right;\">\n",
       "      <th></th>\n",
       "      <th>TestDurationMinutes</th>\n",
       "      <th>TestRITScore</th>\n",
       "      <th>TestStandardError</th>\n",
       "      <th>TestPercentile</th>\n",
       "      <th>PercentCorrect</th>\n",
       "    </tr>\n",
       "  </thead>\n",
       "  <tbody>\n",
       "    <tr>\n",
       "      <th>count</th>\n",
       "      <td>38648.000000</td>\n",
       "      <td>38648.000000</td>\n",
       "      <td>38648.000000</td>\n",
       "      <td>38648.000000</td>\n",
       "      <td>38648.000000</td>\n",
       "    </tr>\n",
       "    <tr>\n",
       "      <th>mean</th>\n",
       "      <td>41.486416</td>\n",
       "      <td>162.801671</td>\n",
       "      <td>3.281049</td>\n",
       "      <td>45.061374</td>\n",
       "      <td>47.387032</td>\n",
       "    </tr>\n",
       "    <tr>\n",
       "      <th>std</th>\n",
       "      <td>27.827051</td>\n",
       "      <td>18.215424</td>\n",
       "      <td>0.289124</td>\n",
       "      <td>31.295397</td>\n",
       "      <td>8.821543</td>\n",
       "    </tr>\n",
       "    <tr>\n",
       "      <th>min</th>\n",
       "      <td>6.000000</td>\n",
       "      <td>102.000000</td>\n",
       "      <td>2.900000</td>\n",
       "      <td>1.000000</td>\n",
       "      <td>8.000000</td>\n",
       "    </tr>\n",
       "    <tr>\n",
       "      <th>25%</th>\n",
       "      <td>23.000000</td>\n",
       "      <td>150.000000</td>\n",
       "      <td>3.100000</td>\n",
       "      <td>17.000000</td>\n",
       "      <td>44.000000</td>\n",
       "    </tr>\n",
       "    <tr>\n",
       "      <th>50%</th>\n",
       "      <td>34.000000</td>\n",
       "      <td>162.000000</td>\n",
       "      <td>3.200000</td>\n",
       "      <td>41.000000</td>\n",
       "      <td>49.000000</td>\n",
       "    </tr>\n",
       "    <tr>\n",
       "      <th>75%</th>\n",
       "      <td>51.000000</td>\n",
       "      <td>174.000000</td>\n",
       "      <td>3.400000</td>\n",
       "      <td>72.000000</td>\n",
       "      <td>53.000000</td>\n",
       "    </tr>\n",
       "    <tr>\n",
       "      <th>max</th>\n",
       "      <td>339.000000</td>\n",
       "      <td>259.000000</td>\n",
       "      <td>13.400000</td>\n",
       "      <td>99.000000</td>\n",
       "      <td>100.000000</td>\n",
       "    </tr>\n",
       "  </tbody>\n",
       "</table>\n",
       "</div>"
      ],
      "text/plain": [
       "       TestDurationMinutes  TestRITScore  TestStandardError  TestPercentile  \\\n",
       "count         38648.000000  38648.000000       38648.000000    38648.000000   \n",
       "mean             41.486416    162.801671           3.281049       45.061374   \n",
       "std              27.827051     18.215424           0.289124       31.295397   \n",
       "min               6.000000    102.000000           2.900000        1.000000   \n",
       "25%              23.000000    150.000000           3.100000       17.000000   \n",
       "50%              34.000000    162.000000           3.200000       41.000000   \n",
       "75%              51.000000    174.000000           3.400000       72.000000   \n",
       "max             339.000000    259.000000          13.400000       99.000000   \n",
       "\n",
       "       PercentCorrect  \n",
       "count    38648.000000  \n",
       "mean        47.387032  \n",
       "std          8.821543  \n",
       "min          8.000000  \n",
       "25%         44.000000  \n",
       "50%         49.000000  \n",
       "75%         53.000000  \n",
       "max        100.000000  "
      ]
     },
     "execution_count": 40,
     "metadata": {},
     "output_type": "execute_result"
    }
   ],
   "source": [
    "#descriptive statistics for quantitative columns\n",
    "boy[quant_columns].describe()"
   ]
  },
  {
   "cell_type": "code",
   "execution_count": 37,
   "metadata": {
    "scrolled": true
   },
   "outputs": [
    {
     "data": {
      "text/html": [
       "<div>\n",
       "<style scoped>\n",
       "    .dataframe tbody tr th:only-of-type {\n",
       "        vertical-align: middle;\n",
       "    }\n",
       "\n",
       "    .dataframe tbody tr th {\n",
       "        vertical-align: top;\n",
       "    }\n",
       "\n",
       "    .dataframe thead th {\n",
       "        text-align: right;\n",
       "    }\n",
       "</style>\n",
       "<table border=\"1\" class=\"dataframe\">\n",
       "  <thead>\n",
       "    <tr style=\"text-align: right;\">\n",
       "      <th></th>\n",
       "      <th>TestDurationMinutes</th>\n",
       "      <th>TestRITScore</th>\n",
       "      <th>TestStandardError</th>\n",
       "      <th>TestPercentile</th>\n",
       "      <th>PercentCorrect</th>\n",
       "    </tr>\n",
       "  </thead>\n",
       "  <tbody>\n",
       "    <tr>\n",
       "      <th>count</th>\n",
       "      <td>40355.000000</td>\n",
       "      <td>40355.000000</td>\n",
       "      <td>40355.000000</td>\n",
       "      <td>40355.000000</td>\n",
       "      <td>40355.000000</td>\n",
       "    </tr>\n",
       "    <tr>\n",
       "      <th>mean</th>\n",
       "      <td>45.553413</td>\n",
       "      <td>171.489208</td>\n",
       "      <td>3.253515</td>\n",
       "      <td>45.832982</td>\n",
       "      <td>50.109776</td>\n",
       "    </tr>\n",
       "    <tr>\n",
       "      <th>std</th>\n",
       "      <td>31.414773</td>\n",
       "      <td>18.406504</td>\n",
       "      <td>0.307376</td>\n",
       "      <td>31.762049</td>\n",
       "      <td>8.110031</td>\n",
       "    </tr>\n",
       "    <tr>\n",
       "      <th>min</th>\n",
       "      <td>6.000000</td>\n",
       "      <td>103.000000</td>\n",
       "      <td>2.900000</td>\n",
       "      <td>1.000000</td>\n",
       "      <td>9.000000</td>\n",
       "    </tr>\n",
       "    <tr>\n",
       "      <th>25%</th>\n",
       "      <td>25.000000</td>\n",
       "      <td>159.000000</td>\n",
       "      <td>3.100000</td>\n",
       "      <td>17.000000</td>\n",
       "      <td>47.000000</td>\n",
       "    </tr>\n",
       "    <tr>\n",
       "      <th>50%</th>\n",
       "      <td>37.000000</td>\n",
       "      <td>171.000000</td>\n",
       "      <td>3.200000</td>\n",
       "      <td>44.000000</td>\n",
       "      <td>51.000000</td>\n",
       "    </tr>\n",
       "    <tr>\n",
       "      <th>75%</th>\n",
       "      <td>55.000000</td>\n",
       "      <td>183.000000</td>\n",
       "      <td>3.400000</td>\n",
       "      <td>73.000000</td>\n",
       "      <td>53.000000</td>\n",
       "    </tr>\n",
       "    <tr>\n",
       "      <th>max</th>\n",
       "      <td>363.000000</td>\n",
       "      <td>259.000000</td>\n",
       "      <td>13.500000</td>\n",
       "      <td>99.000000</td>\n",
       "      <td>100.000000</td>\n",
       "    </tr>\n",
       "  </tbody>\n",
       "</table>\n",
       "</div>"
      ],
      "text/plain": [
       "       TestDurationMinutes  TestRITScore  TestStandardError  TestPercentile  \\\n",
       "count         40355.000000  40355.000000       40355.000000    40355.000000   \n",
       "mean             45.553413    171.489208           3.253515       45.832982   \n",
       "std              31.414773     18.406504           0.307376       31.762049   \n",
       "min               6.000000    103.000000           2.900000        1.000000   \n",
       "25%              25.000000    159.000000           3.100000       17.000000   \n",
       "50%              37.000000    171.000000           3.200000       44.000000   \n",
       "75%              55.000000    183.000000           3.400000       73.000000   \n",
       "max             363.000000    259.000000          13.500000       99.000000   \n",
       "\n",
       "       PercentCorrect  \n",
       "count    40355.000000  \n",
       "mean        50.109776  \n",
       "std          8.110031  \n",
       "min          9.000000  \n",
       "25%         47.000000  \n",
       "50%         51.000000  \n",
       "75%         53.000000  \n",
       "max        100.000000  "
      ]
     },
     "execution_count": 37,
     "metadata": {},
     "output_type": "execute_result"
    }
   ],
   "source": [
    "#descriptive statistics for quantitative columns\n",
    "moy[quant_columns].describe()"
   ]
  },
  {
   "cell_type": "code",
   "execution_count": 161,
   "metadata": {},
   "outputs": [
    {
     "name": "stdout",
     "output_type": "stream",
     "text": [
      "Median Values BOY\n",
      "TestDurationMinutes     34.0\n",
      "TestRITScore           162.0\n",
      "TestStandardError        3.2\n",
      "TestPercentile          41.0\n",
      "PercentCorrect          49.0\n",
      "dtype: float64\n",
      "--\n",
      "Median Values MOY\n",
      "TestDurationMinutes     37.0\n",
      "TestRITScore           171.0\n",
      "TestStandardError        3.2\n",
      "TestPercentile          44.0\n",
      "PercentCorrect          51.0\n",
      "dtype: float64\n"
     ]
    }
   ],
   "source": [
    "print(\"Median Values BOY\")\n",
    "print(boy[quant_columns].median())  \n",
    "print(\"--\") \n",
    "print(\"Median Values MOY\")\n",
    "print(moy[quant_columns].median())"
   ]
  },
  {
   "cell_type": "markdown",
   "metadata": {},
   "source": [
    "Data Call Outs:  \n",
    "\n",
    "**Test Duration**\n",
    "1. BOY Mean 41.5 / MOY 45.6 - Test time increased \n",
    "2. BOY STD 27.9 / MOY 31.4 - Greater variation in the amount of time that students were taking \n",
    "3. BOY Min 6 / MOY 6 - No change in the fastest test taker \n",
    "4. BOY Max 339 / MOY 363 - The longest test takers took 24 minutes longer on the MOY test  \n",
    "5. The longest test takers took 6 hours to take the test?   \n",
    "6. BOY Median 34/ MOY 37 - Median increased by 3 minutes \n",
    "\n",
    "**Test RIT Score**  \n",
    "1. BOY Mean  162.8 / MOY 171.5 - RIT Score increase of 8.7 \n",
    "2. BOY STD 18.2 / MOY - 18.4 - Greater variation in the RIT score in the MOY testing session \n",
    "3. BOY Min 102 / MOY 103 - Very little change in bottom RIT score between BOY & MOY \n",
    "4. BOY Max 259 / MOY 259 - Very little change in the top RIT score between BOY & MOY \n",
    "5. BOY Median 162 / MOY 171 - Mean & Median similarities indicate a very even distribution \n",
    "\n",
    "**Test Standard Error** \n",
    "1. BOY Mean 3.3 / MOY Mean 3.2 similar test errors BOY / MOY  \n",
    "2. BOY STD 0.29 / MOY STD .3 - very similar spread of error rate BOY / MOY \n",
    "3. BOY Min 2.9 / MOY Min 2.9 - consistent minimum error \n",
    "4. BOY Max 13.4 / MOY Max 13/5 - consistent max error \n",
    "5. BOY Median 3.2 / MOY 3.2 \n",
    "6. Error rate consistent between BOY & MOY\n",
    "\n",
    "**Test Percentile**  \n",
    "1. BOY Mean 45 / MOY Mean 45 - consistent mean percentile \n",
    "2. BOY STD 31.3 / MOY STD 31.7 - consistent deviation  \n",
    "3. BOY Min 1 / MOY 1 - consistent deviation  \n",
    "4. BOY Max 99 / MOY 99 - consistent deviation \n",
    "4. BOY Median 41 / MOY 44 \n",
    "\n",
    "**Percent Correct** \n",
    "1. BOY Mean 47.4 / MOY 50.1 \n",
    "2. BOY STD 8.8 / MOY 8.8 - consistent deviation \n",
    "3. BOY Min 8 / MOY 9 - minimum up one percent \n",
    "4. BOY Max 100 / MOY 100 - students are reaching the max percentile in both the beginning and middle of the year \n",
    "5. BOY Median 49 / 51 - 3 point increase in the median BOY to MOY "
   ]
  },
  {
   "cell_type": "markdown",
   "metadata": {
    "heading_collapsed": true
   },
   "source": [
    "## Histograms"
   ]
  },
  {
   "cell_type": "code",
   "execution_count": 168,
   "metadata": {
    "hidden": true
   },
   "outputs": [
    {
     "data": {
      "image/png": "[encoded data removed]",
      "text/plain": [
       "<Figure size 864x576 with 1 Axes>"
      ]
     },
     "metadata": {
      "needs_background": "light"
     },
     "output_type": "display_data"
    },
    {
     "data": {
      "image/png": "[encoded data removed]",
      "text/plain": [
       "<Figure size 864x576 with 1 Axes>"
      ]
     },
     "metadata": {
      "needs_background": "light"
     },
     "output_type": "display_data"
    },
    {
     "data": {
      "image/png": "[encoded data removed]",
      "text/plain": [
       "<Figure size 864x576 with 1 Axes>"
      ]
     },
     "metadata": {
      "needs_background": "light"
     },
     "output_type": "display_data"
    },
    {
     "data": {
      "image/png": "[encoded data removed]",
      "text/plain": [
       "<Figure size 864x576 with 1 Axes>"
      ]
     },
     "metadata": {
      "needs_background": "light"
     },
     "output_type": "display_data"
    }
   ],
   "source": [
    "#'TestDurationMinutes' histogram \n",
    "for col in hist_columns:\n",
    "    historgram(boy, moy, col) \n",
    "    plt.show()"
   ]
  },
  {
   "cell_type": "markdown",
   "metadata": {
    "hidden": true
   },
   "source": [
    "**Graph Analysis**\n",
    "\n",
    "**Test Duration** \n",
    "There is a slight shift in the distribution of test taking time from BOY to MOY but overall the majority of students took < 75 minutes to take the test in both testing periods. There is a long right tail on the test taking time that may indicate an outlying data point of a student that had extended time on the exam.  \n",
    "\n",
    "**RIT** \n",
    "Both distributions BOY/MOY have normal distributions the largest number of RIT scores falling in the middle range of scores. In the MOY test there is a right shift in distribution signaling a higher average RIT score. \n",
    "\n",
    "**Test Percentile** \n",
    "The MOY distribution at the ends of the distribution (0, 100) both grew in value, indicating that while more students achieved perfect scores in the MOY test than they did in BOY tests more children also landed in the lowest possible test percentile than in the BOY. There is an overall shift right from BOY to MOY in score distribution (seen especially clearly at 30%/ 45%/ 55% and 70% spikes indicating that more students scored in those ranges in the MOY test than they did in the BOY test. Further analysis is needed to be able to say with certainty if this is all a positive shift. \n",
    "\n",
    "**Percent Correct** \n",
    "The distribution of percent correct of overall questions shows a shift to the right from BOY to MOY at it's peak meaning a greater number of students score in the 50% correct or above in the mid year test. There is a heavier tail on the left hand side in both tests signaling more students outside of the 40-60% range score lower than they do higher. The amount of students below 40% overall drops in the mid year test signaling learning gains."
   ]
  },
  {
   "cell_type": "markdown",
   "metadata": {
    "heading_collapsed": true
   },
   "source": [
    "# Math Trend Analysis"
   ]
  },
  {
   "cell_type": "markdown",
   "metadata": {
    "heading_collapsed": true,
    "hidden": true
   },
   "source": [
    "## BOY VS MOY Math Basic Descriptive Qualitative Analysis"
   ]
  },
  {
   "cell_type": "code",
   "execution_count": 141,
   "metadata": {
    "hidden": true
   },
   "outputs": [],
   "source": [
    "#boy math \n",
    "boy_math = boy.loc[boy['Subject'] == \"Mathematics\"]"
   ]
  },
  {
   "cell_type": "code",
   "execution_count": 142,
   "metadata": {
    "hidden": true
   },
   "outputs": [],
   "source": [
    "#moy math \n",
    "moy_math = moy.loc[moy['Subject'] == \"Mathematics\"]"
   ]
  },
  {
   "cell_type": "code",
   "execution_count": 157,
   "metadata": {
    "hidden": true
   },
   "outputs": [
    {
     "data": {
      "text/html": [
       "<div>\n",
       "<style scoped>\n",
       "    .dataframe tbody tr th:only-of-type {\n",
       "        vertical-align: middle;\n",
       "    }\n",
       "\n",
       "    .dataframe tbody tr th {\n",
       "        vertical-align: top;\n",
       "    }\n",
       "\n",
       "    .dataframe thead th {\n",
       "        text-align: right;\n",
       "    }\n",
       "</style>\n",
       "<table border=\"1\" class=\"dataframe\">\n",
       "  <thead>\n",
       "    <tr style=\"text-align: right;\">\n",
       "      <th></th>\n",
       "      <th>TestDurationMinutes</th>\n",
       "      <th>TestRITScore</th>\n",
       "      <th>TestStandardError</th>\n",
       "      <th>TestPercentile</th>\n",
       "      <th>PercentCorrect</th>\n",
       "    </tr>\n",
       "  </thead>\n",
       "  <tbody>\n",
       "    <tr>\n",
       "      <th>count</th>\n",
       "      <td>18758.000000</td>\n",
       "      <td>18758.000000</td>\n",
       "      <td>18758.000000</td>\n",
       "      <td>18758.000000</td>\n",
       "      <td>18758.000000</td>\n",
       "    </tr>\n",
       "    <tr>\n",
       "      <th>mean</th>\n",
       "      <td>39.771084</td>\n",
       "      <td>163.666276</td>\n",
       "      <td>3.131453</td>\n",
       "      <td>40.829993</td>\n",
       "      <td>49.346892</td>\n",
       "    </tr>\n",
       "    <tr>\n",
       "      <th>std</th>\n",
       "      <td>25.222965</td>\n",
       "      <td>17.506758</td>\n",
       "      <td>0.241015</td>\n",
       "      <td>30.392844</td>\n",
       "      <td>6.417864</td>\n",
       "    </tr>\n",
       "    <tr>\n",
       "      <th>min</th>\n",
       "      <td>6.000000</td>\n",
       "      <td>110.000000</td>\n",
       "      <td>2.900000</td>\n",
       "      <td>1.000000</td>\n",
       "      <td>8.000000</td>\n",
       "    </tr>\n",
       "    <tr>\n",
       "      <th>25%</th>\n",
       "      <td>24.000000</td>\n",
       "      <td>152.000000</td>\n",
       "      <td>3.000000</td>\n",
       "      <td>13.000000</td>\n",
       "      <td>47.000000</td>\n",
       "    </tr>\n",
       "    <tr>\n",
       "      <th>50%</th>\n",
       "      <td>33.000000</td>\n",
       "      <td>163.000000</td>\n",
       "      <td>3.100000</td>\n",
       "      <td>37.000000</td>\n",
       "      <td>50.000000</td>\n",
       "    </tr>\n",
       "    <tr>\n",
       "      <th>75%</th>\n",
       "      <td>48.000000</td>\n",
       "      <td>174.000000</td>\n",
       "      <td>3.200000</td>\n",
       "      <td>65.000000</td>\n",
       "      <td>52.000000</td>\n",
       "    </tr>\n",
       "    <tr>\n",
       "      <th>max</th>\n",
       "      <td>294.000000</td>\n",
       "      <td>259.000000</td>\n",
       "      <td>13.400000</td>\n",
       "      <td>99.000000</td>\n",
       "      <td>100.000000</td>\n",
       "    </tr>\n",
       "  </tbody>\n",
       "</table>\n",
       "</div>"
      ],
      "text/plain": [
       "       TestDurationMinutes  TestRITScore  TestStandardError  TestPercentile  \\\n",
       "count         18758.000000  18758.000000       18758.000000    18758.000000   \n",
       "mean             39.771084    163.666276           3.131453       40.829993   \n",
       "std              25.222965     17.506758           0.241015       30.392844   \n",
       "min               6.000000    110.000000           2.900000        1.000000   \n",
       "25%              24.000000    152.000000           3.000000       13.000000   \n",
       "50%              33.000000    163.000000           3.100000       37.000000   \n",
       "75%              48.000000    174.000000           3.200000       65.000000   \n",
       "max             294.000000    259.000000          13.400000       99.000000   \n",
       "\n",
       "       PercentCorrect  \n",
       "count    18758.000000  \n",
       "mean        49.346892  \n",
       "std          6.417864  \n",
       "min          8.000000  \n",
       "25%         47.000000  \n",
       "50%         50.000000  \n",
       "75%         52.000000  \n",
       "max        100.000000  "
      ]
     },
     "execution_count": 157,
     "metadata": {},
     "output_type": "execute_result"
    }
   ],
   "source": [
    "#descriptive statistics for quantitative columns\n",
    "boy_math[quant_columns].describe()"
   ]
  },
  {
   "cell_type": "code",
   "execution_count": 163,
   "metadata": {
    "hidden": true
   },
   "outputs": [
    {
     "data": {
      "text/html": [
       "<div>\n",
       "<style scoped>\n",
       "    .dataframe tbody tr th:only-of-type {\n",
       "        vertical-align: middle;\n",
       "    }\n",
       "\n",
       "    .dataframe tbody tr th {\n",
       "        vertical-align: top;\n",
       "    }\n",
       "\n",
       "    .dataframe thead th {\n",
       "        text-align: right;\n",
       "    }\n",
       "</style>\n",
       "<table border=\"1\" class=\"dataframe\">\n",
       "  <thead>\n",
       "    <tr style=\"text-align: right;\">\n",
       "      <th></th>\n",
       "      <th>TestDurationMinutes</th>\n",
       "      <th>TestRITScore</th>\n",
       "      <th>TestStandardError</th>\n",
       "      <th>TestPercentile</th>\n",
       "      <th>PercentCorrect</th>\n",
       "    </tr>\n",
       "  </thead>\n",
       "  <tbody>\n",
       "    <tr>\n",
       "      <th>count</th>\n",
       "      <td>19651.000000</td>\n",
       "      <td>19651.000000</td>\n",
       "      <td>19651.000000</td>\n",
       "      <td>19651.000000</td>\n",
       "      <td>19651.000000</td>\n",
       "    </tr>\n",
       "    <tr>\n",
       "      <th>mean</th>\n",
       "      <td>44.444659</td>\n",
       "      <td>173.178210</td>\n",
       "      <td>3.114544</td>\n",
       "      <td>43.206605</td>\n",
       "      <td>51.706122</td>\n",
       "    </tr>\n",
       "    <tr>\n",
       "      <th>std</th>\n",
       "      <td>29.495099</td>\n",
       "      <td>17.710077</td>\n",
       "      <td>0.294589</td>\n",
       "      <td>30.935607</td>\n",
       "      <td>6.110359</td>\n",
       "    </tr>\n",
       "    <tr>\n",
       "      <th>min</th>\n",
       "      <td>6.000000</td>\n",
       "      <td>103.000000</td>\n",
       "      <td>2.900000</td>\n",
       "      <td>1.000000</td>\n",
       "      <td>9.000000</td>\n",
       "    </tr>\n",
       "    <tr>\n",
       "      <th>25%</th>\n",
       "      <td>25.000000</td>\n",
       "      <td>162.000000</td>\n",
       "      <td>2.900000</td>\n",
       "      <td>16.000000</td>\n",
       "      <td>49.000000</td>\n",
       "    </tr>\n",
       "    <tr>\n",
       "      <th>50%</th>\n",
       "      <td>36.000000</td>\n",
       "      <td>173.000000</td>\n",
       "      <td>3.100000</td>\n",
       "      <td>38.000000</td>\n",
       "      <td>51.000000</td>\n",
       "    </tr>\n",
       "    <tr>\n",
       "      <th>75%</th>\n",
       "      <td>54.000000</td>\n",
       "      <td>184.000000</td>\n",
       "      <td>3.200000</td>\n",
       "      <td>68.000000</td>\n",
       "      <td>53.000000</td>\n",
       "    </tr>\n",
       "    <tr>\n",
       "      <th>max</th>\n",
       "      <td>357.000000</td>\n",
       "      <td>259.000000</td>\n",
       "      <td>13.500000</td>\n",
       "      <td>99.000000</td>\n",
       "      <td>100.000000</td>\n",
       "    </tr>\n",
       "  </tbody>\n",
       "</table>\n",
       "</div>"
      ],
      "text/plain": [
       "       TestDurationMinutes  TestRITScore  TestStandardError  TestPercentile  \\\n",
       "count         19651.000000  19651.000000       19651.000000    19651.000000   \n",
       "mean             44.444659    173.178210           3.114544       43.206605   \n",
       "std              29.495099     17.710077           0.294589       30.935607   \n",
       "min               6.000000    103.000000           2.900000        1.000000   \n",
       "25%              25.000000    162.000000           2.900000       16.000000   \n",
       "50%              36.000000    173.000000           3.100000       38.000000   \n",
       "75%              54.000000    184.000000           3.200000       68.000000   \n",
       "max             357.000000    259.000000          13.500000       99.000000   \n",
       "\n",
       "       PercentCorrect  \n",
       "count    19651.000000  \n",
       "mean        51.706122  \n",
       "std          6.110359  \n",
       "min          9.000000  \n",
       "25%         49.000000  \n",
       "50%         51.000000  \n",
       "75%         53.000000  \n",
       "max        100.000000  "
      ]
     },
     "execution_count": 163,
     "metadata": {},
     "output_type": "execute_result"
    }
   ],
   "source": [
    "#descriptive statistics for quantitative columns\n",
    "moy_math[quant_columns].describe()"
   ]
  },
  {
   "cell_type": "code",
   "execution_count": 162,
   "metadata": {
    "hidden": true
   },
   "outputs": [
    {
     "name": "stdout",
     "output_type": "stream",
     "text": [
      "Median Values BOY\n",
      "TestDurationMinutes     33.0\n",
      "TestRITScore           163.0\n",
      "TestStandardError        3.1\n",
      "TestPercentile          37.0\n",
      "PercentCorrect          50.0\n",
      "dtype: float64\n",
      "--\n",
      "Median Values MOY\n",
      "TestDurationMinutes     36.0\n",
      "TestRITScore           173.0\n",
      "TestStandardError        3.1\n",
      "TestPercentile          38.0\n",
      "PercentCorrect          51.0\n",
      "dtype: float64\n"
     ]
    }
   ],
   "source": [
    "print(\"Median Values BOY\")\n",
    "print(boy_math[quant_columns].median())  \n",
    "print(\"--\") \n",
    "print(\"Median Values MOY\")\n",
    "print(moy_math[quant_columns].median())"
   ]
  },
  {
   "cell_type": "markdown",
   "metadata": {
    "hidden": true
   },
   "source": [
    "Data Call Outs:  \n",
    "\n",
    "**Test Duration**\n",
    "1. BOY Mean 39.8 / MOY 45.6 - Test time increased \n",
    "2. BOY STD 25.2 / MOY 29.5 - Large increase in the variation from BOY to MOY \n",
    "3. BOY Min 6 / MOY 6 - No change in the fastest test taker \n",
    "4. BOY Max 294 / MOY 357   \n",
    "5. BOY Median 33/ MOY 36 - Median increased by 3 minutes \n",
    "\n",
    "**Test RIT Score**  \n",
    "1. BOY Mean  163.7 / MOY 171.5 - RIT Score increase \n",
    "2. BOY STD 18.2 / MOY - 18.4 - Greater variation in the RIT score in the MOY testing session \n",
    "3. BOY Min 102 / MOY 103 - Very little change in bottom RIT score between BOY & MOY \n",
    "4. BOY Max 259 / MOY 259 - Very little change in the top RIT score between BOY & MOY \n",
    "5. BOY Median 163 / MOY 173\n",
    "\n",
    "**Test Standard Error** \n",
    "1. BOY Mean 0.24 / MOY Mean 0.29 similar test errors BOY / MOY  \n",
    "2. BOY STD 0.29 / MOY STD .3 - very similar spread of error rate BOY / MOY \n",
    "3. BOY Min 2.9 / MOY Min 2.9 - consistent minimum error \n",
    "4. BOY Max 13.4 / MOY Max 13.5 - consistent max error \n",
    "5. BOY Median 3.1 / MOY 3.1 \n",
    "\n",
    "**Test Percentile**  \n",
    "1. BOY Mean 40.8 / MOY Mean 43.2 - 3 point jump in test mean\n",
    "2. BOY STD 30.4 / MOY STD 30.4 - consistent deviation  \n",
    "3. BOY Min 1 / MOY 1 - consistent deviation  \n",
    "4. BOY Max 99 / MOY 99 - consistent deviation \n",
    "4. BOY Median 37 / MOY 38 \n",
    "\n",
    "**Percent Correct** \n",
    "1. BOY Mean 49.3 / MOY 51.7\n",
    "2. BOY STD 6.4 / MOY 6.1 - consistent deviation \n",
    "3. BOY Min 8 / MOY 9 - minimum up one percent \n",
    "4. BOY Max 100 / MOY 100 - students are reaching the max percentile in both the beginning and middle of the year \n",
    "5. BOY Median 50 / 51 - 2 point increase in the median BOY to MOY "
   ]
  },
  {
   "cell_type": "markdown",
   "metadata": {
    "heading_collapsed": true,
    "hidden": true
   },
   "source": [
    "## Histograms"
   ]
  },
  {
   "cell_type": "code",
   "execution_count": 170,
   "metadata": {
    "hidden": true,
    "scrolled": true
   },
   "outputs": [
    {
     "data": {
      "image/png": "[encoded data removed]",
      "text/plain": [
       "<Figure size 864x576 with 1 Axes>"
      ]
     },
     "metadata": {
      "needs_background": "light"
     },
     "output_type": "display_data"
    },
    {
     "data": {
      "image/png": "[encoded data removed]",
      "text/plain": [
       "<Figure size 864x576 with 1 Axes>"
      ]
     },
     "metadata": {
      "needs_background": "light"
     },
     "output_type": "display_data"
    },
    {
     "data": {
      "image/png": "[encoded data removed]",
      "text/plain": [
       "<Figure size 864x576 with 1 Axes>"
      ]
     },
     "metadata": {
      "needs_background": "light"
     },
     "output_type": "display_data"
    },
    {
     "data": {
      "image/png": "[encoded data removed]",
      "text/plain": [
       "<Figure size 864x576 with 1 Axes>"
      ]
     },
     "metadata": {
      "needs_background": "light"
     },
     "output_type": "display_data"
    }
   ],
   "source": [
    "#'TestDurationMinutes' histogram \n",
    "for col in hist_columns:\n",
    "    historgram(boy_math, moy_math, col) \n",
    "    plt.show()"
   ]
  },
  {
   "cell_type": "markdown",
   "metadata": {
    "hidden": true
   },
   "source": [
    "**Graph Analysis**\n",
    "\n",
    "**Test Duration** There is a slight shift in the distribution of test taking time from BOY to MOY but overall the majority of students took < 75 minutes to take the test in both testing periods. There is a long right tail on the test taking time that may indicate an outlying data point of a student that had extended time on the exam.\n",
    "\n",
    "**RIT** Both distributions BOY/MOY have normal distributions the largest number of RIT scores falling in the middle range of scores. In the MOY test there is a right shift in distribution signaling a higher average RIT score. There is a heavy right hand tail to the distribution indicating that overall RiT scores trend higher than the mean.\n",
    "\n",
    "**Test Percentile** The MOY distribution at the ends of the distribution (0, 100) both grew in value, indicating that while more students achieved perfect scores in the MOY test than they did in BOY tests more children also landed in the lowest possible test percentile than in the BOY. There is an overall shift right from BOY to MOY in score distribution (seen especially clearly at 30%/ 45%/ 55% and 70% spikes indicating that more students scored in those ranges in the MOY test than they did in the BOY test. Further analysis is needed to be able to say with certainty if this is all a positive shift.\n",
    "\n",
    "**Percent Correct** The distribution of percent correct of overall questions shows a shift to the right from BOY to MOY at it's peak meaning a greater number of students score in the 50% correct or above in the mid year test. There is a heavier tail on the left hand side in both tests signaling more students outside of the 40-60% range score lower than they do higher. The amount of students below 40% overall drops in the mid year test signaling learning gains."
   ]
  },
  {
   "cell_type": "markdown",
   "metadata": {
    "heading_collapsed": true
   },
   "source": [
    "# Language Arts Trend Analysis "
   ]
  },
  {
   "cell_type": "code",
   "execution_count": 175,
   "metadata": {
    "hidden": true
   },
   "outputs": [],
   "source": [
    "#boy reading\n",
    "boy_reading = boy.loc[boy['Subject'] == 'Language Arts']"
   ]
  },
  {
   "cell_type": "code",
   "execution_count": 176,
   "metadata": {
    "hidden": true,
    "scrolled": true
   },
   "outputs": [],
   "source": [
    "#moy reading\n",
    "moy_reading = moy.loc[moy['Subject'] == 'Language Arts']"
   ]
  },
  {
   "cell_type": "markdown",
   "metadata": {
    "hidden": true
   },
   "source": [
    "##  BOY VS MOY Reading Basic Descriptive Qualitative Analysis"
   ]
  },
  {
   "cell_type": "code",
   "execution_count": 178,
   "metadata": {
    "hidden": true
   },
   "outputs": [
    {
     "data": {
      "text/html": [
       "<div>\n",
       "<style scoped>\n",
       "    .dataframe tbody tr th:only-of-type {\n",
       "        vertical-align: middle;\n",
       "    }\n",
       "\n",
       "    .dataframe tbody tr th {\n",
       "        vertical-align: top;\n",
       "    }\n",
       "\n",
       "    .dataframe thead th {\n",
       "        text-align: right;\n",
       "    }\n",
       "</style>\n",
       "<table border=\"1\" class=\"dataframe\">\n",
       "  <thead>\n",
       "    <tr style=\"text-align: right;\">\n",
       "      <th></th>\n",
       "      <th>TestDurationMinutes</th>\n",
       "      <th>TestRITScore</th>\n",
       "      <th>TestStandardError</th>\n",
       "      <th>TestPercentile</th>\n",
       "      <th>PercentCorrect</th>\n",
       "    </tr>\n",
       "  </thead>\n",
       "  <tbody>\n",
       "    <tr>\n",
       "      <th>count</th>\n",
       "      <td>19890.000000</td>\n",
       "      <td>19890.000000</td>\n",
       "      <td>19890.000000</td>\n",
       "      <td>19890.000000</td>\n",
       "      <td>19890.000000</td>\n",
       "    </tr>\n",
       "    <tr>\n",
       "      <th>mean</th>\n",
       "      <td>43.104123</td>\n",
       "      <td>161.986275</td>\n",
       "      <td>3.422132</td>\n",
       "      <td>49.051936</td>\n",
       "      <td>45.538713</td>\n",
       "    </tr>\n",
       "    <tr>\n",
       "      <th>std</th>\n",
       "      <td>29.987925</td>\n",
       "      <td>18.823460</td>\n",
       "      <td>0.258143</td>\n",
       "      <td>31.609292</td>\n",
       "      <td>10.263051</td>\n",
       "    </tr>\n",
       "    <tr>\n",
       "      <th>min</th>\n",
       "      <td>6.000000</td>\n",
       "      <td>102.000000</td>\n",
       "      <td>3.100000</td>\n",
       "      <td>1.000000</td>\n",
       "      <td>9.000000</td>\n",
       "    </tr>\n",
       "    <tr>\n",
       "      <th>25%</th>\n",
       "      <td>23.000000</td>\n",
       "      <td>149.000000</td>\n",
       "      <td>3.300000</td>\n",
       "      <td>20.000000</td>\n",
       "      <td>40.000000</td>\n",
       "    </tr>\n",
       "    <tr>\n",
       "      <th>50%</th>\n",
       "      <td>35.000000</td>\n",
       "      <td>160.000000</td>\n",
       "      <td>3.400000</td>\n",
       "      <td>46.000000</td>\n",
       "      <td>48.000000</td>\n",
       "    </tr>\n",
       "    <tr>\n",
       "      <th>75%</th>\n",
       "      <td>54.000000</td>\n",
       "      <td>173.000000</td>\n",
       "      <td>3.500000</td>\n",
       "      <td>78.000000</td>\n",
       "      <td>53.000000</td>\n",
       "    </tr>\n",
       "    <tr>\n",
       "      <th>max</th>\n",
       "      <td>339.000000</td>\n",
       "      <td>240.000000</td>\n",
       "      <td>10.200000</td>\n",
       "      <td>99.000000</td>\n",
       "      <td>98.000000</td>\n",
       "    </tr>\n",
       "  </tbody>\n",
       "</table>\n",
       "</div>"
      ],
      "text/plain": [
       "       TestDurationMinutes  TestRITScore  TestStandardError  TestPercentile  \\\n",
       "count         19890.000000  19890.000000       19890.000000    19890.000000   \n",
       "mean             43.104123    161.986275           3.422132       49.051936   \n",
       "std              29.987925     18.823460           0.258143       31.609292   \n",
       "min               6.000000    102.000000           3.100000        1.000000   \n",
       "25%              23.000000    149.000000           3.300000       20.000000   \n",
       "50%              35.000000    160.000000           3.400000       46.000000   \n",
       "75%              54.000000    173.000000           3.500000       78.000000   \n",
       "max             339.000000    240.000000          10.200000       99.000000   \n",
       "\n",
       "       PercentCorrect  \n",
       "count    19890.000000  \n",
       "mean        45.538713  \n",
       "std         10.263051  \n",
       "min          9.000000  \n",
       "25%         40.000000  \n",
       "50%         48.000000  \n",
       "75%         53.000000  \n",
       "max         98.000000  "
      ]
     },
     "execution_count": 178,
     "metadata": {},
     "output_type": "execute_result"
    }
   ],
   "source": [
    "#descriptive statistics for quantitative columns\n",
    "boy_reading[quant_columns].describe()"
   ]
  },
  {
   "cell_type": "code",
   "execution_count": 179,
   "metadata": {
    "hidden": true
   },
   "outputs": [
    {
     "data": {
      "text/html": [
       "<div>\n",
       "<style scoped>\n",
       "    .dataframe tbody tr th:only-of-type {\n",
       "        vertical-align: middle;\n",
       "    }\n",
       "\n",
       "    .dataframe tbody tr th {\n",
       "        vertical-align: top;\n",
       "    }\n",
       "\n",
       "    .dataframe thead th {\n",
       "        text-align: right;\n",
       "    }\n",
       "</style>\n",
       "<table border=\"1\" class=\"dataframe\">\n",
       "  <thead>\n",
       "    <tr style=\"text-align: right;\">\n",
       "      <th></th>\n",
       "      <th>TestDurationMinutes</th>\n",
       "      <th>TestRITScore</th>\n",
       "      <th>TestStandardError</th>\n",
       "      <th>TestPercentile</th>\n",
       "      <th>PercentCorrect</th>\n",
       "    </tr>\n",
       "  </thead>\n",
       "  <tbody>\n",
       "    <tr>\n",
       "      <th>count</th>\n",
       "      <td>20699.000000</td>\n",
       "      <td>20699.000000</td>\n",
       "      <td>20699.000000</td>\n",
       "      <td>20699.000000</td>\n",
       "      <td>20699.000000</td>\n",
       "    </tr>\n",
       "    <tr>\n",
       "      <th>mean</th>\n",
       "      <td>46.612348</td>\n",
       "      <td>169.886081</td>\n",
       "      <td>3.385400</td>\n",
       "      <td>48.332818</td>\n",
       "      <td>48.594377</td>\n",
       "    </tr>\n",
       "    <tr>\n",
       "      <th>std</th>\n",
       "      <td>33.101461</td>\n",
       "      <td>18.907050</td>\n",
       "      <td>0.257046</td>\n",
       "      <td>32.330751</td>\n",
       "      <td>9.383469</td>\n",
       "    </tr>\n",
       "    <tr>\n",
       "      <th>min</th>\n",
       "      <td>6.000000</td>\n",
       "      <td>108.000000</td>\n",
       "      <td>3.100000</td>\n",
       "      <td>1.000000</td>\n",
       "      <td>12.000000</td>\n",
       "    </tr>\n",
       "    <tr>\n",
       "      <th>25%</th>\n",
       "      <td>26.000000</td>\n",
       "      <td>156.000000</td>\n",
       "      <td>3.200000</td>\n",
       "      <td>18.000000</td>\n",
       "      <td>45.000000</td>\n",
       "    </tr>\n",
       "    <tr>\n",
       "      <th>50%</th>\n",
       "      <td>37.000000</td>\n",
       "      <td>168.000000</td>\n",
       "      <td>3.300000</td>\n",
       "      <td>47.000000</td>\n",
       "      <td>50.000000</td>\n",
       "    </tr>\n",
       "    <tr>\n",
       "      <th>75%</th>\n",
       "      <td>57.000000</td>\n",
       "      <td>182.000000</td>\n",
       "      <td>3.500000</td>\n",
       "      <td>78.000000</td>\n",
       "      <td>53.000000</td>\n",
       "    </tr>\n",
       "    <tr>\n",
       "      <th>max</th>\n",
       "      <td>363.000000</td>\n",
       "      <td>252.000000</td>\n",
       "      <td>10.200000</td>\n",
       "      <td>99.000000</td>\n",
       "      <td>98.000000</td>\n",
       "    </tr>\n",
       "  </tbody>\n",
       "</table>\n",
       "</div>"
      ],
      "text/plain": [
       "       TestDurationMinutes  TestRITScore  TestStandardError  TestPercentile  \\\n",
       "count         20699.000000  20699.000000       20699.000000    20699.000000   \n",
       "mean             46.612348    169.886081           3.385400       48.332818   \n",
       "std              33.101461     18.907050           0.257046       32.330751   \n",
       "min               6.000000    108.000000           3.100000        1.000000   \n",
       "25%              26.000000    156.000000           3.200000       18.000000   \n",
       "50%              37.000000    168.000000           3.300000       47.000000   \n",
       "75%              57.000000    182.000000           3.500000       78.000000   \n",
       "max             363.000000    252.000000          10.200000       99.000000   \n",
       "\n",
       "       PercentCorrect  \n",
       "count    20699.000000  \n",
       "mean        48.594377  \n",
       "std          9.383469  \n",
       "min         12.000000  \n",
       "25%         45.000000  \n",
       "50%         50.000000  \n",
       "75%         53.000000  \n",
       "max         98.000000  "
      ]
     },
     "execution_count": 179,
     "metadata": {},
     "output_type": "execute_result"
    }
   ],
   "source": [
    "moy_reading[quant_columns].describe()"
   ]
  },
  {
   "cell_type": "code",
   "execution_count": 181,
   "metadata": {
    "hidden": true
   },
   "outputs": [
    {
     "name": "stdout",
     "output_type": "stream",
     "text": [
      "Median Values BOY\n",
      "TestDurationMinutes     35.0\n",
      "TestRITScore           160.0\n",
      "TestStandardError        3.4\n",
      "TestPercentile          46.0\n",
      "PercentCorrect          48.0\n",
      "dtype: float64\n",
      "--\n",
      "Median Values MOY\n",
      "TestDurationMinutes     37.0\n",
      "TestRITScore           168.0\n",
      "TestStandardError        3.3\n",
      "TestPercentile          47.0\n",
      "PercentCorrect          50.0\n",
      "dtype: float64\n"
     ]
    }
   ],
   "source": [
    "print(\"Median Values BOY\")\n",
    "print(boy_reading[quant_columns].median())  \n",
    "print(\"--\") \n",
    "print(\"Median Values MOY\")\n",
    "print(moy_reading[quant_columns].median())"
   ]
  },
  {
   "cell_type": "markdown",
   "metadata": {
    "hidden": true
   },
   "source": [
    "Data Call Outs:\n",
    "\n",
    "**Test RIT Score**\n",
    "BOY Mean 162 / MOY 168.9 - RIT Score increase \n",
    "BOY Min 102 / MOY 108 \n",
    "BOY Max 240 / MOY 252  \n",
    "BOY Median 160 / MOY 168\n",
    "\n",
    "**Test Percentile**\n",
    "BOY Mean 49 / MOY Mean 48.3 \n",
    "BOY Min 1 / MOY 1 - consistent deviation\n",
    "BOY Max 99 / MOY 99 - consistent deviation\n",
    "BOY Median 46 / MOY 47\n",
    "\n",
    "**Percent Correct**\n",
    "BOY Mean 45.5 / MOY 48.6\n",
    "BOY Min 9 / MOY 9.3 - minimum up one percent\n",
    "BOY Max 100 / MOY 100 - students are reaching the max percentile in both the beginning and middle of the year\n",
    "BOY Median 48 / 50 - 2 point increase in the median BOY to MOY"
   ]
  },
  {
   "cell_type": "markdown",
   "metadata": {
    "heading_collapsed": true,
    "hidden": true
   },
   "source": [
    "## Histograms"
   ]
  },
  {
   "cell_type": "code",
   "execution_count": 177,
   "metadata": {
    "hidden": true,
    "scrolled": false
   },
   "outputs": [
    {
     "data": {
      "image/png": "[encoded data removed]",
      "text/plain": [
       "<Figure size 864x576 with 1 Axes>"
      ]
     },
     "metadata": {
      "needs_background": "light"
     },
     "output_type": "display_data"
    },
    {
     "data": {
      "image/png": "[encoded data removed]",
      "text/plain": [
       "<Figure size 864x576 with 1 Axes>"
      ]
     },
     "metadata": {
      "needs_background": "light"
     },
     "output_type": "display_data"
    },
    {
     "data": {
      "image/png": "[encoded data removed]",
      "text/plain": [
       "<Figure size 864x576 with 1 Axes>"
      ]
     },
     "metadata": {
      "needs_background": "light"
     },
     "output_type": "display_data"
    },
    {
     "data": {
      "image/png": "[encoded data removed]",
      "text/plain": [
       "<Figure size 864x576 with 1 Axes>"
      ]
     },
     "metadata": {
      "needs_background": "light"
     },
     "output_type": "display_data"
    }
   ],
   "source": [
    "#'TestDurationMinutes' histogram \n",
    "for col in hist_columns:\n",
    "    historgram(boy_reading, moy_reading, col) \n",
    "    plt.show()"
   ]
  },
  {
   "cell_type": "markdown",
   "metadata": {
    "hidden": true
   },
   "source": [
    "**Graph Analysis** \n",
    "\n",
    "**Test Duration** There is a slight increase in the average time spent on the language arts test BOY to MOY, this may indicate implementation of reading stradegies on the test. \n",
    "\n",
    "**RIT Score** Dramatic shift in the mean and the right hand tail indicating a significant increase in RIT for student between the BOY and MOY tests.  \n",
    "\n",
    "**Test Percentile** The MOY distribution at the ends of the distribution (0, 100) both grew in value, indicating that while more students achieved perfect scores in the MOY test than they did in BOY tests more children also landed in the lowest possible test percentile than in the BOY. There is an overall shift right from BOY to MOY in score distribution (seen especially clearly at 30%/ 45%/ 55% and 70% spikes indicating that more students scored in those ranges in the MOY test than they did in the BOY test. Further analysis is needed to be able to say with certainty if this is all a positive shift. \n",
    "\n",
    "**Percent Correct**  The median percent correct score sees a huge increase in the MOY test with a frequency of over 6000. However there is a dramatic left hand tail on the percent correct that means that on average more students are scoring bellow the median score than above despite the shift. "
   ]
  },
  {
   "cell_type": "markdown",
   "metadata": {
    "heading_collapsed": true
   },
   "source": [
    "# By Grade Trend Analysis "
   ]
  },
  {
   "cell_type": "markdown",
   "metadata": {
    "hidden": true
   },
   "source": [
    "## First Grade"
   ]
  },
  {
   "cell_type": "code",
   "execution_count": 216,
   "metadata": {
    "hidden": true
   },
   "outputs": [],
   "source": [
    "boy_first = boy.loc[boy['Grade'] == 1] \n",
    "moy_first = moy.loc[moy['Grade'] == 1]"
   ]
  },
  {
   "cell_type": "code",
   "execution_count": 218,
   "metadata": {
    "hidden": true
   },
   "outputs": [
    {
     "data": {
      "text/html": [
       "<div>\n",
       "<style scoped>\n",
       "    .dataframe tbody tr th:only-of-type {\n",
       "        vertical-align: middle;\n",
       "    }\n",
       "\n",
       "    .dataframe tbody tr th {\n",
       "        vertical-align: top;\n",
       "    }\n",
       "\n",
       "    .dataframe thead th {\n",
       "        text-align: right;\n",
       "    }\n",
       "</style>\n",
       "<table border=\"1\" class=\"dataframe\">\n",
       "  <thead>\n",
       "    <tr style=\"text-align: right;\">\n",
       "      <th></th>\n",
       "      <th>TestDurationMinutes</th>\n",
       "      <th>TestRITScore</th>\n",
       "      <th>TestStandardError</th>\n",
       "      <th>TestPercentile</th>\n",
       "      <th>PercentCorrect</th>\n",
       "    </tr>\n",
       "  </thead>\n",
       "  <tbody>\n",
       "    <tr>\n",
       "      <th>count</th>\n",
       "      <td>19259.000000</td>\n",
       "      <td>19259.000000</td>\n",
       "      <td>19259.000000</td>\n",
       "      <td>19259.000000</td>\n",
       "      <td>19259.000000</td>\n",
       "    </tr>\n",
       "    <tr>\n",
       "      <th>mean</th>\n",
       "      <td>37.661094</td>\n",
       "      <td>155.055247</td>\n",
       "      <td>3.284371</td>\n",
       "      <td>45.680253</td>\n",
       "      <td>49.738460</td>\n",
       "    </tr>\n",
       "    <tr>\n",
       "      <th>std</th>\n",
       "      <td>22.328251</td>\n",
       "      <td>17.015106</td>\n",
       "      <td>0.235844</td>\n",
       "      <td>31.922372</td>\n",
       "      <td>7.123795</td>\n",
       "    </tr>\n",
       "    <tr>\n",
       "      <th>min</th>\n",
       "      <td>6.000000</td>\n",
       "      <td>102.000000</td>\n",
       "      <td>2.900000</td>\n",
       "      <td>1.000000</td>\n",
       "      <td>8.000000</td>\n",
       "    </tr>\n",
       "    <tr>\n",
       "      <th>25%</th>\n",
       "      <td>23.000000</td>\n",
       "      <td>144.000000</td>\n",
       "      <td>3.200000</td>\n",
       "      <td>17.000000</td>\n",
       "      <td>47.000000</td>\n",
       "    </tr>\n",
       "    <tr>\n",
       "      <th>50%</th>\n",
       "      <td>32.000000</td>\n",
       "      <td>154.000000</td>\n",
       "      <td>3.200000</td>\n",
       "      <td>43.000000</td>\n",
       "      <td>50.000000</td>\n",
       "    </tr>\n",
       "    <tr>\n",
       "      <th>75%</th>\n",
       "      <td>45.000000</td>\n",
       "      <td>164.000000</td>\n",
       "      <td>3.300000</td>\n",
       "      <td>74.000000</td>\n",
       "      <td>53.000000</td>\n",
       "    </tr>\n",
       "    <tr>\n",
       "      <th>max</th>\n",
       "      <td>242.000000</td>\n",
       "      <td>259.000000</td>\n",
       "      <td>13.400000</td>\n",
       "      <td>99.000000</td>\n",
       "      <td>100.000000</td>\n",
       "    </tr>\n",
       "  </tbody>\n",
       "</table>\n",
       "</div>"
      ],
      "text/plain": [
       "       TestDurationMinutes  TestRITScore  TestStandardError  TestPercentile  \\\n",
       "count         19259.000000  19259.000000       19259.000000    19259.000000   \n",
       "mean             37.661094    155.055247           3.284371       45.680253   \n",
       "std              22.328251     17.015106           0.235844       31.922372   \n",
       "min               6.000000    102.000000           2.900000        1.000000   \n",
       "25%              23.000000    144.000000           3.200000       17.000000   \n",
       "50%              32.000000    154.000000           3.200000       43.000000   \n",
       "75%              45.000000    164.000000           3.300000       74.000000   \n",
       "max             242.000000    259.000000          13.400000       99.000000   \n",
       "\n",
       "       PercentCorrect  \n",
       "count    19259.000000  \n",
       "mean        49.738460  \n",
       "std          7.123795  \n",
       "min          8.000000  \n",
       "25%         47.000000  \n",
       "50%         50.000000  \n",
       "75%         53.000000  \n",
       "max        100.000000  "
      ]
     },
     "execution_count": 218,
     "metadata": {},
     "output_type": "execute_result"
    }
   ],
   "source": [
    "#descriptive statistics for quantitative columns\n",
    "boy_first[quant_columns].describe()"
   ]
  },
  {
   "cell_type": "code",
   "execution_count": 220,
   "metadata": {
    "hidden": true
   },
   "outputs": [
    {
     "data": {
      "text/html": [
       "<div>\n",
       "<style scoped>\n",
       "    .dataframe tbody tr th:only-of-type {\n",
       "        vertical-align: middle;\n",
       "    }\n",
       "\n",
       "    .dataframe tbody tr th {\n",
       "        vertical-align: top;\n",
       "    }\n",
       "\n",
       "    .dataframe thead th {\n",
       "        text-align: right;\n",
       "    }\n",
       "</style>\n",
       "<table border=\"1\" class=\"dataframe\">\n",
       "  <thead>\n",
       "    <tr style=\"text-align: right;\">\n",
       "      <th></th>\n",
       "      <th>TestDurationMinutes</th>\n",
       "      <th>TestRITScore</th>\n",
       "      <th>TestStandardError</th>\n",
       "      <th>TestPercentile</th>\n",
       "      <th>PercentCorrect</th>\n",
       "    </tr>\n",
       "  </thead>\n",
       "  <tbody>\n",
       "    <tr>\n",
       "      <th>count</th>\n",
       "      <td>20123.000000</td>\n",
       "      <td>20123.000000</td>\n",
       "      <td>20123.000000</td>\n",
       "      <td>20123.000000</td>\n",
       "      <td>20123.000000</td>\n",
       "    </tr>\n",
       "    <tr>\n",
       "      <th>mean</th>\n",
       "      <td>39.335835</td>\n",
       "      <td>164.667147</td>\n",
       "      <td>3.300348</td>\n",
       "      <td>47.043532</td>\n",
       "      <td>52.362123</td>\n",
       "    </tr>\n",
       "    <tr>\n",
       "      <th>std</th>\n",
       "      <td>23.653693</td>\n",
       "      <td>17.753383</td>\n",
       "      <td>0.296296</td>\n",
       "      <td>32.156951</td>\n",
       "      <td>7.277864</td>\n",
       "    </tr>\n",
       "    <tr>\n",
       "      <th>min</th>\n",
       "      <td>6.000000</td>\n",
       "      <td>103.000000</td>\n",
       "      <td>3.100000</td>\n",
       "      <td>1.000000</td>\n",
       "      <td>9.000000</td>\n",
       "    </tr>\n",
       "    <tr>\n",
       "      <th>25%</th>\n",
       "      <td>24.000000</td>\n",
       "      <td>153.000000</td>\n",
       "      <td>3.200000</td>\n",
       "      <td>17.000000</td>\n",
       "      <td>49.000000</td>\n",
       "    </tr>\n",
       "    <tr>\n",
       "      <th>50%</th>\n",
       "      <td>33.000000</td>\n",
       "      <td>163.000000</td>\n",
       "      <td>3.200000</td>\n",
       "      <td>44.000000</td>\n",
       "      <td>51.000000</td>\n",
       "    </tr>\n",
       "    <tr>\n",
       "      <th>75%</th>\n",
       "      <td>46.000000</td>\n",
       "      <td>174.000000</td>\n",
       "      <td>3.300000</td>\n",
       "      <td>76.000000</td>\n",
       "      <td>55.000000</td>\n",
       "    </tr>\n",
       "    <tr>\n",
       "      <th>max</th>\n",
       "      <td>282.000000</td>\n",
       "      <td>259.000000</td>\n",
       "      <td>13.500000</td>\n",
       "      <td>99.000000</td>\n",
       "      <td>100.000000</td>\n",
       "    </tr>\n",
       "  </tbody>\n",
       "</table>\n",
       "</div>"
      ],
      "text/plain": [
       "       TestDurationMinutes  TestRITScore  TestStandardError  TestPercentile  \\\n",
       "count         20123.000000  20123.000000       20123.000000    20123.000000   \n",
       "mean             39.335835    164.667147           3.300348       47.043532   \n",
       "std              23.653693     17.753383           0.296296       32.156951   \n",
       "min               6.000000    103.000000           3.100000        1.000000   \n",
       "25%              24.000000    153.000000           3.200000       17.000000   \n",
       "50%              33.000000    163.000000           3.200000       44.000000   \n",
       "75%              46.000000    174.000000           3.300000       76.000000   \n",
       "max             282.000000    259.000000          13.500000       99.000000   \n",
       "\n",
       "       PercentCorrect  \n",
       "count    20123.000000  \n",
       "mean        52.362123  \n",
       "std          7.277864  \n",
       "min          9.000000  \n",
       "25%         49.000000  \n",
       "50%         51.000000  \n",
       "75%         55.000000  \n",
       "max        100.000000  "
      ]
     },
     "execution_count": 220,
     "metadata": {},
     "output_type": "execute_result"
    }
   ],
   "source": [
    "moy_first[quant_columns].describe()"
   ]
  },
  {
   "cell_type": "code",
   "execution_count": 200,
   "metadata": {
    "hidden": true
   },
   "outputs": [
    {
     "name": "stdout",
     "output_type": "stream",
     "text": [
      "Median Values BOY\n",
      "TestDurationMinutes     37.0\n",
      "TestRITScore           170.0\n",
      "TestStandardError        3.3\n",
      "TestPercentile          41.0\n",
      "PercentCorrect          48.0\n",
      "dtype: float64\n",
      "--\n",
      "Median Values MOY\n",
      "TestDurationMinutes     42.0\n",
      "TestRITScore           177.0\n",
      "TestStandardError        3.2\n",
      "TestPercentile          41.0\n",
      "PercentCorrect          50.0\n",
      "dtype: float64\n"
     ]
    }
   ],
   "source": [
    "print(\"Median Values BOY\")\n",
    "print(boy_first[quant_columns].median())  \n",
    "print(\"--\") \n",
    "print(\"Median Values MOY\")\n",
    "print(moy_first[quant_columns].median())"
   ]
  },
  {
   "cell_type": "markdown",
   "metadata": {
    "hidden": true
   },
   "source": [
    "*For time management purposes moving forward I will transfer call outs directly to the slides rather than noting each column here*"
   ]
  },
  {
   "cell_type": "markdown",
   "metadata": {
    "hidden": true
   },
   "source": [
    "## Second Grade"
   ]
  },
  {
   "cell_type": "code",
   "execution_count": 221,
   "metadata": {
    "hidden": true
   },
   "outputs": [],
   "source": [
    "boy_second = boy.loc[boy['Grade'] == 2] \n",
    "moy_second = moy.loc[moy['Grade'] == 2]"
   ]
  },
  {
   "cell_type": "code",
   "execution_count": 222,
   "metadata": {
    "hidden": true
   },
   "outputs": [
    {
     "data": {
      "text/html": [
       "<div>\n",
       "<style scoped>\n",
       "    .dataframe tbody tr th:only-of-type {\n",
       "        vertical-align: middle;\n",
       "    }\n",
       "\n",
       "    .dataframe tbody tr th {\n",
       "        vertical-align: top;\n",
       "    }\n",
       "\n",
       "    .dataframe thead th {\n",
       "        text-align: right;\n",
       "    }\n",
       "</style>\n",
       "<table border=\"1\" class=\"dataframe\">\n",
       "  <thead>\n",
       "    <tr style=\"text-align: right;\">\n",
       "      <th></th>\n",
       "      <th>TestDurationMinutes</th>\n",
       "      <th>TestRITScore</th>\n",
       "      <th>TestStandardError</th>\n",
       "      <th>TestPercentile</th>\n",
       "      <th>PercentCorrect</th>\n",
       "    </tr>\n",
       "  </thead>\n",
       "  <tbody>\n",
       "    <tr>\n",
       "      <th>count</th>\n",
       "      <td>19389.000000</td>\n",
       "      <td>19389.000000</td>\n",
       "      <td>19389.000000</td>\n",
       "      <td>19389.000000</td>\n",
       "      <td>19389.000000</td>\n",
       "    </tr>\n",
       "    <tr>\n",
       "      <th>mean</th>\n",
       "      <td>45.286090</td>\n",
       "      <td>170.496158</td>\n",
       "      <td>3.277750</td>\n",
       "      <td>44.446645</td>\n",
       "      <td>45.051369</td>\n",
       "    </tr>\n",
       "    <tr>\n",
       "      <th>std</th>\n",
       "      <td>31.927347</td>\n",
       "      <td>15.968941</td>\n",
       "      <td>0.333703</td>\n",
       "      <td>30.648390</td>\n",
       "      <td>9.683246</td>\n",
       "    </tr>\n",
       "    <tr>\n",
       "      <th>min</th>\n",
       "      <td>6.000000</td>\n",
       "      <td>119.000000</td>\n",
       "      <td>2.900000</td>\n",
       "      <td>1.000000</td>\n",
       "      <td>8.000000</td>\n",
       "    </tr>\n",
       "    <tr>\n",
       "      <th>25%</th>\n",
       "      <td>24.000000</td>\n",
       "      <td>159.000000</td>\n",
       "      <td>3.000000</td>\n",
       "      <td>17.000000</td>\n",
       "      <td>40.000000</td>\n",
       "    </tr>\n",
       "    <tr>\n",
       "      <th>50%</th>\n",
       "      <td>37.000000</td>\n",
       "      <td>170.000000</td>\n",
       "      <td>3.300000</td>\n",
       "      <td>41.000000</td>\n",
       "      <td>48.000000</td>\n",
       "    </tr>\n",
       "    <tr>\n",
       "      <th>75%</th>\n",
       "      <td>57.000000</td>\n",
       "      <td>179.000000</td>\n",
       "      <td>3.500000</td>\n",
       "      <td>70.000000</td>\n",
       "      <td>52.000000</td>\n",
       "    </tr>\n",
       "    <tr>\n",
       "      <th>max</th>\n",
       "      <td>339.000000</td>\n",
       "      <td>252.000000</td>\n",
       "      <td>5.400000</td>\n",
       "      <td>99.000000</td>\n",
       "      <td>80.000000</td>\n",
       "    </tr>\n",
       "  </tbody>\n",
       "</table>\n",
       "</div>"
      ],
      "text/plain": [
       "       TestDurationMinutes  TestRITScore  TestStandardError  TestPercentile  \\\n",
       "count         19389.000000  19389.000000       19389.000000    19389.000000   \n",
       "mean             45.286090    170.496158           3.277750       44.446645   \n",
       "std              31.927347     15.968941           0.333703       30.648390   \n",
       "min               6.000000    119.000000           2.900000        1.000000   \n",
       "25%              24.000000    159.000000           3.000000       17.000000   \n",
       "50%              37.000000    170.000000           3.300000       41.000000   \n",
       "75%              57.000000    179.000000           3.500000       70.000000   \n",
       "max             339.000000    252.000000           5.400000       99.000000   \n",
       "\n",
       "       PercentCorrect  \n",
       "count    19389.000000  \n",
       "mean        45.051369  \n",
       "std          9.683246  \n",
       "min          8.000000  \n",
       "25%         40.000000  \n",
       "50%         48.000000  \n",
       "75%         52.000000  \n",
       "max         80.000000  "
      ]
     },
     "execution_count": 222,
     "metadata": {},
     "output_type": "execute_result"
    }
   ],
   "source": [
    "#descriptive statistics for quantitative columns\n",
    "boy_second[quant_columns].describe()"
   ]
  },
  {
   "cell_type": "code",
   "execution_count": 223,
   "metadata": {
    "hidden": true
   },
   "outputs": [
    {
     "data": {
      "text/html": [
       "<div>\n",
       "<style scoped>\n",
       "    .dataframe tbody tr th:only-of-type {\n",
       "        vertical-align: middle;\n",
       "    }\n",
       "\n",
       "    .dataframe tbody tr th {\n",
       "        vertical-align: top;\n",
       "    }\n",
       "\n",
       "    .dataframe thead th {\n",
       "        text-align: right;\n",
       "    }\n",
       "</style>\n",
       "<table border=\"1\" class=\"dataframe\">\n",
       "  <thead>\n",
       "    <tr style=\"text-align: right;\">\n",
       "      <th></th>\n",
       "      <th>TestDurationMinutes</th>\n",
       "      <th>TestRITScore</th>\n",
       "      <th>TestStandardError</th>\n",
       "      <th>TestPercentile</th>\n",
       "      <th>PercentCorrect</th>\n",
       "    </tr>\n",
       "  </thead>\n",
       "  <tbody>\n",
       "    <tr>\n",
       "      <th>count</th>\n",
       "      <td>20232.000000</td>\n",
       "      <td>20232.000000</td>\n",
       "      <td>20232.000000</td>\n",
       "      <td>20232.000000</td>\n",
       "      <td>20232.000000</td>\n",
       "    </tr>\n",
       "    <tr>\n",
       "      <th>mean</th>\n",
       "      <td>51.737495</td>\n",
       "      <td>178.274516</td>\n",
       "      <td>3.206935</td>\n",
       "      <td>44.628954</td>\n",
       "      <td>47.869563</td>\n",
       "    </tr>\n",
       "    <tr>\n",
       "      <th>std</th>\n",
       "      <td>36.542141</td>\n",
       "      <td>16.430791</td>\n",
       "      <td>0.311104</td>\n",
       "      <td>31.318758</td>\n",
       "      <td>8.273293</td>\n",
       "    </tr>\n",
       "    <tr>\n",
       "      <th>min</th>\n",
       "      <td>6.000000</td>\n",
       "      <td>129.000000</td>\n",
       "      <td>2.900000</td>\n",
       "      <td>1.000000</td>\n",
       "      <td>11.000000</td>\n",
       "    </tr>\n",
       "    <tr>\n",
       "      <th>25%</th>\n",
       "      <td>27.000000</td>\n",
       "      <td>167.000000</td>\n",
       "      <td>2.900000</td>\n",
       "      <td>16.000000</td>\n",
       "      <td>45.000000</td>\n",
       "    </tr>\n",
       "    <tr>\n",
       "      <th>50%</th>\n",
       "      <td>42.000000</td>\n",
       "      <td>177.000000</td>\n",
       "      <td>3.200000</td>\n",
       "      <td>41.000000</td>\n",
       "      <td>50.000000</td>\n",
       "    </tr>\n",
       "    <tr>\n",
       "      <th>75%</th>\n",
       "      <td>65.000000</td>\n",
       "      <td>188.000000</td>\n",
       "      <td>3.400000</td>\n",
       "      <td>72.000000</td>\n",
       "      <td>53.000000</td>\n",
       "    </tr>\n",
       "    <tr>\n",
       "      <th>max</th>\n",
       "      <td>363.000000</td>\n",
       "      <td>258.000000</td>\n",
       "      <td>5.200000</td>\n",
       "      <td>99.000000</td>\n",
       "      <td>88.000000</td>\n",
       "    </tr>\n",
       "  </tbody>\n",
       "</table>\n",
       "</div>"
      ],
      "text/plain": [
       "       TestDurationMinutes  TestRITScore  TestStandardError  TestPercentile  \\\n",
       "count         20232.000000  20232.000000       20232.000000    20232.000000   \n",
       "mean             51.737495    178.274516           3.206935       44.628954   \n",
       "std              36.542141     16.430791           0.311104       31.318758   \n",
       "min               6.000000    129.000000           2.900000        1.000000   \n",
       "25%              27.000000    167.000000           2.900000       16.000000   \n",
       "50%              42.000000    177.000000           3.200000       41.000000   \n",
       "75%              65.000000    188.000000           3.400000       72.000000   \n",
       "max             363.000000    258.000000           5.200000       99.000000   \n",
       "\n",
       "       PercentCorrect  \n",
       "count    20232.000000  \n",
       "mean        47.869563  \n",
       "std          8.273293  \n",
       "min         11.000000  \n",
       "25%         45.000000  \n",
       "50%         50.000000  \n",
       "75%         53.000000  \n",
       "max         88.000000  "
      ]
     },
     "execution_count": 223,
     "metadata": {},
     "output_type": "execute_result"
    }
   ],
   "source": [
    "#descriptive statistics for quantitative columns\n",
    "moy_second[quant_columns].describe()"
   ]
  },
  {
   "cell_type": "code",
   "execution_count": 224,
   "metadata": {
    "hidden": true
   },
   "outputs": [
    {
     "name": "stdout",
     "output_type": "stream",
     "text": [
      "Median Values BOY\n",
      "TestDurationMinutes     37.0\n",
      "TestRITScore           170.0\n",
      "TestStandardError        3.3\n",
      "TestPercentile          41.0\n",
      "PercentCorrect          48.0\n",
      "dtype: float64\n",
      "--\n",
      "Median Values MOY\n",
      "TestDurationMinutes     42.0\n",
      "TestRITScore           177.0\n",
      "TestStandardError        3.2\n",
      "TestPercentile          41.0\n",
      "PercentCorrect          50.0\n",
      "dtype: float64\n"
     ]
    }
   ],
   "source": [
    "print(\"Median Values BOY\")\n",
    "print(boy_second[quant_columns].median())  \n",
    "print(\"--\") \n",
    "print(\"Median Values MOY\")\n",
    "print(moy_second[quant_columns].median())"
   ]
  },
  {
   "cell_type": "markdown",
   "metadata": {
    "hidden": true
   },
   "source": [
    "## Histograms 1st "
   ]
  },
  {
   "cell_type": "code",
   "execution_count": 225,
   "metadata": {
    "hidden": true,
    "scrolled": true
   },
   "outputs": [
    {
     "data": {
      "image/png": "[encoded data removed]",
      "text/plain": [
       "<Figure size 864x576 with 1 Axes>"
      ]
     },
     "metadata": {
      "needs_background": "light"
     },
     "output_type": "display_data"
    },
    {
     "data": {
      "image/png": "[encoded data removed]",
      "text/plain": [
       "<Figure size 864x576 with 1 Axes>"
      ]
     },
     "metadata": {
      "needs_background": "light"
     },
     "output_type": "display_data"
    },
    {
     "data": {
      "image/png": "[encoded data removed]",
      "text/plain": [
       "<Figure size 864x576 with 1 Axes>"
      ]
     },
     "metadata": {
      "needs_background": "light"
     },
     "output_type": "display_data"
    },
    {
     "data": {
      "image/png": "[encoded data removed]",
      "text/plain": [
       "<Figure size 864x576 with 1 Axes>"
      ]
     },
     "metadata": {
      "needs_background": "light"
     },
     "output_type": "display_data"
    }
   ],
   "source": [
    "#histogram \n",
    "for col in hist_columns:\n",
    "    historgram(boy_first, moy_first, col) \n",
    "    plt.show()"
   ]
  },
  {
   "cell_type": "markdown",
   "metadata": {
    "heading_collapsed": true,
    "hidden": true
   },
   "source": [
    "## Histograms 2nd"
   ]
  },
  {
   "cell_type": "code",
   "execution_count": 226,
   "metadata": {
    "hidden": true,
    "scrolled": false
   },
   "outputs": [
    {
     "data": {
      "image/png": "[encoded data removed]",
      "text/plain": [
       "<Figure size 864x576 with 1 Axes>"
      ]
     },
     "metadata": {
      "needs_background": "light"
     },
     "output_type": "display_data"
    },
    {
     "data": {
      "image/png": "[encoded data removed]",
      "text/plain": [
       "<Figure size 864x576 with 1 Axes>"
      ]
     },
     "metadata": {
      "needs_background": "light"
     },
     "output_type": "display_data"
    },
    {
     "data": {
      "image/png": "[encoded data removed]",
      "text/plain": [
       "<Figure size 864x576 with 1 Axes>"
      ]
     },
     "metadata": {
      "needs_background": "light"
     },
     "output_type": "display_data"
    },
    {
     "data": {
      "image/png": "[encoded data removed]",
      "text/plain": [
       "<Figure size 864x576 with 1 Axes>"
      ]
     },
     "metadata": {
      "needs_background": "light"
     },
     "output_type": "display_data"
    }
   ],
   "source": [
    "#'TestDurationMinutes' histogram \n",
    "for col in hist_columns:\n",
    "    historgram(boy_second, moy_second, col) \n",
    "    plt.show()"
   ]
  },
  {
   "cell_type": "markdown",
   "metadata": {
    "heading_collapsed": true
   },
   "source": [
    "# By Grade Math Analysis"
   ]
  },
  {
   "cell_type": "markdown",
   "metadata": {
    "hidden": true
   },
   "source": [
    "## First Grade"
   ]
  },
  {
   "cell_type": "code",
   "execution_count": 228,
   "metadata": {
    "hidden": true
   },
   "outputs": [],
   "source": [
    "## First Math  \n",
    "boy_first_math = boy.loc[(boy['Grade'] == 1) & (boy['Subject'] == 'Mathematics')]\n",
    "moy_first_math = moy.loc[(moy['Grade'] == 1) & (boy['Subject'] == 'Mathematics')]"
   ]
  },
  {
   "cell_type": "code",
   "execution_count": 229,
   "metadata": {
    "hidden": true
   },
   "outputs": [
    {
     "data": {
      "text/html": [
       "<div>\n",
       "<style scoped>\n",
       "    .dataframe tbody tr th:only-of-type {\n",
       "        vertical-align: middle;\n",
       "    }\n",
       "\n",
       "    .dataframe tbody tr th {\n",
       "        vertical-align: top;\n",
       "    }\n",
       "\n",
       "    .dataframe thead th {\n",
       "        text-align: right;\n",
       "    }\n",
       "</style>\n",
       "<table border=\"1\" class=\"dataframe\">\n",
       "  <thead>\n",
       "    <tr style=\"text-align: right;\">\n",
       "      <th></th>\n",
       "      <th>TestDurationMinutes</th>\n",
       "      <th>TestRITScore</th>\n",
       "      <th>TestStandardError</th>\n",
       "      <th>TestPercentile</th>\n",
       "      <th>PercentCorrect</th>\n",
       "    </tr>\n",
       "  </thead>\n",
       "  <tbody>\n",
       "    <tr>\n",
       "      <th>count</th>\n",
       "      <td>9395.000000</td>\n",
       "      <td>9395.000000</td>\n",
       "      <td>9395.000000</td>\n",
       "      <td>9395.000000</td>\n",
       "      <td>9395.000000</td>\n",
       "    </tr>\n",
       "    <tr>\n",
       "      <th>mean</th>\n",
       "      <td>33.820436</td>\n",
       "      <td>157.243108</td>\n",
       "      <td>3.248590</td>\n",
       "      <td>42.174242</td>\n",
       "      <td>50.185844</td>\n",
       "    </tr>\n",
       "    <tr>\n",
       "      <th>std</th>\n",
       "      <td>20.674475</td>\n",
       "      <td>17.193976</td>\n",
       "      <td>0.244886</td>\n",
       "      <td>31.489690</td>\n",
       "      <td>6.186337</td>\n",
       "    </tr>\n",
       "    <tr>\n",
       "      <th>min</th>\n",
       "      <td>6.000000</td>\n",
       "      <td>110.000000</td>\n",
       "      <td>2.900000</td>\n",
       "      <td>1.000000</td>\n",
       "      <td>8.000000</td>\n",
       "    </tr>\n",
       "    <tr>\n",
       "      <th>25%</th>\n",
       "      <td>21.000000</td>\n",
       "      <td>146.000000</td>\n",
       "      <td>3.200000</td>\n",
       "      <td>13.000000</td>\n",
       "      <td>47.000000</td>\n",
       "    </tr>\n",
       "    <tr>\n",
       "      <th>50%</th>\n",
       "      <td>28.000000</td>\n",
       "      <td>156.000000</td>\n",
       "      <td>3.200000</td>\n",
       "      <td>37.000000</td>\n",
       "      <td>51.000000</td>\n",
       "    </tr>\n",
       "    <tr>\n",
       "      <th>75%</th>\n",
       "      <td>39.000000</td>\n",
       "      <td>166.000000</td>\n",
       "      <td>3.300000</td>\n",
       "      <td>68.000000</td>\n",
       "      <td>53.000000</td>\n",
       "    </tr>\n",
       "    <tr>\n",
       "      <th>max</th>\n",
       "      <td>242.000000</td>\n",
       "      <td>259.000000</td>\n",
       "      <td>13.400000</td>\n",
       "      <td>99.000000</td>\n",
       "      <td>100.000000</td>\n",
       "    </tr>\n",
       "  </tbody>\n",
       "</table>\n",
       "</div>"
      ],
      "text/plain": [
       "       TestDurationMinutes  TestRITScore  TestStandardError  TestPercentile  \\\n",
       "count          9395.000000   9395.000000        9395.000000     9395.000000   \n",
       "mean             33.820436    157.243108           3.248590       42.174242   \n",
       "std              20.674475     17.193976           0.244886       31.489690   \n",
       "min               6.000000    110.000000           2.900000        1.000000   \n",
       "25%              21.000000    146.000000           3.200000       13.000000   \n",
       "50%              28.000000    156.000000           3.200000       37.000000   \n",
       "75%              39.000000    166.000000           3.300000       68.000000   \n",
       "max             242.000000    259.000000          13.400000       99.000000   \n",
       "\n",
       "       PercentCorrect  \n",
       "count     9395.000000  \n",
       "mean        50.185844  \n",
       "std          6.186337  \n",
       "min          8.000000  \n",
       "25%         47.000000  \n",
       "50%         51.000000  \n",
       "75%         53.000000  \n",
       "max        100.000000  "
      ]
     },
     "execution_count": 229,
     "metadata": {},
     "output_type": "execute_result"
    }
   ],
   "source": [
    "boy_first_math[quant_columns].describe()"
   ]
  },
  {
   "cell_type": "code",
   "execution_count": 230,
   "metadata": {
    "hidden": true
   },
   "outputs": [
    {
     "data": {
      "text/html": [
       "<div>\n",
       "<style scoped>\n",
       "    .dataframe tbody tr th:only-of-type {\n",
       "        vertical-align: middle;\n",
       "    }\n",
       "\n",
       "    .dataframe tbody tr th {\n",
       "        vertical-align: top;\n",
       "    }\n",
       "\n",
       "    .dataframe thead th {\n",
       "        text-align: right;\n",
       "    }\n",
       "</style>\n",
       "<table border=\"1\" class=\"dataframe\">\n",
       "  <thead>\n",
       "    <tr style=\"text-align: right;\">\n",
       "      <th></th>\n",
       "      <th>TestDurationMinutes</th>\n",
       "      <th>TestRITScore</th>\n",
       "      <th>TestStandardError</th>\n",
       "      <th>TestPercentile</th>\n",
       "      <th>PercentCorrect</th>\n",
       "    </tr>\n",
       "  </thead>\n",
       "  <tbody>\n",
       "    <tr>\n",
       "      <th>count</th>\n",
       "      <td>9314.000000</td>\n",
       "      <td>9314.000000</td>\n",
       "      <td>9314.000000</td>\n",
       "      <td>9314.000000</td>\n",
       "      <td>9314.000000</td>\n",
       "    </tr>\n",
       "    <tr>\n",
       "      <th>mean</th>\n",
       "      <td>39.402942</td>\n",
       "      <td>164.920550</td>\n",
       "      <td>3.297939</td>\n",
       "      <td>47.341099</td>\n",
       "      <td>52.380395</td>\n",
       "    </tr>\n",
       "    <tr>\n",
       "      <th>std</th>\n",
       "      <td>23.449136</td>\n",
       "      <td>17.672702</td>\n",
       "      <td>0.276446</td>\n",
       "      <td>32.081779</td>\n",
       "      <td>7.148959</td>\n",
       "    </tr>\n",
       "    <tr>\n",
       "      <th>min</th>\n",
       "      <td>6.000000</td>\n",
       "      <td>110.000000</td>\n",
       "      <td>3.100000</td>\n",
       "      <td>1.000000</td>\n",
       "      <td>14.000000</td>\n",
       "    </tr>\n",
       "    <tr>\n",
       "      <th>25%</th>\n",
       "      <td>25.000000</td>\n",
       "      <td>154.000000</td>\n",
       "      <td>3.200000</td>\n",
       "      <td>18.000000</td>\n",
       "      <td>49.000000</td>\n",
       "    </tr>\n",
       "    <tr>\n",
       "      <th>50%</th>\n",
       "      <td>33.000000</td>\n",
       "      <td>164.000000</td>\n",
       "      <td>3.200000</td>\n",
       "      <td>47.000000</td>\n",
       "      <td>51.000000</td>\n",
       "    </tr>\n",
       "    <tr>\n",
       "      <th>75%</th>\n",
       "      <td>47.000000</td>\n",
       "      <td>174.000000</td>\n",
       "      <td>3.300000</td>\n",
       "      <td>76.000000</td>\n",
       "      <td>55.000000</td>\n",
       "    </tr>\n",
       "    <tr>\n",
       "      <th>max</th>\n",
       "      <td>226.000000</td>\n",
       "      <td>248.000000</td>\n",
       "      <td>10.400000</td>\n",
       "      <td>99.000000</td>\n",
       "      <td>98.000000</td>\n",
       "    </tr>\n",
       "  </tbody>\n",
       "</table>\n",
       "</div>"
      ],
      "text/plain": [
       "       TestDurationMinutes  TestRITScore  TestStandardError  TestPercentile  \\\n",
       "count          9314.000000   9314.000000        9314.000000     9314.000000   \n",
       "mean             39.402942    164.920550           3.297939       47.341099   \n",
       "std              23.449136     17.672702           0.276446       32.081779   \n",
       "min               6.000000    110.000000           3.100000        1.000000   \n",
       "25%              25.000000    154.000000           3.200000       18.000000   \n",
       "50%              33.000000    164.000000           3.200000       47.000000   \n",
       "75%              47.000000    174.000000           3.300000       76.000000   \n",
       "max             226.000000    248.000000          10.400000       99.000000   \n",
       "\n",
       "       PercentCorrect  \n",
       "count     9314.000000  \n",
       "mean        52.380395  \n",
       "std          7.148959  \n",
       "min         14.000000  \n",
       "25%         49.000000  \n",
       "50%         51.000000  \n",
       "75%         55.000000  \n",
       "max         98.000000  "
      ]
     },
     "execution_count": 230,
     "metadata": {},
     "output_type": "execute_result"
    }
   ],
   "source": [
    "moy_first_math[quant_columns].describe()"
   ]
  },
  {
   "cell_type": "code",
   "execution_count": 231,
   "metadata": {
    "hidden": true
   },
   "outputs": [
    {
     "name": "stdout",
     "output_type": "stream",
     "text": [
      "Median Values BOY\n",
      "TestDurationMinutes     28.0\n",
      "TestRITScore           156.0\n",
      "TestStandardError        3.2\n",
      "TestPercentile          37.0\n",
      "PercentCorrect          51.0\n",
      "dtype: float64\n",
      "--\n",
      "Median Values MOY\n",
      "TestDurationMinutes     33.0\n",
      "TestRITScore           164.0\n",
      "TestStandardError        3.2\n",
      "TestPercentile          47.0\n",
      "PercentCorrect          51.0\n",
      "dtype: float64\n"
     ]
    }
   ],
   "source": [
    "print(\"Median Values BOY\")\n",
    "print(boy_first_math[quant_columns].median())  \n",
    "print(\"--\") \n",
    "print(\"Median Values MOY\")\n",
    "print(moy_first_math[quant_columns].median())"
   ]
  },
  {
   "cell_type": "markdown",
   "metadata": {
    "hidden": true
   },
   "source": [
    "## Histograms "
   ]
  },
  {
   "cell_type": "code",
   "execution_count": 232,
   "metadata": {
    "hidden": true
   },
   "outputs": [
    {
     "data": {
      "image/png": "[encoded data removed]",
      "text/plain": [
       "<Figure size 864x576 with 1 Axes>"
      ]
     },
     "metadata": {
      "needs_background": "light"
     },
     "output_type": "display_data"
    },
    {
     "data": {
      "image/png": "[encoded data removed]",
      "text/plain": [
       "<Figure size 864x576 with 1 Axes>"
      ]
     },
     "metadata": {
      "needs_background": "light"
     },
     "output_type": "display_data"
    },
    {
     "data": {
      "image/png": "[encoded data removed]",
      "text/plain": [
       "<Figure size 864x576 with 1 Axes>"
      ]
     },
     "metadata": {
      "needs_background": "light"
     },
     "output_type": "display_data"
    },
    {
     "data": {
      "image/png": "[encoded data removed]",
      "text/plain": [
       "<Figure size 864x576 with 1 Axes>"
      ]
     },
     "metadata": {
      "needs_background": "light"
     },
     "output_type": "display_data"
    }
   ],
   "source": [
    "#histogram \n",
    "for col in hist_columns:\n",
    "    historgram(boy_first_math, moy_first_math, col) \n",
    "    plt.show()"
   ]
  },
  {
   "cell_type": "markdown",
   "metadata": {
    "hidden": true
   },
   "source": [
    "## Second Grade"
   ]
  },
  {
   "cell_type": "code",
   "execution_count": 233,
   "metadata": {
    "hidden": true
   },
   "outputs": [],
   "source": [
    "## Second Math  \n",
    "boy_second_math = boy.loc[(boy['Grade'] == 2) & (boy['Subject'] == 'Mathematics')]\n",
    "moy_second_math = moy.loc[(moy['Grade'] == 2) & (boy['Subject'] == 'Mathematics')]"
   ]
  },
  {
   "cell_type": "code",
   "execution_count": 234,
   "metadata": {
    "hidden": true
   },
   "outputs": [
    {
     "data": {
      "text/html": [
       "<div>\n",
       "<style scoped>\n",
       "    .dataframe tbody tr th:only-of-type {\n",
       "        vertical-align: middle;\n",
       "    }\n",
       "\n",
       "    .dataframe tbody tr th {\n",
       "        vertical-align: top;\n",
       "    }\n",
       "\n",
       "    .dataframe thead th {\n",
       "        text-align: right;\n",
       "    }\n",
       "</style>\n",
       "<table border=\"1\" class=\"dataframe\">\n",
       "  <thead>\n",
       "    <tr style=\"text-align: right;\">\n",
       "      <th></th>\n",
       "      <th>TestDurationMinutes</th>\n",
       "      <th>TestRITScore</th>\n",
       "      <th>TestStandardError</th>\n",
       "      <th>TestPercentile</th>\n",
       "      <th>PercentCorrect</th>\n",
       "    </tr>\n",
       "  </thead>\n",
       "  <tbody>\n",
       "    <tr>\n",
       "      <th>count</th>\n",
       "      <td>9363.000000</td>\n",
       "      <td>9363.000000</td>\n",
       "      <td>9363.000000</td>\n",
       "      <td>9363.000000</td>\n",
       "      <td>9363.000000</td>\n",
       "    </tr>\n",
       "    <tr>\n",
       "      <th>mean</th>\n",
       "      <td>45.742070</td>\n",
       "      <td>170.111396</td>\n",
       "      <td>3.013916</td>\n",
       "      <td>39.481149</td>\n",
       "      <td>48.505073</td>\n",
       "    </tr>\n",
       "    <tr>\n",
       "      <th>std</th>\n",
       "      <td>27.830775</td>\n",
       "      <td>15.312206</td>\n",
       "      <td>0.169180</td>\n",
       "      <td>29.190461</td>\n",
       "      <td>6.535023</td>\n",
       "    </tr>\n",
       "    <tr>\n",
       "      <th>min</th>\n",
       "      <td>6.000000</td>\n",
       "      <td>119.000000</td>\n",
       "      <td>2.900000</td>\n",
       "      <td>1.000000</td>\n",
       "      <td>8.000000</td>\n",
       "    </tr>\n",
       "    <tr>\n",
       "      <th>25%</th>\n",
       "      <td>27.000000</td>\n",
       "      <td>160.000000</td>\n",
       "      <td>2.900000</td>\n",
       "      <td>12.000000</td>\n",
       "      <td>46.000000</td>\n",
       "    </tr>\n",
       "    <tr>\n",
       "      <th>50%</th>\n",
       "      <td>39.000000</td>\n",
       "      <td>171.000000</td>\n",
       "      <td>3.000000</td>\n",
       "      <td>38.000000</td>\n",
       "      <td>50.000000</td>\n",
       "    </tr>\n",
       "    <tr>\n",
       "      <th>75%</th>\n",
       "      <td>56.000000</td>\n",
       "      <td>178.000000</td>\n",
       "      <td>3.000000</td>\n",
       "      <td>59.000000</td>\n",
       "      <td>52.000000</td>\n",
       "    </tr>\n",
       "    <tr>\n",
       "      <th>max</th>\n",
       "      <td>294.000000</td>\n",
       "      <td>252.000000</td>\n",
       "      <td>5.400000</td>\n",
       "      <td>99.000000</td>\n",
       "      <td>72.000000</td>\n",
       "    </tr>\n",
       "  </tbody>\n",
       "</table>\n",
       "</div>"
      ],
      "text/plain": [
       "       TestDurationMinutes  TestRITScore  TestStandardError  TestPercentile  \\\n",
       "count          9363.000000   9363.000000        9363.000000     9363.000000   \n",
       "mean             45.742070    170.111396           3.013916       39.481149   \n",
       "std              27.830775     15.312206           0.169180       29.190461   \n",
       "min               6.000000    119.000000           2.900000        1.000000   \n",
       "25%              27.000000    160.000000           2.900000       12.000000   \n",
       "50%              39.000000    171.000000           3.000000       38.000000   \n",
       "75%              56.000000    178.000000           3.000000       59.000000   \n",
       "max             294.000000    252.000000           5.400000       99.000000   \n",
       "\n",
       "       PercentCorrect  \n",
       "count     9363.000000  \n",
       "mean        48.505073  \n",
       "std          6.535023  \n",
       "min          8.000000  \n",
       "25%         46.000000  \n",
       "50%         50.000000  \n",
       "75%         52.000000  \n",
       "max         72.000000  "
      ]
     },
     "execution_count": 234,
     "metadata": {},
     "output_type": "execute_result"
    }
   ],
   "source": [
    "boy_second_math[quant_columns].describe()"
   ]
  },
  {
   "cell_type": "code",
   "execution_count": 235,
   "metadata": {
    "hidden": true
   },
   "outputs": [
    {
     "data": {
      "text/html": [
       "<div>\n",
       "<style scoped>\n",
       "    .dataframe tbody tr th:only-of-type {\n",
       "        vertical-align: middle;\n",
       "    }\n",
       "\n",
       "    .dataframe tbody tr th {\n",
       "        vertical-align: top;\n",
       "    }\n",
       "\n",
       "    .dataframe thead th {\n",
       "        text-align: right;\n",
       "    }\n",
       "</style>\n",
       "<table border=\"1\" class=\"dataframe\">\n",
       "  <thead>\n",
       "    <tr style=\"text-align: right;\">\n",
       "      <th></th>\n",
       "      <th>TestDurationMinutes</th>\n",
       "      <th>TestRITScore</th>\n",
       "      <th>TestStandardError</th>\n",
       "      <th>TestPercentile</th>\n",
       "      <th>PercentCorrect</th>\n",
       "    </tr>\n",
       "  </thead>\n",
       "  <tbody>\n",
       "    <tr>\n",
       "      <th>count</th>\n",
       "      <td>9444.000000</td>\n",
       "      <td>9444.000000</td>\n",
       "      <td>9444.000000</td>\n",
       "      <td>9444.000000</td>\n",
       "      <td>9444.000000</td>\n",
       "    </tr>\n",
       "    <tr>\n",
       "      <th>mean</th>\n",
       "      <td>52.069356</td>\n",
       "      <td>178.493541</td>\n",
       "      <td>3.194176</td>\n",
       "      <td>44.800402</td>\n",
       "      <td>48.052414</td>\n",
       "    </tr>\n",
       "    <tr>\n",
       "      <th>std</th>\n",
       "      <td>36.764252</td>\n",
       "      <td>16.326602</td>\n",
       "      <td>0.307205</td>\n",
       "      <td>31.283011</td>\n",
       "      <td>8.122637</td>\n",
       "    </tr>\n",
       "    <tr>\n",
       "      <th>min</th>\n",
       "      <td>6.000000</td>\n",
       "      <td>133.000000</td>\n",
       "      <td>2.900000</td>\n",
       "      <td>1.000000</td>\n",
       "      <td>12.000000</td>\n",
       "    </tr>\n",
       "    <tr>\n",
       "      <th>25%</th>\n",
       "      <td>28.000000</td>\n",
       "      <td>168.000000</td>\n",
       "      <td>2.900000</td>\n",
       "      <td>17.000000</td>\n",
       "      <td>45.000000</td>\n",
       "    </tr>\n",
       "    <tr>\n",
       "      <th>50%</th>\n",
       "      <td>43.000000</td>\n",
       "      <td>177.000000</td>\n",
       "      <td>3.200000</td>\n",
       "      <td>41.000000</td>\n",
       "      <td>50.000000</td>\n",
       "    </tr>\n",
       "    <tr>\n",
       "      <th>75%</th>\n",
       "      <td>65.000000</td>\n",
       "      <td>189.000000</td>\n",
       "      <td>3.400000</td>\n",
       "      <td>72.000000</td>\n",
       "      <td>53.000000</td>\n",
       "    </tr>\n",
       "    <tr>\n",
       "      <th>max</th>\n",
       "      <td>357.000000</td>\n",
       "      <td>258.000000</td>\n",
       "      <td>5.100000</td>\n",
       "      <td>99.000000</td>\n",
       "      <td>77.000000</td>\n",
       "    </tr>\n",
       "  </tbody>\n",
       "</table>\n",
       "</div>"
      ],
      "text/plain": [
       "       TestDurationMinutes  TestRITScore  TestStandardError  TestPercentile  \\\n",
       "count          9444.000000   9444.000000        9444.000000     9444.000000   \n",
       "mean             52.069356    178.493541           3.194176       44.800402   \n",
       "std              36.764252     16.326602           0.307205       31.283011   \n",
       "min               6.000000    133.000000           2.900000        1.000000   \n",
       "25%              28.000000    168.000000           2.900000       17.000000   \n",
       "50%              43.000000    177.000000           3.200000       41.000000   \n",
       "75%              65.000000    189.000000           3.400000       72.000000   \n",
       "max             357.000000    258.000000           5.100000       99.000000   \n",
       "\n",
       "       PercentCorrect  \n",
       "count     9444.000000  \n",
       "mean        48.052414  \n",
       "std          8.122637  \n",
       "min         12.000000  \n",
       "25%         45.000000  \n",
       "50%         50.000000  \n",
       "75%         53.000000  \n",
       "max         77.000000  "
      ]
     },
     "execution_count": 235,
     "metadata": {},
     "output_type": "execute_result"
    }
   ],
   "source": [
    "moy_second_math[quant_columns].describe()"
   ]
  },
  {
   "cell_type": "code",
   "execution_count": 236,
   "metadata": {
    "hidden": true
   },
   "outputs": [
    {
     "name": "stdout",
     "output_type": "stream",
     "text": [
      "Median Values BOY\n",
      "TestDurationMinutes     39.0\n",
      "TestRITScore           171.0\n",
      "TestStandardError        3.0\n",
      "TestPercentile          38.0\n",
      "PercentCorrect          50.0\n",
      "dtype: float64\n",
      "--\n",
      "Median Values MOY\n",
      "TestDurationMinutes     43.0\n",
      "TestRITScore           177.0\n",
      "TestStandardError        3.2\n",
      "TestPercentile          41.0\n",
      "PercentCorrect          50.0\n",
      "dtype: float64\n"
     ]
    }
   ],
   "source": [
    "print(\"Median Values BOY\")\n",
    "print(boy_second_math[quant_columns].median())  \n",
    "print(\"--\") \n",
    "print(\"Median Values MOY\")\n",
    "print(moy_second_math[quant_columns].median())"
   ]
  },
  {
   "cell_type": "markdown",
   "metadata": {
    "hidden": true
   },
   "source": [
    "## Histograms "
   ]
  },
  {
   "cell_type": "code",
   "execution_count": 237,
   "metadata": {
    "hidden": true
   },
   "outputs": [
    {
     "data": {
      "image/png": "[encoded data removed]",
      "text/plain": [
       "<Figure size 864x576 with 1 Axes>"
      ]
     },
     "metadata": {
      "needs_background": "light"
     },
     "output_type": "display_data"
    },
    {
     "data": {
      "image/png": "[encoded data removed]",
      "text/plain": [
       "<Figure size 864x576 with 1 Axes>"
      ]
     },
     "metadata": {
      "needs_background": "light"
     },
     "output_type": "display_data"
    },
    {
     "data": {
      "image/png": "[encoded data removed]",
      "text/plain": [
       "<Figure size 864x576 with 1 Axes>"
      ]
     },
     "metadata": {
      "needs_background": "light"
     },
     "output_type": "display_data"
    },
    {
     "data": {
      "image/png": "[encoded data removed]",
      "text/plain": [
       "<Figure size 864x576 with 1 Axes>"
      ]
     },
     "metadata": {
      "needs_background": "light"
     },
     "output_type": "display_data"
    }
   ],
   "source": [
    "#histogram \n",
    "for col in hist_columns:\n",
    "    historgram(boy_second_math, moy_second_math, col) \n",
    "    plt.show()"
   ]
  },
  {
   "cell_type": "markdown",
   "metadata": {
    "heading_collapsed": true
   },
   "source": [
    "# By Grade Language Arts Analysis"
   ]
  },
  {
   "cell_type": "markdown",
   "metadata": {
    "hidden": true
   },
   "source": [
    "## First Grade"
   ]
  },
  {
   "cell_type": "code",
   "execution_count": 243,
   "metadata": {
    "hidden": true
   },
   "outputs": [],
   "source": [
    "## First LA  \n",
    "boy_first_la = boy.loc[(boy['Grade'] == 1) & (boy['Subject'] == 'Language Arts')]\n",
    "moy_first_la = moy.loc[(moy['Grade'] == 1) & (boy['Subject'] == 'Language Arts')]"
   ]
  },
  {
   "cell_type": "code",
   "execution_count": 244,
   "metadata": {
    "hidden": true
   },
   "outputs": [
    {
     "data": {
      "text/plain": [
       "array(['Mathematics', 'Language Arts'], dtype=object)"
      ]
     },
     "execution_count": 244,
     "metadata": {},
     "output_type": "execute_result"
    }
   ],
   "source": [
    "boy['Subject'].unique()"
   ]
  },
  {
   "cell_type": "code",
   "execution_count": 245,
   "metadata": {
    "hidden": true
   },
   "outputs": [
    {
     "data": {
      "text/html": [
       "<div>\n",
       "<style scoped>\n",
       "    .dataframe tbody tr th:only-of-type {\n",
       "        vertical-align: middle;\n",
       "    }\n",
       "\n",
       "    .dataframe tbody tr th {\n",
       "        vertical-align: top;\n",
       "    }\n",
       "\n",
       "    .dataframe thead th {\n",
       "        text-align: right;\n",
       "    }\n",
       "</style>\n",
       "<table border=\"1\" class=\"dataframe\">\n",
       "  <thead>\n",
       "    <tr style=\"text-align: right;\">\n",
       "      <th></th>\n",
       "      <th>TestDurationMinutes</th>\n",
       "      <th>TestRITScore</th>\n",
       "      <th>TestStandardError</th>\n",
       "      <th>TestPercentile</th>\n",
       "      <th>PercentCorrect</th>\n",
       "    </tr>\n",
       "  </thead>\n",
       "  <tbody>\n",
       "    <tr>\n",
       "      <th>count</th>\n",
       "      <td>9864.000000</td>\n",
       "      <td>9864.000000</td>\n",
       "      <td>9864.000000</td>\n",
       "      <td>9864.000000</td>\n",
       "      <td>9864.000000</td>\n",
       "    </tr>\n",
       "    <tr>\n",
       "      <th>mean</th>\n",
       "      <td>41.319140</td>\n",
       "      <td>152.971411</td>\n",
       "      <td>3.318451</td>\n",
       "      <td>49.019566</td>\n",
       "      <td>49.312348</td>\n",
       "    </tr>\n",
       "    <tr>\n",
       "      <th>std</th>\n",
       "      <td>23.214287</td>\n",
       "      <td>16.577477</td>\n",
       "      <td>0.221601</td>\n",
       "      <td>31.975190</td>\n",
       "      <td>7.890862</td>\n",
       "    </tr>\n",
       "    <tr>\n",
       "      <th>min</th>\n",
       "      <td>6.000000</td>\n",
       "      <td>102.000000</td>\n",
       "      <td>3.100000</td>\n",
       "      <td>1.000000</td>\n",
       "      <td>9.000000</td>\n",
       "    </tr>\n",
       "    <tr>\n",
       "      <th>25%</th>\n",
       "      <td>26.000000</td>\n",
       "      <td>142.000000</td>\n",
       "      <td>3.200000</td>\n",
       "      <td>19.000000</td>\n",
       "      <td>47.000000</td>\n",
       "    </tr>\n",
       "    <tr>\n",
       "      <th>50%</th>\n",
       "      <td>36.000000</td>\n",
       "      <td>151.000000</td>\n",
       "      <td>3.300000</td>\n",
       "      <td>47.000000</td>\n",
       "      <td>50.000000</td>\n",
       "    </tr>\n",
       "    <tr>\n",
       "      <th>75%</th>\n",
       "      <td>50.000000</td>\n",
       "      <td>162.000000</td>\n",
       "      <td>3.400000</td>\n",
       "      <td>77.000000</td>\n",
       "      <td>53.000000</td>\n",
       "    </tr>\n",
       "    <tr>\n",
       "      <th>max</th>\n",
       "      <td>242.000000</td>\n",
       "      <td>233.000000</td>\n",
       "      <td>10.200000</td>\n",
       "      <td>99.000000</td>\n",
       "      <td>98.000000</td>\n",
       "    </tr>\n",
       "  </tbody>\n",
       "</table>\n",
       "</div>"
      ],
      "text/plain": [
       "       TestDurationMinutes  TestRITScore  TestStandardError  TestPercentile  \\\n",
       "count          9864.000000   9864.000000        9864.000000     9864.000000   \n",
       "mean             41.319140    152.971411           3.318451       49.019566   \n",
       "std              23.214287     16.577477           0.221601       31.975190   \n",
       "min               6.000000    102.000000           3.100000        1.000000   \n",
       "25%              26.000000    142.000000           3.200000       19.000000   \n",
       "50%              36.000000    151.000000           3.300000       47.000000   \n",
       "75%              50.000000    162.000000           3.400000       77.000000   \n",
       "max             242.000000    233.000000          10.200000       99.000000   \n",
       "\n",
       "       PercentCorrect  \n",
       "count     9864.000000  \n",
       "mean        49.312348  \n",
       "std          7.890862  \n",
       "min          9.000000  \n",
       "25%         47.000000  \n",
       "50%         50.000000  \n",
       "75%         53.000000  \n",
       "max         98.000000  "
      ]
     },
     "execution_count": 245,
     "metadata": {},
     "output_type": "execute_result"
    }
   ],
   "source": [
    "boy_first_la[quant_columns].describe()"
   ]
  },
  {
   "cell_type": "code",
   "execution_count": 246,
   "metadata": {
    "hidden": true
   },
   "outputs": [
    {
     "data": {
      "text/html": [
       "<div>\n",
       "<style scoped>\n",
       "    .dataframe tbody tr th:only-of-type {\n",
       "        vertical-align: middle;\n",
       "    }\n",
       "\n",
       "    .dataframe tbody tr th {\n",
       "        vertical-align: top;\n",
       "    }\n",
       "\n",
       "    .dataframe thead th {\n",
       "        text-align: right;\n",
       "    }\n",
       "</style>\n",
       "<table border=\"1\" class=\"dataframe\">\n",
       "  <thead>\n",
       "    <tr style=\"text-align: right;\">\n",
       "      <th></th>\n",
       "      <th>TestDurationMinutes</th>\n",
       "      <th>TestRITScore</th>\n",
       "      <th>TestStandardError</th>\n",
       "      <th>TestPercentile</th>\n",
       "      <th>PercentCorrect</th>\n",
       "    </tr>\n",
       "  </thead>\n",
       "  <tbody>\n",
       "    <tr>\n",
       "      <th>count</th>\n",
       "      <td>9858.000000</td>\n",
       "      <td>9858.000000</td>\n",
       "      <td>9858.000000</td>\n",
       "      <td>9858.000000</td>\n",
       "      <td>9858.000000</td>\n",
       "    </tr>\n",
       "    <tr>\n",
       "      <th>mean</th>\n",
       "      <td>39.535098</td>\n",
       "      <td>164.784033</td>\n",
       "      <td>3.302861</td>\n",
       "      <td>47.502435</td>\n",
       "      <td>52.453642</td>\n",
       "    </tr>\n",
       "    <tr>\n",
       "      <th>std</th>\n",
       "      <td>24.089141</td>\n",
       "      <td>17.742248</td>\n",
       "      <td>0.315704</td>\n",
       "      <td>32.189961</td>\n",
       "      <td>7.360080</td>\n",
       "    </tr>\n",
       "    <tr>\n",
       "      <th>min</th>\n",
       "      <td>6.000000</td>\n",
       "      <td>103.000000</td>\n",
       "      <td>3.100000</td>\n",
       "      <td>1.000000</td>\n",
       "      <td>9.000000</td>\n",
       "    </tr>\n",
       "    <tr>\n",
       "      <th>25%</th>\n",
       "      <td>24.000000</td>\n",
       "      <td>153.000000</td>\n",
       "      <td>3.200000</td>\n",
       "      <td>18.000000</td>\n",
       "      <td>49.000000</td>\n",
       "    </tr>\n",
       "    <tr>\n",
       "      <th>50%</th>\n",
       "      <td>33.000000</td>\n",
       "      <td>164.000000</td>\n",
       "      <td>3.200000</td>\n",
       "      <td>44.500000</td>\n",
       "      <td>51.000000</td>\n",
       "    </tr>\n",
       "    <tr>\n",
       "      <th>75%</th>\n",
       "      <td>46.000000</td>\n",
       "      <td>174.000000</td>\n",
       "      <td>3.300000</td>\n",
       "      <td>76.000000</td>\n",
       "      <td>56.000000</td>\n",
       "    </tr>\n",
       "    <tr>\n",
       "      <th>max</th>\n",
       "      <td>282.000000</td>\n",
       "      <td>259.000000</td>\n",
       "      <td>13.500000</td>\n",
       "      <td>99.000000</td>\n",
       "      <td>100.000000</td>\n",
       "    </tr>\n",
       "  </tbody>\n",
       "</table>\n",
       "</div>"
      ],
      "text/plain": [
       "       TestDurationMinutes  TestRITScore  TestStandardError  TestPercentile  \\\n",
       "count          9858.000000   9858.000000        9858.000000     9858.000000   \n",
       "mean             39.535098    164.784033           3.302861       47.502435   \n",
       "std              24.089141     17.742248           0.315704       32.189961   \n",
       "min               6.000000    103.000000           3.100000        1.000000   \n",
       "25%              24.000000    153.000000           3.200000       18.000000   \n",
       "50%              33.000000    164.000000           3.200000       44.500000   \n",
       "75%              46.000000    174.000000           3.300000       76.000000   \n",
       "max             282.000000    259.000000          13.500000       99.000000   \n",
       "\n",
       "       PercentCorrect  \n",
       "count     9858.000000  \n",
       "mean        52.453642  \n",
       "std          7.360080  \n",
       "min          9.000000  \n",
       "25%         49.000000  \n",
       "50%         51.000000  \n",
       "75%         56.000000  \n",
       "max        100.000000  "
      ]
     },
     "execution_count": 246,
     "metadata": {},
     "output_type": "execute_result"
    }
   ],
   "source": [
    "moy_first_la[quant_columns].describe()"
   ]
  },
  {
   "cell_type": "code",
   "execution_count": 247,
   "metadata": {
    "hidden": true
   },
   "outputs": [
    {
     "name": "stdout",
     "output_type": "stream",
     "text": [
      "Median Values BOY\n",
      "TestDurationMinutes     36.0\n",
      "TestRITScore           151.0\n",
      "TestStandardError        3.3\n",
      "TestPercentile          47.0\n",
      "PercentCorrect          50.0\n",
      "dtype: float64\n",
      "--\n",
      "Median Values MOY\n",
      "TestDurationMinutes     33.0\n",
      "TestRITScore           164.0\n",
      "TestStandardError        3.2\n",
      "TestPercentile          44.5\n",
      "PercentCorrect          51.0\n",
      "dtype: float64\n"
     ]
    }
   ],
   "source": [
    "print(\"Median Values BOY\")\n",
    "print(boy_first_la[quant_columns].median())  \n",
    "print(\"--\") \n",
    "print(\"Median Values MOY\")\n",
    "print(moy_first_la[quant_columns].median())"
   ]
  },
  {
   "cell_type": "markdown",
   "metadata": {
    "hidden": true
   },
   "source": [
    "## Second Grade"
   ]
  },
  {
   "cell_type": "code",
   "execution_count": 250,
   "metadata": {
    "hidden": true
   },
   "outputs": [],
   "source": [
    "## second LA  \n",
    "boy_second_la = boy.loc[(boy['Grade'] == 2) & (boy['Subject'] == 'Language Arts')]\n",
    "moy_second_la = moy.loc[(moy['Grade'] == 2) & (boy['Subject'] == 'Language Arts')]"
   ]
  },
  {
   "cell_type": "code",
   "execution_count": 251,
   "metadata": {
    "hidden": true
   },
   "outputs": [
    {
     "data": {
      "text/html": [
       "<div>\n",
       "<style scoped>\n",
       "    .dataframe tbody tr th:only-of-type {\n",
       "        vertical-align: middle;\n",
       "    }\n",
       "\n",
       "    .dataframe tbody tr th {\n",
       "        vertical-align: top;\n",
       "    }\n",
       "\n",
       "    .dataframe thead th {\n",
       "        text-align: right;\n",
       "    }\n",
       "</style>\n",
       "<table border=\"1\" class=\"dataframe\">\n",
       "  <thead>\n",
       "    <tr style=\"text-align: right;\">\n",
       "      <th></th>\n",
       "      <th>TestDurationMinutes</th>\n",
       "      <th>TestRITScore</th>\n",
       "      <th>TestStandardError</th>\n",
       "      <th>TestPercentile</th>\n",
       "      <th>PercentCorrect</th>\n",
       "    </tr>\n",
       "  </thead>\n",
       "  <tbody>\n",
       "    <tr>\n",
       "      <th>count</th>\n",
       "      <td>10026.000000</td>\n",
       "      <td>10026.000000</td>\n",
       "      <td>10026.000000</td>\n",
       "      <td>10026.000000</td>\n",
       "      <td>10026.000000</td>\n",
       "    </tr>\n",
       "    <tr>\n",
       "      <th>mean</th>\n",
       "      <td>44.860263</td>\n",
       "      <td>170.855476</td>\n",
       "      <td>3.524137</td>\n",
       "      <td>49.083782</td>\n",
       "      <td>41.826052</td>\n",
       "    </tr>\n",
       "    <tr>\n",
       "      <th>std</th>\n",
       "      <td>35.322728</td>\n",
       "      <td>16.551431</td>\n",
       "      <td>0.250816</td>\n",
       "      <td>31.246687</td>\n",
       "      <td>10.950456</td>\n",
       "    </tr>\n",
       "    <tr>\n",
       "      <th>min</th>\n",
       "      <td>6.000000</td>\n",
       "      <td>128.000000</td>\n",
       "      <td>3.100000</td>\n",
       "      <td>1.000000</td>\n",
       "      <td>12.000000</td>\n",
       "    </tr>\n",
       "    <tr>\n",
       "      <th>25%</th>\n",
       "      <td>20.000000</td>\n",
       "      <td>159.000000</td>\n",
       "      <td>3.400000</td>\n",
       "      <td>21.000000</td>\n",
       "      <td>35.000000</td>\n",
       "    </tr>\n",
       "    <tr>\n",
       "      <th>50%</th>\n",
       "      <td>35.000000</td>\n",
       "      <td>168.000000</td>\n",
       "      <td>3.500000</td>\n",
       "      <td>46.000000</td>\n",
       "      <td>43.000000</td>\n",
       "    </tr>\n",
       "    <tr>\n",
       "      <th>75%</th>\n",
       "      <td>59.000000</td>\n",
       "      <td>181.000000</td>\n",
       "      <td>3.600000</td>\n",
       "      <td>78.000000</td>\n",
       "      <td>50.000000</td>\n",
       "    </tr>\n",
       "    <tr>\n",
       "      <th>max</th>\n",
       "      <td>339.000000</td>\n",
       "      <td>240.000000</td>\n",
       "      <td>5.200000</td>\n",
       "      <td>99.000000</td>\n",
       "      <td>80.000000</td>\n",
       "    </tr>\n",
       "  </tbody>\n",
       "</table>\n",
       "</div>"
      ],
      "text/plain": [
       "       TestDurationMinutes  TestRITScore  TestStandardError  TestPercentile  \\\n",
       "count         10026.000000  10026.000000       10026.000000    10026.000000   \n",
       "mean             44.860263    170.855476           3.524137       49.083782   \n",
       "std              35.322728     16.551431           0.250816       31.246687   \n",
       "min               6.000000    128.000000           3.100000        1.000000   \n",
       "25%              20.000000    159.000000           3.400000       21.000000   \n",
       "50%              35.000000    168.000000           3.500000       46.000000   \n",
       "75%              59.000000    181.000000           3.600000       78.000000   \n",
       "max             339.000000    240.000000           5.200000       99.000000   \n",
       "\n",
       "       PercentCorrect  \n",
       "count    10026.000000  \n",
       "mean        41.826052  \n",
       "std         10.950456  \n",
       "min         12.000000  \n",
       "25%         35.000000  \n",
       "50%         43.000000  \n",
       "75%         50.000000  \n",
       "max         80.000000  "
      ]
     },
     "execution_count": 251,
     "metadata": {},
     "output_type": "execute_result"
    }
   ],
   "source": [
    "boy_second_la[quant_columns].describe()"
   ]
  },
  {
   "cell_type": "code",
   "execution_count": 252,
   "metadata": {
    "hidden": true
   },
   "outputs": [
    {
     "data": {
      "text/html": [
       "<div>\n",
       "<style scoped>\n",
       "    .dataframe tbody tr th:only-of-type {\n",
       "        vertical-align: middle;\n",
       "    }\n",
       "\n",
       "    .dataframe tbody tr th {\n",
       "        vertical-align: top;\n",
       "    }\n",
       "\n",
       "    .dataframe thead th {\n",
       "        text-align: right;\n",
       "    }\n",
       "</style>\n",
       "<table border=\"1\" class=\"dataframe\">\n",
       "  <thead>\n",
       "    <tr style=\"text-align: right;\">\n",
       "      <th></th>\n",
       "      <th>TestDurationMinutes</th>\n",
       "      <th>TestRITScore</th>\n",
       "      <th>TestStandardError</th>\n",
       "      <th>TestPercentile</th>\n",
       "      <th>PercentCorrect</th>\n",
       "    </tr>\n",
       "  </thead>\n",
       "  <tbody>\n",
       "    <tr>\n",
       "      <th>count</th>\n",
       "      <td>10032.000000</td>\n",
       "      <td>10032.000000</td>\n",
       "      <td>10032.000000</td>\n",
       "      <td>10032.000000</td>\n",
       "      <td>10032.000000</td>\n",
       "    </tr>\n",
       "    <tr>\n",
       "      <th>mean</th>\n",
       "      <td>51.780801</td>\n",
       "      <td>178.401814</td>\n",
       "      <td>3.216886</td>\n",
       "      <td>45.160686</td>\n",
       "      <td>47.792863</td>\n",
       "    </tr>\n",
       "    <tr>\n",
       "      <th>std</th>\n",
       "      <td>36.453445</td>\n",
       "      <td>16.488884</td>\n",
       "      <td>0.311255</td>\n",
       "      <td>31.325760</td>\n",
       "      <td>8.352347</td>\n",
       "    </tr>\n",
       "    <tr>\n",
       "      <th>min</th>\n",
       "      <td>6.000000</td>\n",
       "      <td>129.000000</td>\n",
       "      <td>2.900000</td>\n",
       "      <td>1.000000</td>\n",
       "      <td>11.000000</td>\n",
       "    </tr>\n",
       "    <tr>\n",
       "      <th>25%</th>\n",
       "      <td>27.000000</td>\n",
       "      <td>167.000000</td>\n",
       "      <td>2.900000</td>\n",
       "      <td>16.000000</td>\n",
       "      <td>45.000000</td>\n",
       "    </tr>\n",
       "    <tr>\n",
       "      <th>50%</th>\n",
       "      <td>42.000000</td>\n",
       "      <td>178.000000</td>\n",
       "      <td>3.300000</td>\n",
       "      <td>41.000000</td>\n",
       "      <td>50.000000</td>\n",
       "    </tr>\n",
       "    <tr>\n",
       "      <th>75%</th>\n",
       "      <td>65.000000</td>\n",
       "      <td>189.000000</td>\n",
       "      <td>3.400000</td>\n",
       "      <td>72.250000</td>\n",
       "      <td>53.000000</td>\n",
       "    </tr>\n",
       "    <tr>\n",
       "      <th>max</th>\n",
       "      <td>363.000000</td>\n",
       "      <td>252.000000</td>\n",
       "      <td>5.200000</td>\n",
       "      <td>99.000000</td>\n",
       "      <td>88.000000</td>\n",
       "    </tr>\n",
       "  </tbody>\n",
       "</table>\n",
       "</div>"
      ],
      "text/plain": [
       "       TestDurationMinutes  TestRITScore  TestStandardError  TestPercentile  \\\n",
       "count         10032.000000  10032.000000       10032.000000    10032.000000   \n",
       "mean             51.780801    178.401814           3.216886       45.160686   \n",
       "std              36.453445     16.488884           0.311255       31.325760   \n",
       "min               6.000000    129.000000           2.900000        1.000000   \n",
       "25%              27.000000    167.000000           2.900000       16.000000   \n",
       "50%              42.000000    178.000000           3.300000       41.000000   \n",
       "75%              65.000000    189.000000           3.400000       72.250000   \n",
       "max             363.000000    252.000000           5.200000       99.000000   \n",
       "\n",
       "       PercentCorrect  \n",
       "count    10032.000000  \n",
       "mean        47.792863  \n",
       "std          8.352347  \n",
       "min         11.000000  \n",
       "25%         45.000000  \n",
       "50%         50.000000  \n",
       "75%         53.000000  \n",
       "max         88.000000  "
      ]
     },
     "execution_count": 252,
     "metadata": {},
     "output_type": "execute_result"
    }
   ],
   "source": [
    "moy_second_la[quant_columns].describe()"
   ]
  },
  {
   "cell_type": "code",
   "execution_count": 253,
   "metadata": {
    "hidden": true
   },
   "outputs": [
    {
     "name": "stdout",
     "output_type": "stream",
     "text": [
      "Median Values BOY\n",
      "TestDurationMinutes     35.0\n",
      "TestRITScore           168.0\n",
      "TestStandardError        3.5\n",
      "TestPercentile          46.0\n",
      "PercentCorrect          43.0\n",
      "dtype: float64\n",
      "--\n",
      "Median Values MOY\n",
      "TestDurationMinutes     42.0\n",
      "TestRITScore           178.0\n",
      "TestStandardError        3.3\n",
      "TestPercentile          41.0\n",
      "PercentCorrect          50.0\n",
      "dtype: float64\n"
     ]
    }
   ],
   "source": [
    "print(\"Median Values BOY\")\n",
    "print(boy_second_la[quant_columns].median())  \n",
    "print(\"--\") \n",
    "print(\"Median Values MOY\")\n",
    "print(moy_second_la[quant_columns].median())"
   ]
  },
  {
   "cell_type": "markdown",
   "metadata": {
    "hidden": true
   },
   "source": [
    "## Histograms"
   ]
  },
  {
   "cell_type": "code",
   "execution_count": 254,
   "metadata": {
    "hidden": true
   },
   "outputs": [
    {
     "data": {
      "image/png": "[encoded data removed]",
      "text/plain": [
       "<Figure size 864x576 with 1 Axes>"
      ]
     },
     "metadata": {
      "needs_background": "light"
     },
     "output_type": "display_data"
    },
    {
     "data": {
      "image/png": "[encoded data removed]",
      "text/plain": [
       "<Figure size 864x576 with 1 Axes>"
      ]
     },
     "metadata": {
      "needs_background": "light"
     },
     "output_type": "display_data"
    },
    {
     "data": {
      "image/png": "[encoded data removed]",
      "text/plain": [
       "<Figure size 864x576 with 1 Axes>"
      ]
     },
     "metadata": {
      "needs_background": "light"
     },
     "output_type": "display_data"
    },
    {
     "data": {
      "image/png": "[encoded data removed]",
      "text/plain": [
       "<Figure size 864x576 with 1 Axes>"
      ]
     },
     "metadata": {
      "needs_background": "light"
     },
     "output_type": "display_data"
    }
   ],
   "source": [
    "#histogram \n",
    "for col in hist_columns:\n",
    "    historgram(boy_first_la, moy_first_la, col) \n",
    "    plt.show()"
   ]
  },
  {
   "cell_type": "code",
   "execution_count": 255,
   "metadata": {
    "hidden": true,
    "scrolled": true
   },
   "outputs": [
    {
     "data": {
      "image/png": "[encoded data removed]",
      "text/plain": [
       "<Figure size 864x576 with 1 Axes>"
      ]
     },
     "metadata": {
      "needs_background": "light"
     },
     "output_type": "display_data"
    },
    {
     "data": {
      "image/png": "[encoded data removed]",
      "text/plain": [
       "<Figure size 864x576 with 1 Axes>"
      ]
     },
     "metadata": {
      "needs_background": "light"
     },
     "output_type": "display_data"
    },
    {
     "data": {
      "image/png": "[encoded data removed]",
      "text/plain": [
       "<Figure size 864x576 with 1 Axes>"
      ]
     },
     "metadata": {
      "needs_background": "light"
     },
     "output_type": "display_data"
    },
    {
     "data": {
      "image/png": "[encoded data removed]",
      "text/plain": [
       "<Figure size 864x576 with 1 Axes>"
      ]
     },
     "metadata": {
      "needs_background": "light"
     },
     "output_type": "display_data"
    }
   ],
   "source": [
    "#histogram \n",
    "for col in hist_columns:\n",
    "    historgram(boy_second_la, moy_second_la, col) \n",
    "    plt.show()"
   ]
  },
  {
   "cell_type": "code",
   "execution_count": 271,
   "metadata": {
    "collapsed": true,
    "hidden": true
   },
   "outputs": [
    {
     "data": {
      "text/plain": [
       "array(['Harry C Withers Elementary School',\n",
       "       'Louise Wolff Kahn Elementary School',\n",
       "       'Stephen C Foster Elementary School', 'Ida B. Wells Academy',\n",
       "       'KB Polk Center for Academically Talented & Gifted',\n",
       "       'William Lipscomb Elementary School', 'Chapel Hill Preparatory',\n",
       "       'Mockingbird Elementary School',\n",
       "       'Obadiah Knight Elementary School', 'Maple Lawn Elementary School',\n",
       "       'Celestino Mauricio Soto Jr Elementary School',\n",
       "       'S S Conner Elementary School', 'L L Hotchkiss Elementary School',\n",
       "       'Edna Rowe Elementary School', 'Central Elementary School',\n",
       "       'Charles Rice Learning Center', 'Anson Jones Elementary School',\n",
       "       'James Bowie Elementary School',\n",
       "       'Arturo Salazar Elementary School', 'Casa View Elementary School',\n",
       "       'Winnetka Elementary School', 'Arthur Kramer Elementary School',\n",
       "       'Thomas L Marsalis Elementary STEAM Academy',\n",
       "       'Lee A McShan Jr Elementary School',\n",
       "       'Edwin J Kiest Elementary School',\n",
       "       'Larry G Smith Elementary School',\n",
       "       'George Peabody Elementary School',\n",
       "       'W W Bushman Elementary School',\n",
       "       'Daniel Webster Elementary School',\n",
       "       'Solar Prep for Boys at John F. Kennedy',\n",
       "       'John F Peeler Elementary School',\n",
       "       'Henry B Gonzalez Personalized Learning Academy',\n",
       "       'John Neely Bryan Elementary School',\n",
       "       'Charles A Gill Elementary School',\n",
       "       'Frank Guzick Elementary School', 'J N Ervin Elementary School',\n",
       "       'Jose Joe May Elementary School', 'Martin Weiss Elementary School',\n",
       "       'Lakewood Elementary School', 'Nancy Moseley Elementary School',\n",
       "       'Seagoville Elementary School', 'John W Runyon Elementary School',\n",
       "       'Dan D Rogers Elementary School', 'Mount Auburn STEAM Academy',\n",
       "       'F P Caillet Elementary School',\n",
       "       'Seagoville North Elementary School',\n",
       "       'Herbert Marcus Elementary School',\n",
       "       'Elisha M Pease Elementary School',\n",
       "       'Mark Twain Leadership Vanguard',\n",
       "       'Hall Personalized Learning Academy at Oak Cliff',\n",
       "       'Thomas Tolbert Elementary School',\n",
       "       'Leslie A Stemmons Elementary School',\n",
       "       'Clara Oliver Elementary School',\n",
       "       'William M Anderson Elementary School',\n",
       "       'Richard Lagow Elementary School',\n",
       "       'Ronald E McNair Elementary School',\n",
       "       'Highland Meadows Elementary School',\n",
       "       'Wilmer-Hutchins Elementary School',\n",
       "       'George W Truett Elementary School',\n",
       "       'Geneva Heights Elementary School',\n",
       "       'C A Tatum Jr Elementary School', 'John Ireland Elementary School',\n",
       "       'Martha Turner Reilly Elementary School',\n",
       "       'Rosemont Lower - Chris V Semos Building',\n",
       "       'Adelfa Botello Callejo Elementary School',\n",
       "       'Cedar Crest Elementary School',\n",
       "       'H.I. Holland Elementary School at Lisbon',\n",
       "       'George Herbert Walker Bush Elementary School',\n",
       "       'Bayles Elementary School', 'Urban Park Elementary School',\n",
       "       'Mary McLeod Bethune Elementary School',\n",
       "       'Frederick Douglass Elementary School',\n",
       "       'Everette Lee Degolyer Elementary School',\n",
       "       'Walnut Hill Elementary School', 'Gabe P Allen Charter School',\n",
       "       'Harry Stone Montessori Academy', 'Eduardo Mata Montessori School',\n",
       "       'Joseph J Rhoads Elementary School',\n",
       "       'Solar Prep School for Girls at James B Bonham',\n",
       "       'Cesar Chavez Learning Center', 'L O Donald Elementary School',\n",
       "       'Trinity Heights Gifted and Talented School',\n",
       "       'Ben Milam Elementary School', 'W A Blair Elementary School',\n",
       "       'San Jacinto Elementary School',\n",
       "       'Thelma Elizabeth Page Richardson Elementary School',\n",
       "       'John J Pershing Elementary School',\n",
       "       'N W Harllee Early Childhood Center',\n",
       "       'B H Macon Elementary School',\n",
       "       'Leonides Gonzalez Cigarroa MD Elementary School',\n",
       "       'Barbara Jordan Elementary School',\n",
       "       'Leila P Cowart Elementary School',\n",
       "       'Eladio R Martinez Learning Center',\n",
       "       'Rufus C Burleson Elementary School',\n",
       "       'Esperanza Hope Medrano Elementary School',\n",
       "       'Anne Frank Elementary School', 'Tom C Gooch Elementary School',\n",
       "       'George B. Dealey Montessori Academy',\n",
       "       'Gilbert Cuellar Sr Elementary School',\n",
       "       'John Q Adams Elementary School', 'Nathan Adams Elementary School',\n",
       "       'Ebby Halliday Elementary School',\n",
       "       'Clinton P Russell Elementary School',\n",
       "       'Margaret B Henderson Elementary School',\n",
       "       'Julian T Saldivar Elementary School', 'Kleberg Elementary School',\n",
       "       'Arcadia Park Elementary School',\n",
       "       'Montessori Academy at Onesimo Hernandez',\n",
       "       'Ignacio Zaragoza Elementary School',\n",
       "       'Felix G Botello Personalized Learning Elementary',\n",
       "       'Ascher Silberstein Elementary School',\n",
       "       'Julius Dorsey Elementary School',\n",
       "       'Jimmie Tyler Brashear Elementary School',\n",
       "       'T G Terry Elementary School', 'Lida Hooe Elementary School',\n",
       "       'Nancy J Cochran Elementary School',\n",
       "       'Annie Webb Blanton Elementary School',\n",
       "       'Jerry R Junkins Elementary School', 'Reinhardt Elementary School',\n",
       "       'Victor H Hexter Elementary School',\n",
       "       'Martin Luther King Jr Learning Center',\n",
       "       'Lorenzo De Zavala Elementary School',\n",
       "       'Oran M Roberts Elementary School',\n",
       "       'David G Burnet Elementary School',\n",
       "       'Edward Titche Elementary School',\n",
       "       'Sidney Lanier Expressive Arts Vanguard',\n",
       "       'Stevens Park Elementary School', 'Hogg New Tech Center',\n",
       "       'John H Reagan Elementary School',\n",
       "       'Pleasant Grove Elementary School',\n",
       "       'Nathaniel Hawthorne Elementary School',\n",
       "       'Birdie Alexander Elementary School',\n",
       "       'Preston Hollow Elementary School', 'Maria Moreno STEAM Academy',\n",
       "       'Umphrey Lee Elementary School', 'J P Starks Elementary School',\n",
       "       'Jack Lowe Sr Elementary School',\n",
       "       'Whitney M Young Jr Elementary School',\n",
       "       'Eddie Bernice Johnson Elementary School',\n",
       "       'Alex Sanger Preparatory School', 'Paul L Dunbar Learning Center',\n",
       "       'C F Carr Elementary School', 'R L Thornton Elementary School',\n",
       "       'Houston Personalized Learning', 'Harrell Budd Elementary School',\n",
       "       'Adelle Turner Elementary School',\n",
       "       'John W Carpenter Elementary School',\n",
       "       'William B Miller Elementary School',\n",
       "       'Jill Stone Elementary School at Vickery Meadow'], dtype=object)"
      ]
     },
     "execution_count": 271,
     "metadata": {},
     "output_type": "execute_result"
    }
   ],
   "source": [
    "boy['SchoolName'].unique()"
   ]
  },
  {
   "cell_type": "markdown",
   "metadata": {
    "heading_collapsed": true
   },
   "source": [
    "# Analysis by School"
   ]
  },
  {
   "cell_type": "code",
   "execution_count": 313,
   "metadata": {
    "hidden": true,
    "scrolled": true
   },
   "outputs": [],
   "source": [
    "boy_rit_schools = boy.groupby('SchoolName').TestRITScore.mean().sort_values().reset_index()"
   ]
  },
  {
   "cell_type": "code",
   "execution_count": 314,
   "metadata": {
    "hidden": true
   },
   "outputs": [],
   "source": [
    "moy_rit_schools = moy.groupby('SchoolName').TestRITScore.mean().sort_values().reset_index()"
   ]
  },
  {
   "cell_type": "code",
   "execution_count": 322,
   "metadata": {
    "hidden": true
   },
   "outputs": [
    {
     "data": {
      "text/html": [
       "<div>\n",
       "<style scoped>\n",
       "    .dataframe tbody tr th:only-of-type {\n",
       "        vertical-align: middle;\n",
       "    }\n",
       "\n",
       "    .dataframe tbody tr th {\n",
       "        vertical-align: top;\n",
       "    }\n",
       "\n",
       "    .dataframe thead th {\n",
       "        text-align: right;\n",
       "    }\n",
       "</style>\n",
       "<table border=\"1\" class=\"dataframe\">\n",
       "  <thead>\n",
       "    <tr style=\"text-align: right;\">\n",
       "      <th></th>\n",
       "      <th>SchoolName</th>\n",
       "      <th>TestRITScore_x</th>\n",
       "      <th>TestRITScore_y</th>\n",
       "    </tr>\n",
       "  </thead>\n",
       "  <tbody>\n",
       "    <tr>\n",
       "      <th>0</th>\n",
       "      <td>Cedar Crest Elementary School</td>\n",
       "      <td>148.069182</td>\n",
       "      <td>160.946809</td>\n",
       "    </tr>\n",
       "    <tr>\n",
       "      <th>1</th>\n",
       "      <td>San Jacinto Elementary School</td>\n",
       "      <td>152.240741</td>\n",
       "      <td>160.683077</td>\n",
       "    </tr>\n",
       "    <tr>\n",
       "      <th>2</th>\n",
       "      <td>Jill Stone Elementary School at Vickery Meadow</td>\n",
       "      <td>152.553571</td>\n",
       "      <td>161.841772</td>\n",
       "    </tr>\n",
       "    <tr>\n",
       "      <th>3</th>\n",
       "      <td>Harrell Budd Elementary School</td>\n",
       "      <td>152.685714</td>\n",
       "      <td>150.708609</td>\n",
       "    </tr>\n",
       "    <tr>\n",
       "      <th>4</th>\n",
       "      <td>Herbert Marcus Elementary School</td>\n",
       "      <td>152.877756</td>\n",
       "      <td>165.641304</td>\n",
       "    </tr>\n",
       "    <tr>\n",
       "      <th>...</th>\n",
       "      <td>...</td>\n",
       "      <td>...</td>\n",
       "      <td>...</td>\n",
       "    </tr>\n",
       "    <tr>\n",
       "      <th>144</th>\n",
       "      <td>Harry Stone Montessori Academy</td>\n",
       "      <td>178.397541</td>\n",
       "      <td>189.685484</td>\n",
       "    </tr>\n",
       "    <tr>\n",
       "      <th>145</th>\n",
       "      <td>Lakewood Elementary School</td>\n",
       "      <td>179.067909</td>\n",
       "      <td>188.129261</td>\n",
       "    </tr>\n",
       "    <tr>\n",
       "      <th>146</th>\n",
       "      <td>Rosemont Lower - Chris V Semos Building</td>\n",
       "      <td>179.863095</td>\n",
       "      <td>178.697030</td>\n",
       "    </tr>\n",
       "    <tr>\n",
       "      <th>147</th>\n",
       "      <td>Stevens Park Elementary School</td>\n",
       "      <td>181.482877</td>\n",
       "      <td>177.389058</td>\n",
       "    </tr>\n",
       "    <tr>\n",
       "      <th>148</th>\n",
       "      <td>George B. Dealey Montessori Academy</td>\n",
       "      <td>182.988848</td>\n",
       "      <td>190.873606</td>\n",
       "    </tr>\n",
       "  </tbody>\n",
       "</table>\n",
       "<p>149 rows × 3 columns</p>\n",
       "</div>"
      ],
      "text/plain": [
       "                                         SchoolName  TestRITScore_x  \\\n",
       "0                     Cedar Crest Elementary School      148.069182   \n",
       "1                     San Jacinto Elementary School      152.240741   \n",
       "2    Jill Stone Elementary School at Vickery Meadow      152.553571   \n",
       "3                    Harrell Budd Elementary School      152.685714   \n",
       "4                  Herbert Marcus Elementary School      152.877756   \n",
       "..                                              ...             ...   \n",
       "144                  Harry Stone Montessori Academy      178.397541   \n",
       "145                      Lakewood Elementary School      179.067909   \n",
       "146         Rosemont Lower - Chris V Semos Building      179.863095   \n",
       "147                  Stevens Park Elementary School      181.482877   \n",
       "148             George B. Dealey Montessori Academy      182.988848   \n",
       "\n",
       "     TestRITScore_y  \n",
       "0        160.946809  \n",
       "1        160.683077  \n",
       "2        161.841772  \n",
       "3        150.708609  \n",
       "4        165.641304  \n",
       "..              ...  \n",
       "144      189.685484  \n",
       "145      188.129261  \n",
       "146      178.697030  \n",
       "147      177.389058  \n",
       "148      190.873606  \n",
       "\n",
       "[149 rows x 3 columns]"
      ]
     },
     "execution_count": 322,
     "metadata": {},
     "output_type": "execute_result"
    }
   ],
   "source": [
    "merged_left = pd.merge(left=boy_rit_schools, right=moy_rit_schools, \n",
    "                       how='left', left_on='SchoolName', right_on='SchoolName')\n",
    "merged_left"
   ]
  },
  {
   "cell_type": "code",
   "execution_count": 328,
   "metadata": {
    "hidden": true
   },
   "outputs": [],
   "source": [
    "merged_left['Change'] = merged_left['TestRITScore_y'] - merged_left['TestRITScore_x']"
   ]
  },
  {
   "cell_type": "code",
   "execution_count": 329,
   "metadata": {
    "hidden": true
   },
   "outputs": [
    {
     "data": {
      "text/html": [
       "<div>\n",
       "<style scoped>\n",
       "    .dataframe tbody tr th:only-of-type {\n",
       "        vertical-align: middle;\n",
       "    }\n",
       "\n",
       "    .dataframe tbody tr th {\n",
       "        vertical-align: top;\n",
       "    }\n",
       "\n",
       "    .dataframe thead th {\n",
       "        text-align: right;\n",
       "    }\n",
       "</style>\n",
       "<table border=\"1\" class=\"dataframe\">\n",
       "  <thead>\n",
       "    <tr style=\"text-align: right;\">\n",
       "      <th></th>\n",
       "      <th>SchoolName</th>\n",
       "      <th>TestRITScore_x</th>\n",
       "      <th>TestRITScore_y</th>\n",
       "      <th>Change</th>\n",
       "    </tr>\n",
       "  </thead>\n",
       "  <tbody>\n",
       "    <tr>\n",
       "      <th>139</th>\n",
       "      <td>John W Carpenter Elementary School</td>\n",
       "      <td>174.656566</td>\n",
       "      <td>163.567376</td>\n",
       "      <td>-11.089190</td>\n",
       "    </tr>\n",
       "    <tr>\n",
       "      <th>138</th>\n",
       "      <td>James Bowie Elementary School</td>\n",
       "      <td>174.557576</td>\n",
       "      <td>165.741573</td>\n",
       "      <td>-8.816003</td>\n",
       "    </tr>\n",
       "    <tr>\n",
       "      <th>147</th>\n",
       "      <td>Stevens Park Elementary School</td>\n",
       "      <td>181.482877</td>\n",
       "      <td>177.389058</td>\n",
       "      <td>-4.093819</td>\n",
       "    </tr>\n",
       "    <tr>\n",
       "      <th>135</th>\n",
       "      <td>Frank Guzick Elementary School</td>\n",
       "      <td>172.837121</td>\n",
       "      <td>169.528529</td>\n",
       "      <td>-3.308593</td>\n",
       "    </tr>\n",
       "    <tr>\n",
       "      <th>130</th>\n",
       "      <td>Charles A Gill Elementary School</td>\n",
       "      <td>170.871528</td>\n",
       "      <td>168.486979</td>\n",
       "      <td>-2.384549</td>\n",
       "    </tr>\n",
       "    <tr>\n",
       "      <th>...</th>\n",
       "      <td>...</td>\n",
       "      <td>...</td>\n",
       "      <td>...</td>\n",
       "      <td>...</td>\n",
       "    </tr>\n",
       "    <tr>\n",
       "      <th>6</th>\n",
       "      <td>Elisha M Pease Elementary School</td>\n",
       "      <td>153.337079</td>\n",
       "      <td>169.257895</td>\n",
       "      <td>15.920816</td>\n",
       "    </tr>\n",
       "    <tr>\n",
       "      <th>50</th>\n",
       "      <td>W A Blair Elementary School</td>\n",
       "      <td>159.158879</td>\n",
       "      <td>175.206278</td>\n",
       "      <td>16.047400</td>\n",
       "    </tr>\n",
       "    <tr>\n",
       "      <th>80</th>\n",
       "      <td>Louise Wolff Kahn Elementary School</td>\n",
       "      <td>161.759450</td>\n",
       "      <td>178.037162</td>\n",
       "      <td>16.277712</td>\n",
       "    </tr>\n",
       "    <tr>\n",
       "      <th>25</th>\n",
       "      <td>Martin Luther King Jr Learning Center</td>\n",
       "      <td>157.333333</td>\n",
       "      <td>NaN</td>\n",
       "      <td>NaN</td>\n",
       "    </tr>\n",
       "    <tr>\n",
       "      <th>142</th>\n",
       "      <td>Mark Twain Leadership Vanguard</td>\n",
       "      <td>176.432000</td>\n",
       "      <td>NaN</td>\n",
       "      <td>NaN</td>\n",
       "    </tr>\n",
       "  </tbody>\n",
       "</table>\n",
       "<p>149 rows × 4 columns</p>\n",
       "</div>"
      ],
      "text/plain": [
       "                                SchoolName  TestRITScore_x  TestRITScore_y  \\\n",
       "139     John W Carpenter Elementary School      174.656566      163.567376   \n",
       "138          James Bowie Elementary School      174.557576      165.741573   \n",
       "147         Stevens Park Elementary School      181.482877      177.389058   \n",
       "135         Frank Guzick Elementary School      172.837121      169.528529   \n",
       "130       Charles A Gill Elementary School      170.871528      168.486979   \n",
       "..                                     ...             ...             ...   \n",
       "6         Elisha M Pease Elementary School      153.337079      169.257895   \n",
       "50             W A Blair Elementary School      159.158879      175.206278   \n",
       "80     Louise Wolff Kahn Elementary School      161.759450      178.037162   \n",
       "25   Martin Luther King Jr Learning Center      157.333333             NaN   \n",
       "142         Mark Twain Leadership Vanguard      176.432000             NaN   \n",
       "\n",
       "        Change  \n",
       "139 -11.089190  \n",
       "138  -8.816003  \n",
       "147  -4.093819  \n",
       "135  -3.308593  \n",
       "130  -2.384549  \n",
       "..         ...  \n",
       "6    15.920816  \n",
       "50   16.047400  \n",
       "80   16.277712  \n",
       "25         NaN  \n",
       "142        NaN  \n",
       "\n",
       "[149 rows x 4 columns]"
      ]
     },
     "execution_count": 329,
     "metadata": {},
     "output_type": "execute_result"
    }
   ],
   "source": [
    "merged_left.sort_values(by=['Change'])"
   ]
  }
 ],
 "metadata": {
  "kernelspec": {
   "display_name": "Python 3",
   "language": "python",
   "name": "python3"
  },
  "language_info": {
   "codemirror_mode": {
    "name": "ipython",
    "version": 3
   },
   "file_extension": ".py",
   "mimetype": "text/x-python",
   "name": "python",
   "nbconvert_exporter": "python",
   "pygments_lexer": "ipython3",
   "version": "3.8.3"
  },
  "toc": {
   "base_numbering": 1,
   "nav_menu": {},
   "number_sections": true,
   "sideBar": true,
   "skip_h1_title": false,
   "title_cell": "Table of Contents",
   "title_sidebar": "Contents",
   "toc_cell": false,
   "toc_position": {},
   "toc_section_display": true,
   "toc_window_display": false
  }
 },
 "nbformat": 4,
 "nbformat_minor": 4
}
